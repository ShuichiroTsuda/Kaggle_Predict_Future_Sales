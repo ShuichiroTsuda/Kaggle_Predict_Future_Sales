{
  "nbformat": 4,
  "nbformat_minor": 0,
  "metadata": {
    "colab": {
      "name": "Predict_Future_Sales2.ipynb",
      "provenance": [],
      "collapsed_sections": [],
      "machine_shape": "hm",
      "authorship_tag": "ABX9TyNmCRzOXzfnG+DJ0gOXPpgI",
      "include_colab_link": true
    },
    "kernelspec": {
      "name": "python3",
      "display_name": "Python 3"
    },
    "accelerator": "GPU"
  },
  "cells": [
    {
      "cell_type": "markdown",
      "metadata": {
        "id": "view-in-github",
        "colab_type": "text"
      },
      "source": [
        "<a href=\"https://colab.research.google.com/github/ShuichiroTsuda/Kaggle_Predict_Future_Sales/blob/master/Predict_Future_Sales2.ipynb\" target=\"_parent\"><img src=\"https://colab.research.google.com/assets/colab-badge.svg\" alt=\"Open In Colab\"/></a>"
      ]
    },
    {
      "cell_type": "markdown",
      "metadata": {
        "id": "zFgG7Fjkgn8L",
        "colab_type": "text"
      },
      "source": [
        "## Download Datasets"
      ]
    },
    {
      "cell_type": "code",
      "metadata": {
        "id": "V6R2YW0bymzd",
        "colab_type": "code",
        "outputId": "acf4ed90-ec0b-4734-a5e4-e0d3b63c976e",
        "colab": {
          "base_uri": "https://localhost:8080/",
          "height": 34
        }
      },
      "source": [
        "from googleapiclient.discovery import build\n",
        "import io, os\n",
        "from googleapiclient.http import MediaIoBaseDownload\n",
        "from google.colab import auth\n",
        "import time\n",
        "\n",
        "auth.authenticate_user()\n",
        "\n",
        "drive_service = build('drive', 'v3')\n",
        "results = drive_service.files().list(\n",
        "        q=\"name = 'kaggle.json'\", fields=\"files(id)\").execute()\n",
        "kaggle_api_key = results.get('files', [])\n",
        "\n",
        "filename = \"/root/.kaggle/kaggle.json\"\n",
        "os.makedirs(os.path.dirname(filename), exist_ok=True)\n",
        "\n",
        "request = drive_service.files().get_media(fileId=kaggle_api_key[0]['id'])\n",
        "fh = io.FileIO(filename, 'wb')\n",
        "downloader = MediaIoBaseDownload(fh, request)\n",
        "done = False\n",
        "while done is False:\n",
        "    status, done = downloader.next_chunk()\n",
        "    print(\"Download %d%%.\" % int(status.progress() * 100))\n",
        "os.chmod(filename, 600)\n"
      ],
      "execution_count": 2,
      "outputs": [
        {
          "output_type": "stream",
          "text": [
            "Download 100%.\n"
          ],
          "name": "stdout"
        }
      ]
    },
    {
      "cell_type": "code",
      "metadata": {
        "id": "qJNnKL6TMUvx",
        "colab_type": "code",
        "outputId": "305d2ac4-5b55-4c3b-b11f-1b0db53e77a5",
        "colab": {
          "base_uri": "https://localhost:8080/",
          "height": 369
        }
      },
      "source": [
        "!kaggle competitions download -c competitive-data-science-predict-future-sales"
      ],
      "execution_count": 3,
      "outputs": [
        {
          "output_type": "stream",
          "text": [
            "Warning: Looks like you're using an outdated API Version, please consider updating (server 1.5.6 / client 1.5.4)\n",
            "Downloading sales_train.csv.zip to /content\n",
            "  0% 0.00/13.3M [00:00<?, ?B/s]\n",
            "100% 13.3M/13.3M [00:00<00:00, 123MB/s]\n",
            "Downloading sample_submission.csv.zip to /content\n",
            "  0% 0.00/468k [00:00<?, ?B/s]\n",
            "100% 468k/468k [00:00<00:00, 152MB/s]\n",
            "Downloading item_categories.csv to /content\n",
            "  0% 0.00/3.49k [00:00<?, ?B/s]\n",
            "100% 3.49k/3.49k [00:00<00:00, 3.40MB/s]\n",
            "Downloading test.csv.zip to /content\n",
            "  0% 0.00/1.02M [00:00<?, ?B/s]\n",
            "100% 1.02M/1.02M [00:00<00:00, 145MB/s]\n",
            "Downloading shops.csv to /content\n",
            "  0% 0.00/2.91k [00:00<?, ?B/s]\n",
            "100% 2.91k/2.91k [00:00<00:00, 2.91MB/s]\n",
            "Downloading items.csv.zip to /content\n",
            "  0% 0.00/368k [00:00<?, ?B/s]\n",
            "100% 368k/368k [00:00<00:00, 119MB/s]\n"
          ],
          "name": "stdout"
        }
      ]
    },
    {
      "cell_type": "code",
      "metadata": {
        "id": "oytscmMLPjDx",
        "colab_type": "code",
        "outputId": "58c9bbed-96cd-4959-f131-ad8edf712dd0",
        "colab": {
          "base_uri": "https://localhost:8080/",
          "height": 157
        }
      },
      "source": [
        "!unzip items.csv.zip \n",
        "!unzip sample_submission.csv.zip \n",
        "!unzip sales_train.csv.zip\n",
        "!unzip test.csv.zip"
      ],
      "execution_count": 4,
      "outputs": [
        {
          "output_type": "stream",
          "text": [
            "Archive:  items.csv.zip\n",
            "  inflating: items.csv               \n",
            "Archive:  sample_submission.csv.zip\n",
            "  inflating: sample_submission.csv   \n",
            "Archive:  sales_train.csv.zip\n",
            "  inflating: sales_train.csv         \n",
            "Archive:  test.csv.zip\n",
            "  inflating: test.csv                \n"
          ],
          "name": "stdout"
        }
      ]
    },
    {
      "cell_type": "markdown",
      "metadata": {
        "id": "T72YM-AYgyEU",
        "colab_type": "text"
      },
      "source": [
        "## Dependencies"
      ]
    },
    {
      "cell_type": "code",
      "metadata": {
        "id": "EZVh_42CXOFx",
        "colab_type": "code",
        "outputId": "49ba0a81-de5c-451d-811f-4b6fc62085e5",
        "colab": {
          "base_uri": "https://localhost:8080/",
          "height": 369
        }
      },
      "source": [
        "!pip install catboost"
      ],
      "execution_count": 5,
      "outputs": [
        {
          "output_type": "stream",
          "text": [
            "Collecting catboost\n",
            "\u001b[?25l  Downloading https://files.pythonhosted.org/packages/94/ec/12b9a42b2ea7dfe5b602f235692ab2b61ee1334ff34334a15902272869e8/catboost-0.22-cp36-none-manylinux1_x86_64.whl (64.4MB)\n",
            "\u001b[K     |████████████████████████████████| 64.4MB 47kB/s \n",
            "\u001b[?25hRequirement already satisfied: numpy>=1.16.0 in /usr/local/lib/python3.6/dist-packages (from catboost) (1.17.5)\n",
            "Requirement already satisfied: scipy in /usr/local/lib/python3.6/dist-packages (from catboost) (1.4.1)\n",
            "Requirement already satisfied: plotly in /usr/local/lib/python3.6/dist-packages (from catboost) (4.4.1)\n",
            "Requirement already satisfied: graphviz in /usr/local/lib/python3.6/dist-packages (from catboost) (0.10.1)\n",
            "Requirement already satisfied: matplotlib in /usr/local/lib/python3.6/dist-packages (from catboost) (3.1.3)\n",
            "Requirement already satisfied: six in /usr/local/lib/python3.6/dist-packages (from catboost) (1.12.0)\n",
            "Requirement already satisfied: pandas>=0.24.0 in /usr/local/lib/python3.6/dist-packages (from catboost) (0.25.3)\n",
            "Requirement already satisfied: retrying>=1.3.3 in /usr/local/lib/python3.6/dist-packages (from plotly->catboost) (1.3.3)\n",
            "Requirement already satisfied: pyparsing!=2.0.4,!=2.1.2,!=2.1.6,>=2.0.1 in /usr/local/lib/python3.6/dist-packages (from matplotlib->catboost) (2.4.6)\n",
            "Requirement already satisfied: kiwisolver>=1.0.1 in /usr/local/lib/python3.6/dist-packages (from matplotlib->catboost) (1.1.0)\n",
            "Requirement already satisfied: python-dateutil>=2.1 in /usr/local/lib/python3.6/dist-packages (from matplotlib->catboost) (2.6.1)\n",
            "Requirement already satisfied: cycler>=0.10 in /usr/local/lib/python3.6/dist-packages (from matplotlib->catboost) (0.10.0)\n",
            "Requirement already satisfied: pytz>=2017.2 in /usr/local/lib/python3.6/dist-packages (from pandas>=0.24.0->catboost) (2018.9)\n",
            "Requirement already satisfied: setuptools in /usr/local/lib/python3.6/dist-packages (from kiwisolver>=1.0.1->matplotlib->catboost) (45.2.0)\n",
            "Installing collected packages: catboost\n",
            "Successfully installed catboost-0.22\n"
          ],
          "name": "stdout"
        }
      ]
    },
    {
      "cell_type": "code",
      "metadata": {
        "id": "HJoJuavmDdZP",
        "colab_type": "code",
        "colab": {}
      },
      "source": [
        "import datetime\n",
        "import warnings\n",
        "import numpy as np\n",
        "import pandas as pd\n",
        "import seaborn as sns\n",
        "import matplotlib.pyplot as plt\n",
        "import catboost\n",
        "from catboost import Pool\n",
        "from catboost import CatBoostRegressor\n",
        "from xgboost import XGBRegressor\n",
        "from xgboost import plot_importance\n",
        "from sklearn.metrics import mean_squared_error\n",
        "from sklearn.linear_model import LinearRegression\n",
        "from sklearn.neighbors import KNeighborsRegressor\n",
        "from sklearn.ensemble import RandomForestRegressor\n",
        "from sklearn.preprocessing import StandardScaler, MinMaxScaler\n",
        "\n",
        "%matplotlib inline\n",
        "sns.set(style=\"darkgrid\")\n",
        "pd.set_option('display.float_format', lambda x: '%.2f' % x)\n",
        "warnings.filterwarnings(\"ignore\")"
      ],
      "execution_count": 0,
      "outputs": []
    },
    {
      "cell_type": "markdown",
      "metadata": {
        "id": "faCym047g8Ss",
        "colab_type": "text"
      },
      "source": [
        "## Loading Data"
      ]
    },
    {
      "cell_type": "code",
      "metadata": {
        "id": "omOgWlLPLbcB",
        "colab_type": "code",
        "colab": {}
      },
      "source": [
        "test = pd.read_csv('test.csv', \n",
        "                   dtype={'ID': 'int32', 'shop_id': 'int32', 'item_id': 'int32'})\n",
        "item_categories = pd.read_csv('item_categories.csv', \n",
        "                              dtype={'item_category_name': 'str', 'item_category_id': 'int32'})\n",
        "items = pd.read_csv('items.csv', \n",
        "                    dtype={'item_name': 'str', 'item_id': 'int32','item_category_id': 'int32'})\n",
        "shops = pd.read_csv('shops.csv', \n",
        "                    dtype={'shop_name': 'str', 'shop_id': 'int32'})\n",
        "sales = pd.read_csv('sales_train.csv', \n",
        "                    parse_dates=['date'], \n",
        "                    dtype={'date': 'str', 'date_block_num': 'int32', 'shop_id': 'int32', 'item_id': 'int32', 'item_price': 'float32', 'item_cnt_day': 'int32'})"
      ],
      "execution_count": 0,
      "outputs": []
    },
    {
      "cell_type": "code",
      "metadata": {
        "id": "HxZbSs6_RCQD",
        "colab_type": "code",
        "outputId": "50d5e510-f97d-4ce6-c09c-b9df1831dabf",
        "colab": {
          "base_uri": "https://localhost:8080/",
          "height": 122
        }
      },
      "source": [
        "print(test.head())"
      ],
      "execution_count": 8,
      "outputs": [
        {
          "output_type": "stream",
          "text": [
            "   ID  shop_id  item_id\n",
            "0   0        5     5037\n",
            "1   1        5     5320\n",
            "2   2        5     5233\n",
            "3   3        5     5232\n",
            "4   4        5     5268\n"
          ],
          "name": "stdout"
        }
      ]
    },
    {
      "cell_type": "code",
      "metadata": {
        "id": "vkTBf6O2Ry-z",
        "colab_type": "code",
        "outputId": "a829b1f7-617e-4dcd-9ff5-abc44cb1c94f",
        "colab": {
          "base_uri": "https://localhost:8080/",
          "height": 122
        }
      },
      "source": [
        "print(item_categories.head())"
      ],
      "execution_count": 9,
      "outputs": [
        {
          "output_type": "stream",
          "text": [
            "        item_category_name  item_category_id\n",
            "0  PC - Гарнитуры/Наушники                 0\n",
            "1         Аксессуары - PS2                 1\n",
            "2         Аксессуары - PS3                 2\n",
            "3         Аксессуары - PS4                 3\n",
            "4         Аксессуары - PSP                 4\n"
          ],
          "name": "stdout"
        }
      ]
    },
    {
      "cell_type": "code",
      "metadata": {
        "id": "teFqjS9nR1ue",
        "colab_type": "code",
        "outputId": "6f86f87d-17a1-4449-d6f1-1bbcff87b370",
        "colab": {
          "base_uri": "https://localhost:8080/",
          "height": 142
        }
      },
      "source": [
        "print(items.head())"
      ],
      "execution_count": 10,
      "outputs": [
        {
          "output_type": "stream",
          "text": [
            "                                           item_name  item_id  item_category_id\n",
            "0          ! ВО ВЛАСТИ НАВАЖДЕНИЯ (ПЛАСТ.)         D        0                40\n",
            "1  !ABBYY FineReader 12 Professional Edition Full...        1                76\n",
            "2      ***В ЛУЧАХ СЛАВЫ   (UNV)                    D        2                40\n",
            "3    ***ГОЛУБАЯ ВОЛНА  (Univ)                      D        3                40\n",
            "4        ***КОРОБКА (СТЕКЛО)                       D        4                40\n"
          ],
          "name": "stdout"
        }
      ]
    },
    {
      "cell_type": "code",
      "metadata": {
        "id": "b6hAjQJ1SFIT",
        "colab_type": "code",
        "outputId": "021e5f86-a54d-4ea0-e7fe-be69a63b0599",
        "colab": {
          "base_uri": "https://localhost:8080/",
          "height": 122
        }
      },
      "source": [
        "print(shops.head())"
      ],
      "execution_count": 11,
      "outputs": [
        {
          "output_type": "stream",
          "text": [
            "                        shop_name  shop_id\n",
            "0   !Якутск Орджоникидзе, 56 фран        0\n",
            "1   !Якутск ТЦ \"Центральный\" фран        1\n",
            "2                Адыгея ТЦ \"Мега\"        2\n",
            "3  Балашиха ТРК \"Октябрь-Киномир\"        3\n",
            "4        Волжский ТЦ \"Волга Молл\"        4\n"
          ],
          "name": "stdout"
        }
      ]
    },
    {
      "cell_type": "code",
      "metadata": {
        "id": "_lbhkthISWXv",
        "colab_type": "code",
        "outputId": "82fd1b33-a056-468f-a0bd-889f4b20683e",
        "colab": {
          "base_uri": "https://localhost:8080/",
          "height": 122
        }
      },
      "source": [
        "print(sales.head())"
      ],
      "execution_count": 12,
      "outputs": [
        {
          "output_type": "stream",
          "text": [
            "        date  date_block_num  shop_id  item_id  item_price  item_cnt_day\n",
            "0 2013-02-01               0       59    22154      999.00             1\n",
            "1 2013-03-01               0       25     2552      899.00             1\n",
            "2 2013-05-01               0       25     2552      899.00            -1\n",
            "3 2013-06-01               0       25     2554     1709.05             1\n",
            "4 2013-01-15               0       25     2555     1099.00             1\n"
          ],
          "name": "stdout"
        }
      ]
    },
    {
      "cell_type": "markdown",
      "metadata": {
        "id": "94c_TltkhNLJ",
        "colab_type": "text"
      },
      "source": [
        "## Join Datasets"
      ]
    },
    {
      "cell_type": "code",
      "metadata": {
        "id": "NMe0jc9DSaOA",
        "colab_type": "code",
        "colab": {}
      },
      "source": [
        "train = sales.join(items, on='item_id', rsuffix='_').join(shops, on='shop_id', rsuffix='_').join(item_categories, on='item_category_id', rsuffix='_').drop(['item_id_', 'shop_id_', 'item_category_id_'], axis=1)"
      ],
      "execution_count": 0,
      "outputs": []
    },
    {
      "cell_type": "code",
      "metadata": {
        "id": "uXtqL8s3VSBE",
        "colab_type": "code",
        "outputId": "1388e97e-73c3-4c16-aea7-71418ad76856",
        "colab": {
          "base_uri": "https://localhost:8080/",
          "height": 517
        }
      },
      "source": [
        "train.head()"
      ],
      "execution_count": 14,
      "outputs": [
        {
          "output_type": "execute_result",
          "data": {
            "text/html": [
              "<div>\n",
              "<style scoped>\n",
              "    .dataframe tbody tr th:only-of-type {\n",
              "        vertical-align: middle;\n",
              "    }\n",
              "\n",
              "    .dataframe tbody tr th {\n",
              "        vertical-align: top;\n",
              "    }\n",
              "\n",
              "    .dataframe thead th {\n",
              "        text-align: right;\n",
              "    }\n",
              "</style>\n",
              "<table border=\"1\" class=\"dataframe\">\n",
              "  <thead>\n",
              "    <tr style=\"text-align: right;\">\n",
              "      <th></th>\n",
              "      <th>date</th>\n",
              "      <th>date_block_num</th>\n",
              "      <th>shop_id</th>\n",
              "      <th>item_id</th>\n",
              "      <th>item_price</th>\n",
              "      <th>item_cnt_day</th>\n",
              "      <th>item_name</th>\n",
              "      <th>item_category_id</th>\n",
              "      <th>shop_name</th>\n",
              "      <th>item_category_name</th>\n",
              "    </tr>\n",
              "  </thead>\n",
              "  <tbody>\n",
              "    <tr>\n",
              "      <th>0</th>\n",
              "      <td>2013-02-01</td>\n",
              "      <td>0</td>\n",
              "      <td>59</td>\n",
              "      <td>22154</td>\n",
              "      <td>999.00</td>\n",
              "      <td>1</td>\n",
              "      <td>ЯВЛЕНИЕ 2012 (BD)</td>\n",
              "      <td>37</td>\n",
              "      <td>Ярославль ТЦ \"Альтаир\"</td>\n",
              "      <td>Кино - Blu-Ray</td>\n",
              "    </tr>\n",
              "    <tr>\n",
              "      <th>1</th>\n",
              "      <td>2013-03-01</td>\n",
              "      <td>0</td>\n",
              "      <td>25</td>\n",
              "      <td>2552</td>\n",
              "      <td>899.00</td>\n",
              "      <td>1</td>\n",
              "      <td>DEEP PURPLE  The House Of Blue Light  LP</td>\n",
              "      <td>58</td>\n",
              "      <td>Москва ТРК \"Атриум\"</td>\n",
              "      <td>Музыка - Винил</td>\n",
              "    </tr>\n",
              "    <tr>\n",
              "      <th>2</th>\n",
              "      <td>2013-05-01</td>\n",
              "      <td>0</td>\n",
              "      <td>25</td>\n",
              "      <td>2552</td>\n",
              "      <td>899.00</td>\n",
              "      <td>-1</td>\n",
              "      <td>DEEP PURPLE  The House Of Blue Light  LP</td>\n",
              "      <td>58</td>\n",
              "      <td>Москва ТРК \"Атриум\"</td>\n",
              "      <td>Музыка - Винил</td>\n",
              "    </tr>\n",
              "    <tr>\n",
              "      <th>3</th>\n",
              "      <td>2013-06-01</td>\n",
              "      <td>0</td>\n",
              "      <td>25</td>\n",
              "      <td>2554</td>\n",
              "      <td>1709.05</td>\n",
              "      <td>1</td>\n",
              "      <td>DEEP PURPLE  Who Do You Think We Are  LP</td>\n",
              "      <td>58</td>\n",
              "      <td>Москва ТРК \"Атриум\"</td>\n",
              "      <td>Музыка - Винил</td>\n",
              "    </tr>\n",
              "    <tr>\n",
              "      <th>4</th>\n",
              "      <td>2013-01-15</td>\n",
              "      <td>0</td>\n",
              "      <td>25</td>\n",
              "      <td>2555</td>\n",
              "      <td>1099.00</td>\n",
              "      <td>1</td>\n",
              "      <td>DEEP PURPLE 30 Very Best Of 2CD (Фирм.)</td>\n",
              "      <td>56</td>\n",
              "      <td>Москва ТРК \"Атриум\"</td>\n",
              "      <td>Музыка - CD фирменного производства</td>\n",
              "    </tr>\n",
              "  </tbody>\n",
              "</table>\n",
              "</div>"
            ],
            "text/plain": [
              "        date  ...                   item_category_name\n",
              "0 2013-02-01  ...                       Кино - Blu-Ray\n",
              "1 2013-03-01  ...                       Музыка - Винил\n",
              "2 2013-05-01  ...                       Музыка - Винил\n",
              "3 2013-06-01  ...                       Музыка - Винил\n",
              "4 2013-01-15  ...  Музыка - CD фирменного производства\n",
              "\n",
              "[5 rows x 10 columns]"
            ]
          },
          "metadata": {
            "tags": []
          },
          "execution_count": 14
        }
      ]
    },
    {
      "cell_type": "code",
      "metadata": {
        "id": "woDK2V0KYvPu",
        "colab_type": "code",
        "outputId": "8c2c61fa-6b0f-4dd9-fcea-f0499faaf41f",
        "colab": {
          "base_uri": "https://localhost:8080/",
          "height": 307
        }
      },
      "source": [
        "train.describe()"
      ],
      "execution_count": 15,
      "outputs": [
        {
          "output_type": "execute_result",
          "data": {
            "text/html": [
              "<div>\n",
              "<style scoped>\n",
              "    .dataframe tbody tr th:only-of-type {\n",
              "        vertical-align: middle;\n",
              "    }\n",
              "\n",
              "    .dataframe tbody tr th {\n",
              "        vertical-align: top;\n",
              "    }\n",
              "\n",
              "    .dataframe thead th {\n",
              "        text-align: right;\n",
              "    }\n",
              "</style>\n",
              "<table border=\"1\" class=\"dataframe\">\n",
              "  <thead>\n",
              "    <tr style=\"text-align: right;\">\n",
              "      <th></th>\n",
              "      <th>date_block_num</th>\n",
              "      <th>shop_id</th>\n",
              "      <th>item_id</th>\n",
              "      <th>item_price</th>\n",
              "      <th>item_cnt_day</th>\n",
              "      <th>item_category_id</th>\n",
              "    </tr>\n",
              "  </thead>\n",
              "  <tbody>\n",
              "    <tr>\n",
              "      <th>count</th>\n",
              "      <td>2935849.00</td>\n",
              "      <td>2935849.00</td>\n",
              "      <td>2935849.00</td>\n",
              "      <td>2935849.00</td>\n",
              "      <td>2935849.00</td>\n",
              "      <td>2935849.00</td>\n",
              "    </tr>\n",
              "    <tr>\n",
              "      <th>mean</th>\n",
              "      <td>14.57</td>\n",
              "      <td>33.00</td>\n",
              "      <td>10197.23</td>\n",
              "      <td>890.62</td>\n",
              "      <td>1.24</td>\n",
              "      <td>40.00</td>\n",
              "    </tr>\n",
              "    <tr>\n",
              "      <th>std</th>\n",
              "      <td>9.42</td>\n",
              "      <td>16.23</td>\n",
              "      <td>6324.30</td>\n",
              "      <td>1726.44</td>\n",
              "      <td>2.62</td>\n",
              "      <td>17.10</td>\n",
              "    </tr>\n",
              "    <tr>\n",
              "      <th>min</th>\n",
              "      <td>0.00</td>\n",
              "      <td>0.00</td>\n",
              "      <td>0.00</td>\n",
              "      <td>-1.00</td>\n",
              "      <td>-22.00</td>\n",
              "      <td>0.00</td>\n",
              "    </tr>\n",
              "    <tr>\n",
              "      <th>25%</th>\n",
              "      <td>7.00</td>\n",
              "      <td>22.00</td>\n",
              "      <td>4476.00</td>\n",
              "      <td>249.00</td>\n",
              "      <td>1.00</td>\n",
              "      <td>28.00</td>\n",
              "    </tr>\n",
              "    <tr>\n",
              "      <th>50%</th>\n",
              "      <td>14.00</td>\n",
              "      <td>31.00</td>\n",
              "      <td>9343.00</td>\n",
              "      <td>399.00</td>\n",
              "      <td>1.00</td>\n",
              "      <td>40.00</td>\n",
              "    </tr>\n",
              "    <tr>\n",
              "      <th>75%</th>\n",
              "      <td>23.00</td>\n",
              "      <td>47.00</td>\n",
              "      <td>15684.00</td>\n",
              "      <td>999.00</td>\n",
              "      <td>1.00</td>\n",
              "      <td>55.00</td>\n",
              "    </tr>\n",
              "    <tr>\n",
              "      <th>max</th>\n",
              "      <td>33.00</td>\n",
              "      <td>59.00</td>\n",
              "      <td>22169.00</td>\n",
              "      <td>307980.00</td>\n",
              "      <td>2169.00</td>\n",
              "      <td>83.00</td>\n",
              "    </tr>\n",
              "  </tbody>\n",
              "</table>\n",
              "</div>"
            ],
            "text/plain": [
              "       date_block_num    shop_id  ...  item_cnt_day  item_category_id\n",
              "count      2935849.00 2935849.00  ...    2935849.00        2935849.00\n",
              "mean            14.57      33.00  ...          1.24             40.00\n",
              "std              9.42      16.23  ...          2.62             17.10\n",
              "min              0.00       0.00  ...        -22.00              0.00\n",
              "25%              7.00      22.00  ...          1.00             28.00\n",
              "50%             14.00      31.00  ...          1.00             40.00\n",
              "75%             23.00      47.00  ...          1.00             55.00\n",
              "max             33.00      59.00  ...       2169.00             83.00\n",
              "\n",
              "[8 rows x 6 columns]"
            ]
          },
          "metadata": {
            "tags": []
          },
          "execution_count": 15
        }
      ]
    },
    {
      "cell_type": "markdown",
      "metadata": {
        "id": "lmwi5BRAhb9o",
        "colab_type": "text"
      },
      "source": [
        "## Time Period"
      ]
    },
    {
      "cell_type": "code",
      "metadata": {
        "id": "6a3I5Fo5ZjH-",
        "colab_type": "code",
        "outputId": "eee750bc-4f89-4eee-c4c6-d8d101f9f4c2",
        "colab": {
          "base_uri": "https://localhost:8080/",
          "height": 52
        }
      },
      "source": [
        "print('Min date from train set: %s' % train['date'].min().date())\n",
        "print('Max date from train set: %s' % train['date'].max().date())"
      ],
      "execution_count": 16,
      "outputs": [
        {
          "output_type": "stream",
          "text": [
            "Min date from train set: 2013-01-01\n",
            "Max date from train set: 2015-12-10\n"
          ],
          "name": "stdout"
        }
      ]
    },
    {
      "cell_type": "markdown",
      "metadata": {
        "id": "EVIBQgq-h716",
        "colab_type": "text"
      },
      "source": [
        "## Data Leakages\n",
        "I use only the \"shop_id\" and \"item_id\" that appear on the test set."
      ]
    },
    {
      "cell_type": "code",
      "metadata": {
        "id": "R26HiGqlaYte",
        "colab_type": "code",
        "colab": {}
      },
      "source": [
        "test_shop_ids = test['shop_id'].unique()\n",
        "test_item_ids = test['item_id'].unique()\n",
        "\n",
        "lk_train = train[train['shop_id'].isin(test_shop_ids)]\n",
        "lk_train = lk_train[lk_train['item_id'].isin(test_item_ids)]"
      ],
      "execution_count": 0,
      "outputs": []
    },
    {
      "cell_type": "code",
      "metadata": {
        "id": "_KFCB-T6bfpH",
        "colab_type": "code",
        "outputId": "556e8da2-bc25-40b5-c0c5-eddf132b74e1",
        "colab": {
          "base_uri": "https://localhost:8080/",
          "height": 52
        }
      },
      "source": [
        "print('Data set size before leaking:', train.shape[0])\n",
        "print('Data set size after leaking:', lk_train.shape[0])"
      ],
      "execution_count": 18,
      "outputs": [
        {
          "output_type": "stream",
          "text": [
            "Data set size before leaking: 2935849\n",
            "Data set size after leaking: 1224439\n"
          ],
          "name": "stdout"
        }
      ]
    },
    {
      "cell_type": "markdown",
      "metadata": {
        "id": "gUxLjgc-qLmV",
        "colab_type": "text"
      },
      "source": [
        "## Data Preprocesssing\n",
        "I dropped \n",
        "- the data with \"item_price <= 0\".\n",
        "- the text features.\n",
        "\n",
        "I aggregate the data by month."
      ]
    },
    {
      "cell_type": "code",
      "metadata": {
        "id": "mIMgWjQMk5DP",
        "colab_type": "code",
        "colab": {}
      },
      "source": [
        "train = train.query('item_price > 0')"
      ],
      "execution_count": 0,
      "outputs": []
    },
    {
      "cell_type": "code",
      "metadata": {
        "id": "Uu-CXe7lqWRH",
        "colab_type": "code",
        "colab": {}
      },
      "source": [
        "train_monthly = lk_train[['date', 'date_block_num', 'shop_id', 'item_category_id', 'item_id', 'item_price', 'item_cnt_day']]"
      ],
      "execution_count": 0,
      "outputs": []
    },
    {
      "cell_type": "code",
      "metadata": {
        "id": "3fPwhRc6qp9T",
        "colab_type": "code",
        "colab": {}
      },
      "source": [
        "train_monthly = train_monthly.sort_values('date').groupby(['date_block_num', 'shop_id', 'item_category_id', 'item_id'], as_index=False)\n",
        "train_monthly = train_monthly.agg({'item_price':['sum', 'mean'], 'item_cnt_day':['sum', 'mean','count']})\n",
        "train_monthly.columns = ['date_block_num', 'shop_id', 'item_category_id', 'item_id', 'item_price', 'mean_item_price', 'item_cnt', 'mean_item_cnt', 'transactions']"
      ],
      "execution_count": 0,
      "outputs": []
    },
    {
      "cell_type": "code",
      "metadata": {
        "id": "hY-5I0qpKiLC",
        "colab_type": "code",
        "colab": {}
      },
      "source": [
        "# Build a data set with all the possible combinations of ['date_block_num','shop_id','item_id'] so we won't have missing records.\n",
        "shop_ids = train_monthly['shop_id'].unique()\n",
        "item_ids = train_monthly['item_id'].unique()\n",
        "empty_df = []\n",
        "for i in range(34):\n",
        "    for shop in shop_ids:\n",
        "        for item in item_ids:\n",
        "            empty_df.append([i, shop, item])\n",
        "    \n",
        "empty_df = pd.DataFrame(empty_df, columns=['date_block_num','shop_id','item_id'])\n",
        "\n",
        "# Merge the train set with the complete set (missing records will be filled with 0).\n",
        "train_monthly = pd.merge(empty_df, train_monthly, on=['date_block_num','shop_id','item_id'], how='left')\n",
        "train_monthly.fillna(0, inplace=True)\n"
      ],
      "execution_count": 0,
      "outputs": []
    },
    {
      "cell_type": "code",
      "metadata": {
        "id": "qP_f0jHOwgx7",
        "colab_type": "code",
        "colab": {}
      },
      "source": [
        "# Merge the train set with the complete set (missing records will be filled with 0).\n",
        "train_monthly = pd.merge(empty_df, train_monthly, on=['date_block_num','shop_id','item_id'], how='left')\n",
        "train_monthly.fillna(0, inplace=True)"
      ],
      "execution_count": 0,
      "outputs": []
    },
    {
      "cell_type": "code",
      "metadata": {
        "id": "y-Thmriw1B_D",
        "colab_type": "code",
        "colab": {}
      },
      "source": [
        "# Extract time based features.\n",
        "train_monthly['year'] = train_monthly['date_block_num'].apply(lambda x: ((x//12) + 2013))\n",
        "train_monthly['month'] = train_monthly['date_block_num'].apply(lambda x: (x % 12))"
      ],
      "execution_count": 0,
      "outputs": []
    },
    {
      "cell_type": "markdown",
      "metadata": {
        "id": "H7JN-dR61HpT",
        "colab_type": "text"
      },
      "source": [
        "## Show Current Dataset"
      ]
    },
    {
      "cell_type": "code",
      "metadata": {
        "id": "HNhpJ4I8zh_H",
        "colab_type": "code",
        "outputId": "5234f5b4-58bf-4a99-fea7-acfb2ddc8350",
        "colab": {
          "base_uri": "https://localhost:8080/",
          "height": 472
        }
      },
      "source": [
        "print(train_monthly.head().T)\n",
        "print(train_monthly.describe().T)"
      ],
      "execution_count": 25,
      "outputs": [
        {
          "output_type": "stream",
          "text": [
            "                        0       1       2       3       4\n",
            "date_block_num       0.00    0.00    0.00    0.00    0.00\n",
            "shop_id              2.00    2.00    2.00    2.00    2.00\n",
            "item_id           5572.00 5643.00 5583.00 7893.00 7894.00\n",
            "item_category_id     2.00    2.00    5.00    6.00    6.00\n",
            "item_price       10730.00 4775.21 1188.30 5970.00 1490.00\n",
            "mean_item_price   1532.86 2387.60  594.15 1990.00 1490.00\n",
            "item_cnt             9.00    0.00    2.00    3.00    1.00\n",
            "mean_item_cnt        1.29    0.00    1.00    1.00    1.00\n",
            "transactions         7.00    2.00    2.00    3.00    1.00\n",
            "year              2013.00 2013.00 2013.00 2013.00 2013.00\n",
            "month                0.00    0.00    0.00    0.00    0.00\n",
            "                      count     mean     std  ...      50%      75%       max\n",
            "date_block_num   6734448.00    16.50    9.81  ...    16.50    25.00     33.00\n",
            "shop_id          6734448.00    31.64   17.56  ...    34.50    47.00     59.00\n",
            "item_id          6734448.00 11041.89 6210.74  ... 11265.50 16068.25  22167.00\n",
            "item_category_id 6734448.00     3.79   13.21  ...     0.00     0.00     83.00\n",
            "item_price       6734448.00   187.35 2171.80  ...     0.00     0.00 515573.59\n",
            "mean_item_price  6734448.00    81.13  531.16  ...     0.00     0.00  42990.00\n",
            "item_cnt         6734448.00     0.24    3.46  ...     0.00     0.00   2253.00\n",
            "mean_item_cnt    6734448.00     0.10    0.61  ...     0.00     0.00   1000.00\n",
            "transactions     6734448.00     0.18    0.90  ...     0.00     0.00     31.00\n",
            "year             6734448.00  2013.94    0.80  ...  2014.00  2015.00   2015.00\n",
            "month            6734448.00     5.21    3.32  ...     5.00     8.00     11.00\n",
            "\n",
            "[11 rows x 8 columns]\n"
          ],
          "name": "stdout"
        }
      ]
    },
    {
      "cell_type": "markdown",
      "metadata": {
        "id": "TlbhymEW3eVA",
        "colab_type": "text"
      },
      "source": [
        "## EDA"
      ]
    },
    {
      "cell_type": "code",
      "metadata": {
        "id": "-1VPBqsI2TRx",
        "colab_type": "code",
        "colab": {}
      },
      "source": [
        "# Grouping data for EDA.\n",
        "gp_month_mean = train_monthly.groupby(['month'], as_index=False)['item_cnt'].mean()\n",
        "gp_month_sum = train_monthly.groupby(['month'], as_index=False)['item_cnt'].sum()\n",
        "gp_category_mean = train_monthly.groupby(['item_category_id'], as_index=False)['item_cnt'].mean()\n",
        "gp_category_sum = train_monthly.groupby(['item_category_id'], as_index=False)['item_cnt'].sum()\n",
        "gp_shop_mean = train_monthly.groupby(['shop_id'], as_index=False)['item_cnt'].mean()\n",
        "gp_shop_sum = train_monthly.groupby(['shop_id'], as_index=False)['item_cnt'].sum()"
      ],
      "execution_count": 0,
      "outputs": []
    },
    {
      "cell_type": "markdown",
      "metadata": {
        "id": "_wAPN0KERBJ_",
        "colab_type": "text"
      },
      "source": [
        "### The behavior of sales along the year"
      ]
    },
    {
      "cell_type": "code",
      "metadata": {
        "id": "NihjoP3CGzTZ",
        "colab_type": "code",
        "outputId": "31bafeff-d0b6-4ad8-9ad7-ba1d06b619a6",
        "colab": {
          "base_uri": "https://localhost:8080/",
          "height": 647
        }
      },
      "source": [
        "f, axes = plt.subplots(2, 1, figsize=(22, 10), sharex=True)\n",
        "sns.lineplot(x=\"month\", y=\"item_cnt\", data=gp_month_mean, ax=axes[0]).set_title(\"Monthly mean\")\n",
        "sns.lineplot(x=\"month\", y=\"item_cnt\", data=gp_month_sum, ax=axes[1]).set_title(\"Monthly sum\")\n",
        "plt.show()"
      ],
      "execution_count": 27,
      "outputs": [
        {
          "output_type": "display_data",
          "data": {
            "image/png": "[encoded data removed]",
            "text/plain": [
              "<Figure size 1584x720 with 2 Axes>"
            ]
          },
          "metadata": {
            "tags": []
          }
        }
      ]
    },
    {
      "cell_type": "markdown",
      "metadata": {
        "id": "EDiwKlRLRABP",
        "colab_type": "text"
      },
      "source": [
        "### The amount of sales in regard to every category"
      ]
    },
    {
      "cell_type": "code",
      "metadata": {
        "id": "egnlS1_tRUZF",
        "colab_type": "code",
        "outputId": "c04ebe26-e233-4b23-8a90-47a8e2b2f79b",
        "colab": {
          "base_uri": "https://localhost:8080/",
          "height": 647
        }
      },
      "source": [
        "f, axes = plt.subplots(2, 1, figsize=(22, 10), sharex=True)\n",
        "sns.barplot(x=\"item_category_id\", y=\"item_cnt\", data=gp_category_mean, ax=axes[0], palette=\"rocket\").set_title(\"Monthly mean\")\n",
        "sns.barplot(x=\"item_category_id\", y=\"item_cnt\", data=gp_category_sum, ax=axes[1], palette=\"rocket\").set_title(\"Monthly sum\")\n",
        "plt.show()"
      ],
      "execution_count": 28,
      "outputs": [
        {
          "output_type": "display_data",
          "data": {
            "image/png": "[encoded data removed]",
            "text/plain": [
              "<Figure size 1584x720 with 2 Axes>"
            ]
          },
          "metadata": {
            "tags": []
          }
        }
      ]
    },
    {
      "cell_type": "markdown",
      "metadata": {
        "id": "oT1QXM8WTpd5",
        "colab_type": "text"
      },
      "source": [
        "## Checking for Outliers"
      ]
    },
    {
      "cell_type": "code",
      "metadata": {
        "id": "SX2o1Bl4SZFp",
        "colab_type": "code",
        "outputId": "5ae72acd-96cb-48de-8990-148d04c2eaad",
        "colab": {
          "base_uri": "https://localhost:8080/",
          "height": 581
        }
      },
      "source": [
        "sns.jointplot(x=\"item_cnt\", y=\"item_price\", data=train_monthly, height=8)\n",
        "plt.show()"
      ],
      "execution_count": 29,
      "outputs": [
        {
          "output_type": "display_data",
          "data": {
            "image/png": "[encoded data removed]",
            "text/plain": [
              "<Figure size 576x576 with 3 Axes>"
            ]
          },
          "metadata": {
            "tags": []
          }
        }
      ]
    },
    {
      "cell_type": "code",
      "metadata": {
        "id": "cr9GrWppT3Ko",
        "colab_type": "code",
        "outputId": "44f76fc6-d9ef-4305-fb61-0f17cff4abe4",
        "colab": {
          "base_uri": "https://localhost:8080/",
          "height": 581
        }
      },
      "source": [
        "sns.jointplot(x=\"item_cnt\", y=\"transactions\", data=train_monthly, height=8)\n",
        "plt.show()"
      ],
      "execution_count": 30,
      "outputs": [
        {
          "output_type": "display_data",
          "data": {
            "image/png": "[encoded data removed]",
            "text/plain": [
              "<Figure size 576x576 with 3 Axes>"
            ]
          },
          "metadata": {
            "tags": []
          }
        }
      ]
    },
    {
      "cell_type": "code",
      "metadata": {
        "id": "MQvTHLbgT_F_",
        "colab_type": "code",
        "outputId": "728fa1eb-1bbf-4906-d069-806fc5ab9b17",
        "colab": {
          "base_uri": "https://localhost:8080/",
          "height": 522
        }
      },
      "source": [
        "plt.subplots(figsize=(22, 8))\n",
        "sns.boxplot(train_monthly[\"item_cnt\"])\n",
        "plt.show()"
      ],
      "execution_count": 31,
      "outputs": [
        {
          "output_type": "display_data",
          "data": {
            "image/png": "[encoded data removed]",
            "text/plain": [
              "<Figure size 1584x576 with 1 Axes>"
            ]
          },
          "metadata": {
            "tags": []
          }
        }
      ]
    },
    {
      "cell_type": "markdown",
      "metadata": {
        "id": "rpSvK4ZXX96N",
        "colab_type": "text"
      },
      "source": [
        "### Removing outliers\n",
        "\n",
        "I'll treat \"item_cnt\" > 20 and < 0, \"item_price\" >= 400000 as outliers, so I'll remove them.\n",
        "\n"
      ]
    },
    {
      "cell_type": "code",
      "metadata": {
        "id": "FmXBys0NYIS5",
        "colab_type": "code",
        "colab": {}
      },
      "source": [
        "train_monthly = train_monthly.query('item_cnt >= 0 and item_cnt <= 20 and item_price < 40000')"
      ],
      "execution_count": 0,
      "outputs": []
    },
    {
      "cell_type": "markdown",
      "metadata": {
        "id": "Fhd4I2QEbVM1",
        "colab_type": "text"
      },
      "source": [
        "## Create the label"
      ]
    },
    {
      "cell_type": "code",
      "metadata": {
        "id": "Vl63t0gwbQx2",
        "colab_type": "code",
        "colab": {}
      },
      "source": [
        "train_monthly[\"item_cnt_month\"] = train_monthly.sort_values(\"date_block_num\").groupby(['shop_id', 'item_id'])['item_cnt'].shift(-1)"
      ],
      "execution_count": 0,
      "outputs": []
    },
    {
      "cell_type": "code",
      "metadata": {
        "id": "_HfUsVkbbNDB",
        "colab_type": "code",
        "outputId": "ff4d870c-5b7c-4eb9-80f3-49dc7e81a456",
        "colab": {
          "base_uri": "https://localhost:8080/",
          "height": 217
        }
      },
      "source": [
        "train_monthly.head()"
      ],
      "execution_count": 34,
      "outputs": [
        {
          "output_type": "execute_result",
          "data": {
            "text/html": [
              "<div>\n",
              "<style scoped>\n",
              "    .dataframe tbody tr th:only-of-type {\n",
              "        vertical-align: middle;\n",
              "    }\n",
              "\n",
              "    .dataframe tbody tr th {\n",
              "        vertical-align: top;\n",
              "    }\n",
              "\n",
              "    .dataframe thead th {\n",
              "        text-align: right;\n",
              "    }\n",
              "</style>\n",
              "<table border=\"1\" class=\"dataframe\">\n",
              "  <thead>\n",
              "    <tr style=\"text-align: right;\">\n",
              "      <th></th>\n",
              "      <th>date_block_num</th>\n",
              "      <th>shop_id</th>\n",
              "      <th>item_id</th>\n",
              "      <th>item_category_id</th>\n",
              "      <th>item_price</th>\n",
              "      <th>mean_item_price</th>\n",
              "      <th>item_cnt</th>\n",
              "      <th>mean_item_cnt</th>\n",
              "      <th>transactions</th>\n",
              "      <th>year</th>\n",
              "      <th>month</th>\n",
              "      <th>item_cnt_month</th>\n",
              "    </tr>\n",
              "  </thead>\n",
              "  <tbody>\n",
              "    <tr>\n",
              "      <th>0</th>\n",
              "      <td>0</td>\n",
              "      <td>2</td>\n",
              "      <td>5572</td>\n",
              "      <td>2.00</td>\n",
              "      <td>10730.00</td>\n",
              "      <td>1532.86</td>\n",
              "      <td>9.00</td>\n",
              "      <td>1.29</td>\n",
              "      <td>7.00</td>\n",
              "      <td>2013</td>\n",
              "      <td>0</td>\n",
              "      <td>1.00</td>\n",
              "    </tr>\n",
              "    <tr>\n",
              "      <th>1</th>\n",
              "      <td>0</td>\n",
              "      <td>2</td>\n",
              "      <td>5643</td>\n",
              "      <td>2.00</td>\n",
              "      <td>4775.21</td>\n",
              "      <td>2387.60</td>\n",
              "      <td>0.00</td>\n",
              "      <td>0.00</td>\n",
              "      <td>2.00</td>\n",
              "      <td>2013</td>\n",
              "      <td>0</td>\n",
              "      <td>0.00</td>\n",
              "    </tr>\n",
              "    <tr>\n",
              "      <th>2</th>\n",
              "      <td>0</td>\n",
              "      <td>2</td>\n",
              "      <td>5583</td>\n",
              "      <td>5.00</td>\n",
              "      <td>1188.30</td>\n",
              "      <td>594.15</td>\n",
              "      <td>2.00</td>\n",
              "      <td>1.00</td>\n",
              "      <td>2.00</td>\n",
              "      <td>2013</td>\n",
              "      <td>0</td>\n",
              "      <td>1.00</td>\n",
              "    </tr>\n",
              "    <tr>\n",
              "      <th>3</th>\n",
              "      <td>0</td>\n",
              "      <td>2</td>\n",
              "      <td>7893</td>\n",
              "      <td>6.00</td>\n",
              "      <td>5970.00</td>\n",
              "      <td>1990.00</td>\n",
              "      <td>3.00</td>\n",
              "      <td>1.00</td>\n",
              "      <td>3.00</td>\n",
              "      <td>2013</td>\n",
              "      <td>0</td>\n",
              "      <td>2.00</td>\n",
              "    </tr>\n",
              "    <tr>\n",
              "      <th>4</th>\n",
              "      <td>0</td>\n",
              "      <td>2</td>\n",
              "      <td>7894</td>\n",
              "      <td>6.00</td>\n",
              "      <td>1490.00</td>\n",
              "      <td>1490.00</td>\n",
              "      <td>1.00</td>\n",
              "      <td>1.00</td>\n",
              "      <td>1.00</td>\n",
              "      <td>2013</td>\n",
              "      <td>0</td>\n",
              "      <td>2.00</td>\n",
              "    </tr>\n",
              "  </tbody>\n",
              "</table>\n",
              "</div>"
            ],
            "text/plain": [
              "   date_block_num  shop_id  item_id  ...  year  month  item_cnt_month\n",
              "0               0        2     5572  ...  2013      0            1.00\n",
              "1               0        2     5643  ...  2013      0            0.00\n",
              "2               0        2     5583  ...  2013      0            1.00\n",
              "3               0        2     7893  ...  2013      0            2.00\n",
              "4               0        2     7894  ...  2013      0            2.00\n",
              "\n",
              "[5 rows x 12 columns]"
            ]
          },
          "metadata": {
            "tags": []
          },
          "execution_count": 34
        }
      ]
    },
    {
      "cell_type": "markdown",
      "metadata": {
        "id": "OcGzxKANf1cM",
        "colab_type": "text"
      },
      "source": [
        "## Feature Engineering"
      ]
    },
    {
      "cell_type": "markdown",
      "metadata": {
        "id": "3oUwiskqf_3J",
        "colab_type": "text"
      },
      "source": [
        "### Unitary item pirces"
      ]
    },
    {
      "cell_type": "code",
      "metadata": {
        "id": "0sN_6CTUf7pd",
        "colab_type": "code",
        "colab": {}
      },
      "source": [
        "train_monthly[\"item_price_unit\"] = train_monthly['item_price'] // train_monthly[\"item_cnt\"]\n",
        "train_monthly['item_price_unit'].fillna(0, inplace=True)"
      ],
      "execution_count": 0,
      "outputs": []
    },
    {
      "cell_type": "markdown",
      "metadata": {
        "id": "M1pY3CZplq6n",
        "colab_type": "text"
      },
      "source": [
        "### Group based features"
      ]
    },
    {
      "cell_type": "code",
      "metadata": {
        "id": "T9-w6ZVylPxq",
        "colab_type": "code",
        "colab": {}
      },
      "source": [
        "gp_item_price = train_monthly.sort_values('date_block_num').groupby(['item_id'], as_index=False).agg({'item_price':[np.min, np.max]})\n",
        "gp_item_price.columns = ['item_id', 'hist_min_item_price', 'hist_max_item_price']\n",
        "\n",
        "train_monthly = pd.merge(train_monthly, gp_item_price, on='item_id', how='left')\n"
      ],
      "execution_count": 0,
      "outputs": []
    },
    {
      "cell_type": "markdown",
      "metadata": {
        "id": "sIx0eQPBKnsm",
        "colab_type": "text"
      },
      "source": [
        "### How much each item's price changed from its (lowest/highest) historical price."
      ]
    },
    {
      "cell_type": "code",
      "metadata": {
        "id": "P6VGZ0xYKs_f",
        "colab_type": "code",
        "colab": {}
      },
      "source": [
        "train_monthly['price_increase'] = train_monthly['item_price'] - train_monthly['hist_min_item_price']\n",
        "train_monthly['price_decrease'] = train_monthly['hist_max_item_price'] - train_monthly['item_price']"
      ],
      "execution_count": 0,
      "outputs": []
    },
    {
      "cell_type": "markdown",
      "metadata": {
        "id": "OMiSzYLKLeWl",
        "colab_type": "text"
      },
      "source": [
        "### Rolling window based features (window = 3 months)"
      ]
    },
    {
      "cell_type": "code",
      "metadata": {
        "id": "b8Km7EjxLjRl",
        "colab_type": "code",
        "colab": {}
      },
      "source": [
        "# Min value\n",
        "f_min = lambda x: x.rolling(window=3, min_periods=1).min()\n",
        "# Max value\n",
        "f_max = lambda x: x.rolling(window=3, min_periods=1).max()\n",
        "# Mean value\n",
        "f_mean = lambda x: x.rolling(window=3, min_periods=1).mean()\n",
        "# Standard deviation\n",
        "f_std = lambda x: x.rolling(window=3, min_periods=1).std()\n",
        "\n",
        "function_list = [f_min, f_max, f_mean, f_std]\n",
        "function_name = ['min', 'max', 'mean', 'std']\n",
        "\n",
        "for i in range(len(function_list)):\n",
        "    train_monthly[('item_cnt_%s' % function_name[i])] = train_monthly.sort_values('date_block_num').groupby(['shop_id', 'item_category_id', 'item_id'])['item_cnt'].apply(function_list[i])\n",
        "\n",
        "# Fill the empty std features with 0\n",
        "train_monthly['item_cnt_std'].fillna(0, inplace=True)"
      ],
      "execution_count": 0,
      "outputs": []
    },
    {
      "cell_type": "markdown",
      "metadata": {
        "id": "drUmiTJxLiOt",
        "colab_type": "text"
      },
      "source": [
        "### Lag Based features"
      ]
    },
    {
      "cell_type": "code",
      "metadata": {
        "id": "IXzNpRKZXzgC",
        "colab_type": "code",
        "colab": {}
      },
      "source": [
        "def lag_feature(df, lags, col):\n",
        "    tmp = df[['date_block_num','shop_id','item_id',col]]\n",
        "    for i in lags:\n",
        "        shifted = tmp.copy()\n",
        "        shifted.columns = ['date_block_num','shop_id','item_id', col+'_lag_'+str(i)]\n",
        "        shifted['date_block_num'] += i\n",
        "        df = pd.merge(df, shifted, on=['date_block_num','shop_id','item_id'], how='left')\n",
        "    return df"
      ],
      "execution_count": 0,
      "outputs": []
    },
    {
      "cell_type": "code",
      "metadata": {
        "id": "kU7bwocTYCL1",
        "colab_type": "code",
        "colab": {}
      },
      "source": [
        "train_monthly = lag_feature(train_monthly, [1,2,3], 'item_cnt_month')"
      ],
      "execution_count": 0,
      "outputs": []
    },
    {
      "cell_type": "code",
      "metadata": {
        "id": "KKaYQB1tXSwE",
        "colab_type": "code",
        "colab": {}
      },
      "source": [
        "group = train.groupby(['item_id']).agg({'item_price': ['mean']})\n",
        "group.columns = ['item_avg_item_price']\n",
        "group.reset_index(inplace=True)\n",
        "\n",
        "train_monthly = pd.merge(train_monthly, group, on=['item_id'], how='left')\n",
        "train_monthly['item_avg_item_price'] = train_monthly['item_avg_item_price'].astype(np.float16)\n",
        "\n",
        "group = train.groupby(['date_block_num','item_id']).agg({'item_price': ['mean']})\n",
        "group.columns = ['date_item_avg_item_price']\n",
        "group.reset_index(inplace=True)\n",
        "\n",
        "train_monthly = pd.merge(train_monthly, group, on=['date_block_num','item_id'], how='left')\n",
        "train_monthly['date_item_avg_item_price'] = train_monthly['date_item_avg_item_price'].astype(np.float16)\n",
        "lags = [1,2,3]\n",
        "train_monthly = lag_feature(train_monthly, lags, 'date_item_avg_item_price')\n",
        "\n",
        "for i in lags:\n",
        "    train_monthly['delta_price_lag_'+str(i)] = \\\n",
        "        (train_monthly['date_item_avg_item_price_lag_'+str(i)] - train_monthly['item_avg_item_price']) / train_monthly['item_avg_item_price']\n",
        "\n",
        "def select_trend(row):\n",
        "    for i in lags:\n",
        "        if row['delta_price_lag_'+str(i)]:\n",
        "            return row['delta_price_lag_'+str(i)]\n",
        "    return 0\n",
        "    \n",
        "train_monthly['delta_price_lag'] = train_monthly.apply(select_trend, axis=1)\n",
        "train_monthly['delta_price_lag'] = train_monthly['delta_price_lag'].astype(np.float16)\n",
        "train_monthly['delta_price_lag'].fillna(0, inplace=True)\n",
        "\n",
        "fetures_to_drop = ['item_avg_item_price', 'date_item_avg_item_price']\n",
        "for i in lags:\n",
        "    fetures_to_drop += ['date_item_avg_item_price_lag_'+str(i)]\n",
        "    fetures_to_drop += ['delta_price_lag_'+str(i)]\n",
        "\n",
        "train_monthly.drop(fetures_to_drop, axis=1, inplace=True)"
      ],
      "execution_count": 0,
      "outputs": []
    },
    {
      "cell_type": "markdown",
      "metadata": {
        "id": "TOLXMYOdMmdP",
        "colab_type": "text"
      },
      "source": [
        "### Dataset after feature engineering"
      ]
    },
    {
      "cell_type": "code",
      "metadata": {
        "id": "cxo63z6JMr2H",
        "colab_type": "code",
        "outputId": "fa8c3d5b-28f8-49cc-8890-32aea3e20c7a",
        "colab": {
          "base_uri": "https://localhost:8080/",
          "height": 962
        }
      },
      "source": [
        "print(train_monthly.head().T)\n",
        "print(train_monthly.describe().T)"
      ],
      "execution_count": 42,
      "outputs": [
        {
          "output_type": "stream",
          "text": [
            "                            0        1       2        3        4\n",
            "date_block_num           0.00     0.00    0.00     0.00     0.00\n",
            "shop_id                  2.00     2.00    2.00     2.00     2.00\n",
            "item_id               5572.00  5643.00 5583.00  7893.00  7894.00\n",
            "item_category_id         2.00     2.00    5.00     6.00     6.00\n",
            "item_price           10730.00  4775.21 1188.30  5970.00  1490.00\n",
            "mean_item_price       1532.86  2387.60  594.15  1990.00  1490.00\n",
            "item_cnt                 9.00     0.00    2.00     3.00     1.00\n",
            "mean_item_cnt            1.29     0.00    1.00     1.00     1.00\n",
            "transactions             7.00     2.00    2.00     3.00     1.00\n",
            "year                  2013.00  2013.00 2013.00  2013.00  2013.00\n",
            "month                    0.00     0.00    0.00     0.00     0.00\n",
            "item_cnt_month           1.00     0.00    1.00     2.00     2.00\n",
            "item_price_unit       1192.00      inf  594.00  1990.00  1490.00\n",
            "hist_min_item_price      0.00     0.00    0.00     0.00     0.00\n",
            "hist_max_item_price  18979.50 35260.00 5592.00 27950.00 25880.00\n",
            "price_increase       10730.00  4775.21 1188.30  5970.00  1490.00\n",
            "price_decrease        8249.50 30484.79 4403.70 21980.00 24390.00\n",
            "item_cnt_min             9.00     0.00    2.00     3.00     1.00\n",
            "item_cnt_max             9.00     0.00    2.00     3.00     1.00\n",
            "item_cnt_mean            9.00     0.00    2.00     3.00     1.00\n",
            "item_cnt_std             0.00     0.00    0.00     0.00     0.00\n",
            "item_cnt_month_lag_1      nan      nan     nan      nan      nan\n",
            "item_cnt_month_lag_2      nan      nan     nan      nan      nan\n",
            "item_cnt_month_lag_3      nan      nan     nan      nan      nan\n",
            "delta_price_lag          0.00     0.00    0.00     0.00     0.00\n",
            "                          count     mean     std  ...      50%      75%      max\n",
            "date_block_num       6727043.00    16.50    9.81  ...    16.00    25.00    33.00\n",
            "shop_id              6727043.00    31.64   17.56  ...    35.00    47.00    59.00\n",
            "item_id              6727043.00 11043.36 6209.93  ... 11266.00 16068.00 22167.00\n",
            "item_category_id     6727043.00     3.75   13.16  ...     0.00     0.00    83.00\n",
            "item_price           6727043.00   154.37 1051.15  ...     0.00     0.00 39998.00\n",
            "mean_item_price      6727043.00    76.62  449.66  ...     0.00     0.00 37991.00\n",
            "item_cnt             6727043.00     0.18    0.90  ...     0.00     0.00    20.00\n",
            "mean_item_cnt        6727043.00     0.09    0.31  ...     0.00     0.00    20.00\n",
            "transactions         6727043.00     0.17    0.74  ...     0.00     0.00    19.00\n",
            "year                 6727043.00  2013.94    0.80  ...  2014.00  2015.00  2015.00\n",
            "month                6727043.00     5.20    3.32  ...     5.00     8.00    11.00\n",
            "item_cnt_month       6528972.00     0.19    0.90  ...     0.00     0.00    20.00\n",
            "item_price_unit      6727043.00      inf     nan  ...     0.00     0.00      inf\n",
            "hist_min_item_price  6727043.00     0.00    0.00  ...     0.00     0.00     0.00\n",
            "hist_max_item_price  6727043.00  5066.74 7189.79  ...  2408.00  5592.00 39998.00\n",
            "price_increase       6727043.00   154.37 1051.15  ...     0.00     0.00 39998.00\n",
            "price_decrease       6727043.00  4911.75 6962.25  ...  2396.00  5490.00 39998.00\n",
            "item_cnt_min         6727043.00     0.14    0.69  ...     0.00     0.00    20.00\n",
            "item_cnt_max         6727043.00     0.26    1.24  ...     0.00     0.00    20.00\n",
            "item_cnt_mean        6727043.00     0.20    0.91  ...     0.00     0.00    20.00\n",
            "item_cnt_std         6727043.00     0.07    0.43  ...     0.00     0.00    13.44\n",
            "item_cnt_month_lag_1 6525174.00     0.18    0.87  ...     0.00     0.00    20.00\n",
            "item_cnt_month_lag_2 6326724.00     0.18    0.88  ...     0.00     0.00    20.00\n",
            "item_cnt_month_lag_3 6128716.00     0.18    0.89  ...     0.00     0.00    20.00\n",
            "delta_price_lag      6727043.00     0.00    0.00  ...     0.00     0.00     4.29\n",
            "\n",
            "[25 rows x 8 columns]\n"
          ],
          "name": "stdout"
        }
      ]
    },
    {
      "cell_type": "markdown",
      "metadata": {
        "id": "3ymJNwZbT14l",
        "colab_type": "text"
      },
      "source": [
        "## Train/Validation split"
      ]
    },
    {
      "cell_type": "code",
      "metadata": {
        "id": "maoG99FfT7NV",
        "colab_type": "code",
        "outputId": "b31178d5-d572-4370-922c-66e4a97db8be",
        "colab": {
          "base_uri": "https://localhost:8080/",
          "height": 104
        }
      },
      "source": [
        "train_set = train_monthly.query('date_block_num >= 3 and date_block_num < 28').copy()\n",
        "validation_set = train_monthly.query('date_block_num >= 28 and date_block_num < 33').copy()\n",
        "test_set = train_monthly.query('date_block_num == 33').copy()\n",
        "\n",
        "train_set.dropna(subset=['item_cnt_month'], inplace=True)\n",
        "validation_set.dropna(subset=['item_cnt_month'], inplace=True)\n",
        "\n",
        "train_set.dropna(inplace=True)\n",
        "validation_set.dropna(inplace=True)\n",
        "\n",
        "print('Train set records:', train_set.shape[0])\n",
        "print('Validation set records:', validation_set.shape[0])\n",
        "print('Test set records:', test_set.shape[0])\n",
        "\n",
        "print('Train set records: %s (%.f%% of complete data)' % (train_set.shape[0], ((train_set.shape[0]/train_monthly.shape[0])*100)))\n",
        "print('Validation set records: %s (%.f%% of complete data)' % (validation_set.shape[0], ((validation_set.shape[0]/train_monthly.shape[0])*100)))"
      ],
      "execution_count": 43,
      "outputs": [
        {
          "output_type": "stream",
          "text": [
            "Train set records: 4938031\n",
            "Validation set records: 987350\n",
            "Test set records: 197810\n",
            "Train set records: 4938031 (73% of complete data)\n",
            "Validation set records: 987350 (15% of complete data)\n"
          ],
          "name": "stdout"
        }
      ]
    },
    {
      "cell_type": "markdown",
      "metadata": {
        "id": "8CFBv7UvUL74",
        "colab_type": "text"
      },
      "source": [
        "## Mean Encoding\n",
        "\n",
        "\n"
      ]
    },
    {
      "cell_type": "code",
      "metadata": {
        "id": "RNzyM5HhUQF-",
        "colab_type": "code",
        "colab": {}
      },
      "source": [
        "# Shop mean encoding.\n",
        "gp_shop_mean = train_set.groupby(['shop_id']).agg({'item_cnt_month': ['mean']})\n",
        "gp_shop_mean.columns = ['shop_mean']\n",
        "gp_shop_mean.reset_index(inplace=True)\n",
        "# Item mean encoding.\n",
        "gp_item_mean = train_set.groupby(['item_id']).agg({'item_cnt_month': ['mean']})\n",
        "gp_item_mean.columns = ['item_mean']\n",
        "gp_item_mean.reset_index(inplace=True)\n",
        "# Shop with item mean encoding.\n",
        "gp_shop_item_mean = train_set.groupby(['shop_id', 'item_id']).agg({'item_cnt_month': ['mean']})\n",
        "gp_shop_item_mean.columns = ['shop_item_mean']\n",
        "gp_shop_item_mean.reset_index(inplace=True)\n",
        "# Year mean encoding.\n",
        "gp_year_mean = train_set.groupby(['year']).agg({'item_cnt_month': ['mean']})\n",
        "gp_year_mean.columns = ['year_mean']\n",
        "gp_year_mean.reset_index(inplace=True)\n",
        "# Month mean encoding.\n",
        "gp_month_mean = train_set.groupby(['month']).agg({'item_cnt_month': ['mean']})\n",
        "gp_month_mean.columns = ['month_mean']\n",
        "gp_month_mean.reset_index(inplace=True)\n",
        "\n",
        "# Add meand encoding features to train set.\n",
        "train_set = pd.merge(train_set, gp_shop_mean, on=['shop_id'], how='left')\n",
        "train_set = pd.merge(train_set, gp_item_mean, on=['item_id'], how='left')\n",
        "train_set = pd.merge(train_set, gp_shop_item_mean, on=['shop_id', 'item_id'], how='left')\n",
        "train_set = pd.merge(train_set, gp_year_mean, on=['year'], how='left')\n",
        "train_set = pd.merge(train_set, gp_month_mean, on=['month'], how='left')\n",
        "# Add meand encoding features to validation set.\n",
        "validation_set = pd.merge(validation_set, gp_shop_mean, on=['shop_id'], how='left')\n",
        "validation_set = pd.merge(validation_set, gp_item_mean, on=['item_id'], how='left')\n",
        "validation_set = pd.merge(validation_set, gp_shop_item_mean, on=['shop_id', 'item_id'], how='left')\n",
        "validation_set = pd.merge(validation_set, gp_year_mean, on=['year'], how='left')\n",
        "validation_set = pd.merge(validation_set, gp_month_mean, on=['month'], how='left')"
      ],
      "execution_count": 0,
      "outputs": []
    },
    {
      "cell_type": "code",
      "metadata": {
        "id": "BigoWD31Uekw",
        "colab_type": "code",
        "colab": {}
      },
      "source": [
        "# Create train and validation sets and labels. \n",
        "X_train = train_set.drop(['item_cnt_month', 'date_block_num'], axis=1)\n",
        "Y_train = train_set['item_cnt_month'].astype(int)\n",
        "X_validation = validation_set.drop(['item_cnt_month', 'date_block_num'], axis=1)\n",
        "Y_validation = validation_set['item_cnt_month'].astype(int)"
      ],
      "execution_count": 0,
      "outputs": []
    },
    {
      "cell_type": "code",
      "metadata": {
        "id": "DxmkfAUPe5ai",
        "colab_type": "code",
        "colab": {}
      },
      "source": [
        "# Integer features (used by catboost model).\n",
        "int_features = ['shop_id', 'item_id', 'year', 'month']\n",
        "\n",
        "X_train[int_features] = X_train[int_features].astype('int32')\n",
        "X_validation[int_features] = X_validation[int_features].astype('int32')"
      ],
      "execution_count": 0,
      "outputs": []
    },
    {
      "cell_type": "markdown",
      "metadata": {
        "id": "_OK63pzbUt9a",
        "colab_type": "text"
      },
      "source": [
        "## Build Test Set\n",
        "I want to  predict for \"date_block_num\" 34 so our test set will be block 33 and our predictions should reflect block 34 values. "
      ]
    },
    {
      "cell_type": "code",
      "metadata": {
        "id": "6hyVRlwdUtK_",
        "colab_type": "code",
        "colab": {}
      },
      "source": [
        "latest_records = pd.concat([train_set, validation_set]).drop_duplicates(subset=['shop_id', 'item_id'], keep='last')\n",
        "X_test = pd.merge(test, latest_records, on=['shop_id', 'item_id'], how='left', suffixes=['', '_'])\n",
        "X_test['year'] = 2015\n",
        "X_test['month'] = 9\n",
        "X_test.drop('item_cnt_month', axis=1, inplace=True)\n",
        "X_test[int_features] = X_test[int_features].astype('int32')\n",
        "X_test = X_test[X_train.columns]"
      ],
      "execution_count": 0,
      "outputs": []
    },
    {
      "cell_type": "markdown",
      "metadata": {
        "id": "vEvEP1nXVXFO",
        "colab_type": "text"
      },
      "source": [
        "## Replacing Missing Values"
      ]
    },
    {
      "cell_type": "code",
      "metadata": {
        "id": "nBCOl7naVDvR",
        "colab_type": "code",
        "colab": {}
      },
      "source": [
        "sets = [X_train, X_validation, X_test]\n",
        "\n",
        "# Replace missing values with the median of each shop.            \n",
        "for dataset in sets:\n",
        "    for shop_id in dataset['shop_id'].unique():\n",
        "        for column in dataset.columns:\n",
        "            shop_median = dataset[(dataset['shop_id'] == shop_id)][column].median()\n",
        "            dataset.loc[(dataset[column].isnull()) & (dataset['shop_id'] == shop_id), column] = shop_median\n",
        "            \n",
        "# Fill remaining missing values on test set with mean.\n",
        "X_test.fillna(X_test.mean(), inplace=True)"
      ],
      "execution_count": 0,
      "outputs": []
    },
    {
      "cell_type": "code",
      "metadata": {
        "id": "lSwhccgXWVAE",
        "colab_type": "code",
        "colab": {}
      },
      "source": [
        "# I'm dropping \"item_category_id\", we don't have it on test set and would be a little hard to create categories for items that exist only on test set.\n",
        "X_train.drop(['item_category_id'], axis=1, inplace=True)\n",
        "X_validation.drop(['item_category_id'], axis=1, inplace=True)\n",
        "X_test.drop(['item_category_id'], axis=1, inplace=True)"
      ],
      "execution_count": 0,
      "outputs": []
    },
    {
      "cell_type": "code",
      "metadata": {
        "id": "VSg_WiMaUhOi",
        "colab_type": "code",
        "colab": {}
      },
      "source": [
        "X_train[int_features] = X_train[int_features].astype('int32')\n",
        "X_validation[int_features] = X_validation[int_features].astype('int32')\n",
        "X_test[int_features] = X_test[int_features].astype('int32')\n",
        "X_test = X_test[X_train.columns]"
      ],
      "execution_count": 0,
      "outputs": []
    },
    {
      "cell_type": "markdown",
      "metadata": {
        "id": "gf7I6qalWY7N",
        "colab_type": "text"
      },
      "source": [
        "## Test Set"
      ]
    },
    {
      "cell_type": "code",
      "metadata": {
        "id": "TmPoa769Wdct",
        "colab_type": "code",
        "outputId": "9c0aab41-d89d-47ad-ef55-26531a57a78b",
        "colab": {
          "base_uri": "https://localhost:8080/",
          "height": 1000
        }
      },
      "source": [
        "print(X_test.head().T)\n",
        "print(X_test.describe().T)"
      ],
      "execution_count": 51,
      "outputs": [
        {
          "output_type": "stream",
          "text": [
            "                            0       1       2       3       4\n",
            "shop_id                  5.00    5.00    5.00    5.00    5.00\n",
            "item_id               5037.00 5320.00 5233.00 5232.00 5268.00\n",
            "item_price             749.50    0.00 2997.00    0.00    0.00\n",
            "mean_item_price        749.50    0.00  999.00    0.00    0.00\n",
            "item_cnt                 1.00    0.00    3.00    0.00    0.00\n",
            "mean_item_cnt            1.00    0.00    1.00    0.00    0.00\n",
            "transactions             1.00    0.00    3.00    0.00    0.00\n",
            "year                  2015.00 2015.00 2015.00 2015.00 2015.00\n",
            "month                    9.00    9.00    9.00    9.00    9.00\n",
            "item_price_unit        749.00    0.00  999.00    0.00    0.00\n",
            "hist_min_item_price      0.00    0.00    0.00    0.00    0.00\n",
            "hist_max_item_price  25990.00 2428.81 7191.75 4796.00 2428.81\n",
            "price_increase         749.50    0.00 2997.00    0.00    0.00\n",
            "price_decrease       25240.50 2394.00 4194.75 4796.00 2394.00\n",
            "item_cnt_min             1.00    0.00    1.00    0.00    0.00\n",
            "item_cnt_max             3.00    0.00    3.00    0.00    0.00\n",
            "item_cnt_mean            1.67    0.00    2.00    0.00    0.00\n",
            "item_cnt_std             1.15    0.00    1.00    0.00    0.00\n",
            "item_cnt_month_lag_1     1.00    0.00    3.00    0.00    0.00\n",
            "item_cnt_month_lag_2     3.00    0.00    1.00    1.00    0.00\n",
            "item_cnt_month_lag_3     1.00    0.00    0.00    0.00    0.00\n",
            "delta_price_lag         -0.54    0.00   -0.11   -0.19    0.00\n",
            "shop_mean                0.13    0.13    0.13    0.13    0.13\n",
            "item_mean                0.70    0.05    0.07    0.00    0.05\n",
            "shop_item_mean           0.28    0.00    0.12    0.00    0.00\n",
            "year_mean                0.21    0.21    0.21    0.21    0.21\n",
            "month_mean               0.16    0.16    0.16    0.16    0.16\n",
            "                         count     mean     std  ...      50%      75%      max\n",
            "shop_id              214200.00    31.64   17.56  ...    34.50    47.00    59.00\n",
            "item_id              214200.00 11019.40 6252.64  ... 11203.00 16071.50 22167.00\n",
            "item_price           214200.00   211.92 1276.44  ...     0.00     0.00 39996.00\n",
            "mean_item_price      214200.00   123.88  710.14  ...     0.00     0.00 32990.00\n",
            "item_cnt             214200.00     0.22    0.93  ...     0.00     0.00    20.00\n",
            "mean_item_cnt        214200.00     0.13    0.37  ...     0.00     0.00    14.00\n",
            "transactions         214200.00     0.20    0.71  ...     0.00     0.00    15.00\n",
            "year                 214200.00  2015.00    0.00  ...  2015.00  2015.00  2015.00\n",
            "month                214200.00     9.00    0.00  ...     9.00     9.00     9.00\n",
            "item_price_unit      214200.00      inf     nan  ...     0.00     0.00      inf\n",
            "hist_min_item_price  214200.00     0.00    0.00  ...     0.00     0.00     0.00\n",
            "hist_max_item_price  214200.00  4916.56 7020.90  ...  2428.81  5196.00 39998.00\n",
            "price_increase       214200.00   211.92 1276.44  ...     0.00     0.00 39996.00\n",
            "price_decrease       214200.00  4699.42 6673.33  ...  2394.00  5038.00 39998.00\n",
            "item_cnt_min         214200.00     0.18    0.71  ...     0.00     0.00    20.00\n",
            "item_cnt_max         214200.00     0.32    1.23  ...     0.00     0.00    20.00\n",
            "item_cnt_mean        214200.00     0.24    0.91  ...     0.00     0.00    20.00\n",
            "item_cnt_std         214200.00     0.08    0.42  ...     0.00     0.00    12.02\n",
            "item_cnt_month_lag_1 214200.00     0.22    0.93  ...     0.00     0.00    20.00\n",
            "item_cnt_month_lag_2 214200.00     0.24    0.90  ...     0.00     0.00    20.00\n",
            "item_cnt_month_lag_3 214200.00     0.21    0.81  ...     0.00     0.00    20.00\n",
            "delta_price_lag      214200.00    -0.03    0.20  ...     0.00     0.01     1.19\n",
            "shop_mean            214200.00     0.18    0.12  ...     0.16     0.20     0.63\n",
            "item_mean            214200.00     0.17    0.37  ...     0.05     0.18     6.40\n",
            "shop_item_mean       214200.00     0.17    0.53  ...     0.00     0.12    20.00\n",
            "year_mean            214200.00     0.21    0.00  ...     0.21     0.21     0.21\n",
            "month_mean           214200.00     0.16    0.00  ...     0.16     0.16     0.30\n",
            "\n",
            "[27 rows x 8 columns]\n"
          ],
          "name": "stdout"
        }
      ]
    },
    {
      "cell_type": "markdown",
      "metadata": {
        "id": "J7QhH_QsWrjU",
        "colab_type": "text"
      },
      "source": [
        "## Modeling the Data"
      ]
    },
    {
      "cell_type": "markdown",
      "metadata": {
        "id": "Mp-Mg9KXWy-b",
        "colab_type": "text"
      },
      "source": [
        "### Tree Based Models"
      ]
    },
    {
      "cell_type": "markdown",
      "metadata": {
        "id": "MhfQgOLbW4TQ",
        "colab_type": "text"
      },
      "source": [
        "#### Catboost"
      ]
    },
    {
      "cell_type": "code",
      "metadata": {
        "id": "vqEX7h3YWquu",
        "colab_type": "code",
        "outputId": "0580578d-e861-4257-da3c-1af087c77027",
        "colab": {
          "base_uri": "https://localhost:8080/",
          "height": 194
        }
      },
      "source": [
        "cat_features = [0, 1, 7, 8]\n",
        "\n",
        "catboost_model = CatBoostRegressor(\n",
        "    iterations=500,\n",
        "    max_ctr_complexity=4,\n",
        "    random_seed=0,\n",
        "    od_type='Iter',\n",
        "    od_wait=25,\n",
        "    verbose=50,\n",
        "    depth=10,\n",
        ")\n",
        "\n",
        "catboost_model.fit(\n",
        "    X_train, Y_train,\n",
        "    cat_features=cat_features,\n",
        "    eval_set=(X_validation, Y_validation)\n",
        ")"
      ],
      "execution_count": 52,
      "outputs": [
        {
          "output_type": "stream",
          "text": [
            "Learning rate set to 0.354088\n",
            "0:\tlearn: 0.7708127\ttest: 0.8264461\tbest: 0.8264461 (0)\ttotal: 3.22s\tremaining: 26m 48s\n",
            "Stopped by overfitting detector  (25 iterations wait)\n",
            "\n",
            "bestTest = 0.7816923432\n",
            "bestIteration = 8\n",
            "\n",
            "Shrink model to first 9 iterations.\n"
          ],
          "name": "stdout"
        },
        {
          "output_type": "execute_result",
          "data": {
            "text/plain": [
              "<catboost.core.CatBoostRegressor at 0x7f25667f4898>"
            ]
          },
          "metadata": {
            "tags": []
          },
          "execution_count": 52
        }
      ]
    },
    {
      "cell_type": "markdown",
      "metadata": {
        "id": "a7x7DjTbjhmp",
        "colab_type": "text"
      },
      "source": [
        "#### Catboost Feature Importance"
      ]
    },
    {
      "cell_type": "code",
      "metadata": {
        "id": "QBXmjjK4YX6U",
        "colab_type": "code",
        "colab": {
          "base_uri": "https://localhost:8080/",
          "height": 528
        },
        "outputId": "6c376684-1660-4de2-9471-9f4f9a4b6952"
      },
      "source": [
        "feature_score = pd.DataFrame(list(zip(X_train.dtypes.index, catboost_model.get_feature_importance(Pool(X_train, label=Y_train, cat_features=cat_features)))), columns=['Feature','Score'])\n",
        "feature_score = feature_score.sort_values(by='Score', ascending=False, inplace=False, kind='quicksort', na_position='last')\n",
        "\n",
        "plt.rcParams[\"figure.figsize\"] = (19, 6)\n",
        "ax = feature_score.plot('Feature', 'Score', kind='bar', color='c')\n",
        "ax.set_title(\"Catboost Feature Importance Ranking\", fontsize = 14)\n",
        "ax.set_xlabel('')\n",
        "rects = ax.patches\n",
        "labels = feature_score['Score'].round(2)\n",
        "\n",
        "for rect, label in zip(rects, labels):\n",
        "    height = rect.get_height()\n",
        "    ax.text(rect.get_x() + rect.get_width()/2, height + 0.35, label, ha='center', va='bottom')\n",
        "\n",
        "plt.show()"
      ],
      "execution_count": 53,
      "outputs": [
        {
          "output_type": "display_data",
          "data": {
            "image/png": "[encoded data removed]",
            "text/plain": [
              "<Figure size 1368x432 with 1 Axes>"
            ]
          },
          "metadata": {
            "tags": []
          }
        }
      ]
    },
    {
      "cell_type": "code",
      "metadata": {
        "id": "jDNu25gmjq6W",
        "colab_type": "code",
        "colab": {}
      },
      "source": [
        "catboost_train_pred = catboost_model.predict(X_train)\n",
        "catboost_val_pred = catboost_model.predict(X_validation)\n",
        "catboost_test_pred = catboost_model.predict(X_test)"
      ],
      "execution_count": 0,
      "outputs": []
    },
    {
      "cell_type": "code",
      "metadata": {
        "id": "pm3xKd5rkDQC",
        "colab_type": "code",
        "colab": {
          "base_uri": "https://localhost:8080/",
          "height": 52
        },
        "outputId": "6b6b9177-c097-469d-a513-c4998e2ee949"
      },
      "source": [
        "print('Train rmse:', np.sqrt(mean_squared_error(Y_train, catboost_train_pred)))\n",
        "print('Validation rmse:', np.sqrt(mean_squared_error(Y_validation, catboost_val_pred)))"
      ],
      "execution_count": 55,
      "outputs": [
        {
          "output_type": "stream",
          "text": [
            "Train rmse: 0.6495416121386663\n",
            "Validation rmse: 0.7816923431689655\n"
          ],
          "name": "stdout"
        }
      ]
    },
    {
      "cell_type": "code",
      "metadata": {
        "id": "krfQ4tAegrSc",
        "colab_type": "code",
        "colab": {
          "base_uri": "https://localhost:8080/",
          "height": 157
        },
        "outputId": "83a706e3-dbb4-4e86-f86e-4866862ee6ef"
      },
      "source": [
        "X_train.columns"
      ],
      "execution_count": 56,
      "outputs": [
        {
          "output_type": "execute_result",
          "data": {
            "text/plain": [
              "Index(['shop_id', 'item_id', 'item_price', 'mean_item_price', 'item_cnt',\n",
              "       'mean_item_cnt', 'transactions', 'year', 'month', 'item_price_unit',\n",
              "       'hist_min_item_price', 'hist_max_item_price', 'price_increase',\n",
              "       'price_decrease', 'item_cnt_min', 'item_cnt_max', 'item_cnt_mean',\n",
              "       'item_cnt_std', 'item_cnt_month_lag_1', 'item_cnt_month_lag_2',\n",
              "       'item_cnt_month_lag_3', 'delta_price_lag', 'shop_mean', 'item_mean',\n",
              "       'shop_item_mean', 'year_mean', 'month_mean'],\n",
              "      dtype='object')"
            ]
          },
          "metadata": {
            "tags": []
          },
          "execution_count": 56
        }
      ]
    },
    {
      "cell_type": "markdown",
      "metadata": {
        "id": "CAZ3NaAFkKsu",
        "colab_type": "text"
      },
      "source": [
        "### XGBoost"
      ]
    },
    {
      "cell_type": "code",
      "metadata": {
        "id": "FV2IdoExkPc3",
        "colab_type": "code",
        "colab": {
          "base_uri": "https://localhost:8080/",
          "height": 334
        },
        "outputId": "d245d3cc-0ec3-4150-da37-6de7ef6c1554"
      },
      "source": [
        "# Use only part of features on XGBoost.\n",
        "xgb_features = ['shop_id', 'item_id', 'item_price','item_cnt_mean', 'item_cnt_std', 'item_cnt_month_lag_1', 'item_cnt_month_lag_2',\n",
        "                'item_cnt_month_lag_3', 'delta_price_lag' , 'shop_mean', \n",
        "                'shop_item_mean', 'mean_item_cnt']\n",
        "xgb_train = X_train[xgb_features]\n",
        "xgb_val = X_validation[xgb_features]\n",
        "xgb_test = X_test[xgb_features]\n",
        "\n",
        "xgb_model = XGBRegressor(max_depth=10, \n",
        "                         n_estimators=1000, \n",
        "                         min_child_weight=0.5,  \n",
        "                         colsample_bytree=0.7, \n",
        "                         subsample=0.7, \n",
        "                         eta=0.1, \n",
        "                         seed=0)\n",
        "xgb_model.fit(xgb_train, \n",
        "              Y_train, \n",
        "              eval_metric=\"rmse\", \n",
        "              eval_set=[(xgb_train, Y_train), (xgb_val, Y_validation)], \n",
        "              verbose=20, \n",
        "              early_stopping_rounds=20)"
      ],
      "execution_count": 57,
      "outputs": [
        {
          "output_type": "stream",
          "text": [
            "[10:31:14] WARNING: /workspace/src/objective/regression_obj.cu:152: reg:linear is now deprecated in favor of reg:squarederror.\n",
            "[10:31:14] WARNING: /workspace/src/learner.cc:686: Tree method is automatically selected to be 'approx' for faster speed. To use old behavior (exact greedy algorithm on single machine), set tree_method to 'exact'.\n",
            "[0]\tvalidation_0-rmse:0.894525\tvalidation_1-rmse:0.884389\n",
            "Multiple eval metrics have been passed: 'validation_1-rmse' will be used for early stopping.\n",
            "\n",
            "Will train until validation_1-rmse hasn't improved in 20 rounds.\n",
            "[20]\tvalidation_0-rmse:0.662805\tvalidation_1-rmse:0.76723\n",
            "Stopping. Best iteration:\n",
            "[18]\tvalidation_0-rmse:0.66603\tvalidation_1-rmse:0.76539\n",
            "\n"
          ],
          "name": "stdout"
        },
        {
          "output_type": "execute_result",
          "data": {
            "text/plain": [
              "XGBRegressor(base_score=0.5, booster='gbtree', colsample_bylevel=1,\n",
              "             colsample_bynode=1, colsample_bytree=0.7, eta=0.3, gamma=0,\n",
              "             importance_type='gain', learning_rate=0.1, max_delta_step=0,\n",
              "             max_depth=8, min_child_weight=300, missing=None, n_estimators=500,\n",
              "             n_jobs=1, nthread=None, objective='reg:linear', random_state=0,\n",
              "             reg_alpha=0, reg_lambda=1, scale_pos_weight=1, seed=0, silent=None,\n",
              "             subsample=0.7, verbosity=1)"
            ]
          },
          "metadata": {
            "tags": []
          },
          "execution_count": 57
        }
      ]
    },
    {
      "cell_type": "markdown",
      "metadata": {
        "id": "KkGxsqPPlAyx",
        "colab_type": "text"
      },
      "source": [
        "#### XGboost Feature Importance"
      ]
    },
    {
      "cell_type": "code",
      "metadata": {
        "id": "lEbWNVpUk7rG",
        "colab_type": "code",
        "colab": {
          "base_uri": "https://localhost:8080/",
          "height": 430
        },
        "outputId": "d2c4ad2f-7a1a-4a21-f530-baacd6095e5d"
      },
      "source": [
        "plt.rcParams[\"figure.figsize\"] = (15, 6)\n",
        "plot_importance(xgb_model)\n",
        "plt.show()"
      ],
      "execution_count": 58,
      "outputs": [
        {
          "output_type": "display_data",
          "data": {
            "image/png": "[encoded data removed]",
            "text/plain": [
              "<Figure size 1080x432 with 1 Axes>"
            ]
          },
          "metadata": {
            "tags": []
          }
        }
      ]
    },
    {
      "cell_type": "code",
      "metadata": {
        "id": "Ic-1TF23k4NK",
        "colab_type": "code",
        "colab": {
          "base_uri": "https://localhost:8080/",
          "height": 52
        },
        "outputId": "19aa5af4-71b2-4373-dc82-74e680f7f460"
      },
      "source": [
        "xgb_train_pred = xgb_model.predict(xgb_train)\n",
        "xgb_val_pred = xgb_model.predict(xgb_val)\n",
        "xgb_test_pred = xgb_model.predict(xgb_test)\n",
        "print('Train rmse:', np.sqrt(mean_squared_error(Y_train, xgb_train_pred)))\n",
        "print('Validation rmse:', np.sqrt(mean_squared_error(Y_validation, xgb_val_pred)))"
      ],
      "execution_count": 59,
      "outputs": [
        {
          "output_type": "stream",
          "text": [
            "Train rmse: 0.6660299620715803\n",
            "Validation rmse: 0.765389990112088\n"
          ],
          "name": "stdout"
        }
      ]
    },
    {
      "cell_type": "markdown",
      "metadata": {
        "id": "7AB4iDGPlQiL",
        "colab_type": "text"
      },
      "source": [
        "### Random Forest"
      ]
    },
    {
      "cell_type": "code",
      "metadata": {
        "id": "BYGzMpqdlfkn",
        "colab_type": "code",
        "colab": {
          "base_uri": "https://localhost:8080/",
          "height": 139
        },
        "outputId": "ff7dced9-a3fe-4c06-d74a-8f70c4c6b21e"
      },
      "source": [
        "# Use only part of features on random forest.\n",
        "rf_features = ['shop_id', 'item_id', 'item_price','item_cnt_mean', 'item_cnt_std', 'item_cnt_month_lag_1', 'item_cnt_month_lag_2',\n",
        "                'item_cnt_month_lag_3', 'delta_price_lag' , 'shop_mean', \n",
        "                'shop_item_mean', 'mean_item_cnt', 'month', 'year']\n",
        "rf_train = X_train[rf_features]\n",
        "rf_val = X_validation[rf_features]\n",
        "rf_test = X_test[rf_features]\n",
        "\n",
        "rf_model = RandomForestRegressor(n_estimators=50, max_depth=7, random_state=0, n_jobs=-1)\n",
        "rf_model.fit(rf_train, Y_train)"
      ],
      "execution_count": 60,
      "outputs": [
        {
          "output_type": "execute_result",
          "data": {
            "text/plain": [
              "RandomForestRegressor(bootstrap=True, ccp_alpha=0.0, criterion='mse',\n",
              "                      max_depth=7, max_features='auto', max_leaf_nodes=None,\n",
              "                      max_samples=None, min_impurity_decrease=0.0,\n",
              "                      min_impurity_split=None, min_samples_leaf=1,\n",
              "                      min_samples_split=2, min_weight_fraction_leaf=0.0,\n",
              "                      n_estimators=50, n_jobs=-1, oob_score=False,\n",
              "                      random_state=0, verbose=0, warm_start=False)"
            ]
          },
          "metadata": {
            "tags": []
          },
          "execution_count": 60
        }
      ]
    },
    {
      "cell_type": "code",
      "metadata": {
        "id": "ceXarcssllIJ",
        "colab_type": "code",
        "colab": {
          "base_uri": "https://localhost:8080/",
          "height": 52
        },
        "outputId": "eb3c8c04-acd5-4866-e514-6fbfebb4b709"
      },
      "source": [
        "rf_train_pred = rf_model.predict(rf_train)\n",
        "rf_val_pred = rf_model.predict(rf_val)\n",
        "rf_test_pred = rf_model.predict(rf_test)\n",
        "\n",
        "print('Train rmse:', np.sqrt(mean_squared_error(Y_train, rf_train_pred)))\n",
        "print('Validation rmse:', np.sqrt(mean_squared_error(Y_validation, rf_val_pred)))\n"
      ],
      "execution_count": 61,
      "outputs": [
        {
          "output_type": "stream",
          "text": [
            "Train rmse: 0.6462142886350616\n",
            "Validation rmse: 0.7980834127073095\n"
          ],
          "name": "stdout"
        }
      ]
    },
    {
      "cell_type": "markdown",
      "metadata": {
        "id": "b92m2YT3nLMW",
        "colab_type": "text"
      },
      "source": [
        "### Linear Models"
      ]
    },
    {
      "cell_type": "markdown",
      "metadata": {
        "id": "BcDSWkCVnTdN",
        "colab_type": "text"
      },
      "source": [
        "#### Linear Regression"
      ]
    },
    {
      "cell_type": "code",
      "metadata": {
        "id": "sFcUQmjznSly",
        "colab_type": "code",
        "colab": {}
      },
      "source": [
        "# Use only part of features on linear Regression.\n",
        "lr_features = ['item_cnt','mean_item_cnt', 'shop_mean', 'item_cnt_month_lag_1', 'delta_price_lag']\n",
        "lr_train = X_train[lr_features]\n",
        "lr_val = X_validation[lr_features]\n",
        "lr_test = X_test[lr_features]"
      ],
      "execution_count": 0,
      "outputs": []
    },
    {
      "cell_type": "code",
      "metadata": {
        "id": "9Q0lsukbn0x6",
        "colab_type": "code",
        "colab": {}
      },
      "source": [
        "lr_scaler = MinMaxScaler()\n",
        "lr_scaler.fit(lr_train)\n",
        "lr_train = lr_scaler.transform(lr_train)\n",
        "lr_val = lr_scaler.transform(lr_val)\n",
        "lr_test = lr_scaler.transform(lr_test)"
      ],
      "execution_count": 0,
      "outputs": []
    },
    {
      "cell_type": "code",
      "metadata": {
        "id": "IcgVs-8qn4pz",
        "colab_type": "code",
        "colab": {
          "base_uri": "https://localhost:8080/",
          "height": 34
        },
        "outputId": "dad5040b-dd86-4a52-eb9f-86328b0f4242"
      },
      "source": [
        "lr_model = LinearRegression(n_jobs=-1)\n",
        "lr_model.fit(lr_train, Y_train)"
      ],
      "execution_count": 64,
      "outputs": [
        {
          "output_type": "execute_result",
          "data": {
            "text/plain": [
              "LinearRegression(copy_X=True, fit_intercept=True, n_jobs=-1, normalize=False)"
            ]
          },
          "metadata": {
            "tags": []
          },
          "execution_count": 64
        }
      ]
    },
    {
      "cell_type": "code",
      "metadata": {
        "id": "O7kWlyqDn-q_",
        "colab_type": "code",
        "colab": {
          "base_uri": "https://localhost:8080/",
          "height": 52
        },
        "outputId": "236aaec6-fca2-464c-8503-461600109147"
      },
      "source": [
        "lr_train_pred = lr_model.predict(lr_train)\n",
        "lr_val_pred = lr_model.predict(lr_val)\n",
        "lr_test_pred = lr_model.predict(lr_test)\n",
        "print('Train rmse:', np.sqrt(mean_squared_error(Y_train, lr_train_pred)))\n",
        "print('Validation rmse:', np.sqrt(mean_squared_error(Y_validation, lr_val_pred)))"
      ],
      "execution_count": 65,
      "outputs": [
        {
          "output_type": "stream",
          "text": [
            "Train rmse: 0.7259294659514016\n",
            "Validation rmse: 0.7636063609645425\n"
          ],
          "name": "stdout"
        }
      ]
    },
    {
      "cell_type": "markdown",
      "metadata": {
        "id": "GVTL4Y5WtCUx",
        "colab_type": "text"
      },
      "source": [
        "### Clustering Models"
      ]
    },
    {
      "cell_type": "markdown",
      "metadata": {
        "id": "DaYuJFY9tRBe",
        "colab_type": "text"
      },
      "source": [
        "KNN Regressor"
      ]
    },
    {
      "cell_type": "code",
      "metadata": {
        "id": "cJC-pv3utQMa",
        "colab_type": "code",
        "colab": {}
      },
      "source": [
        "# Use only part of features on KNN.\n",
        "knn_features =  ['shop_id', 'item_id', 'item_price','item_cnt_mean', 'item_cnt_std', 'item_cnt_month_lag_1', 'item_cnt_month_lag_2',\n",
        "                'item_cnt_month_lag_3', 'delta_price_lag' , 'shop_mean', \n",
        "                'shop_item_mean', 'mean_item_cnt']\n",
        "\n",
        "# Subsample train set (using the whole data was taking too long).\n",
        "X_train_sampled = X_train[:100000]\n",
        "Y_train_sampled = Y_train[:100000]\n",
        "\n",
        "knn_train = X_train_sampled[knn_features]\n",
        "knn_val = X_validation[knn_features]\n",
        "knn_test = X_test[knn_features]"
      ],
      "execution_count": 0,
      "outputs": []
    },
    {
      "cell_type": "code",
      "metadata": {
        "id": "Il_ibSButa5q",
        "colab_type": "code",
        "colab": {}
      },
      "source": [
        "knn_scaler = MinMaxScaler()\n",
        "knn_scaler.fit(knn_train)\n",
        "knn_train = knn_scaler.transform(knn_train)\n",
        "knn_val = knn_scaler.transform(knn_val)\n",
        "knn_test = knn_scaler.transform(knn_test)"
      ],
      "execution_count": 0,
      "outputs": []
    },
    {
      "cell_type": "code",
      "metadata": {
        "id": "9xNxrAMUtvlF",
        "colab_type": "code",
        "colab": {
          "base_uri": "https://localhost:8080/",
          "height": 69
        },
        "outputId": "198a3f38-7572-418c-81e1-45a951fcd90d"
      },
      "source": [
        "knn_model = KNeighborsRegressor(n_neighbors=15, leaf_size=15, n_jobs=-1)\n",
        "knn_model.fit(knn_train, Y_train_sampled)"
      ],
      "execution_count": 68,
      "outputs": [
        {
          "output_type": "execute_result",
          "data": {
            "text/plain": [
              "KNeighborsRegressor(algorithm='auto', leaf_size=15, metric='minkowski',\n",
              "                    metric_params=None, n_jobs=-1, n_neighbors=15, p=2,\n",
              "                    weights='uniform')"
            ]
          },
          "metadata": {
            "tags": []
          },
          "execution_count": 68
        }
      ]
    },
    {
      "cell_type": "code",
      "metadata": {
        "id": "IoEGGzhttkxN",
        "colab_type": "code",
        "colab": {
          "base_uri": "https://localhost:8080/",
          "height": 52
        },
        "outputId": "7bcf7d78-638c-4b3b-a912-aa95db276d7b"
      },
      "source": [
        "knn_train_pred = knn_model.predict(knn_train)\n",
        "knn_val_pred = knn_model.predict(knn_val)\n",
        "knn_test_pred = knn_model.predict(knn_test)\n",
        "print('Train rmse:', np.sqrt(mean_squared_error(Y_train_sampled, knn_train_pred)))\n",
        "print('Validation rmse:', np.sqrt(mean_squared_error(Y_validation, knn_val_pred)))"
      ],
      "execution_count": 69,
      "outputs": [
        {
          "output_type": "stream",
          "text": [
            "Train rmse: 0.4682007166922229\n",
            "Validation rmse: 0.7688660069315356\n"
          ],
          "name": "stdout"
        }
      ]
    },
    {
      "cell_type": "markdown",
      "metadata": {
        "id": "Epiro-Bot5if",
        "colab_type": "text"
      },
      "source": [
        "## Create new datasets with the predictions from first level models"
      ]
    },
    {
      "cell_type": "code",
      "metadata": {
        "id": "kd6eYf8Zt9U5",
        "colab_type": "code",
        "colab": {
          "base_uri": "https://localhost:8080/",
          "height": 197
        },
        "outputId": "1e88e5ea-28f2-4f94-d4c9-8c13c31bbe18"
      },
      "source": [
        "# Dataset that will be the train set of the ensemble model.\n",
        "first_level = pd.DataFrame(catboost_val_pred, columns=['catboost'])\n",
        "first_level['xgbm'] = xgb_val_pred\n",
        "first_level['random_forest'] = rf_val_pred\n",
        "first_level['linear_regression'] = lr_val_pred\n",
        "first_level['knn'] = knn_val_pred\n",
        "first_level['label'] = Y_validation.values\n",
        "first_level.head()"
      ],
      "execution_count": 70,
      "outputs": [
        {
          "output_type": "execute_result",
          "data": {
            "text/html": [
              "<div>\n",
              "<style scoped>\n",
              "    .dataframe tbody tr th:only-of-type {\n",
              "        vertical-align: middle;\n",
              "    }\n",
              "\n",
              "    .dataframe tbody tr th {\n",
              "        vertical-align: top;\n",
              "    }\n",
              "\n",
              "    .dataframe thead th {\n",
              "        text-align: right;\n",
              "    }\n",
              "</style>\n",
              "<table border=\"1\" class=\"dataframe\">\n",
              "  <thead>\n",
              "    <tr style=\"text-align: right;\">\n",
              "      <th></th>\n",
              "      <th>catboost</th>\n",
              "      <th>xgbm</th>\n",
              "      <th>random_forest</th>\n",
              "      <th>linear_regression</th>\n",
              "      <th>knn</th>\n",
              "      <th>label</th>\n",
              "    </tr>\n",
              "  </thead>\n",
              "  <tbody>\n",
              "    <tr>\n",
              "      <th>0</th>\n",
              "      <td>0.68</td>\n",
              "      <td>0.78</td>\n",
              "      <td>0.86</td>\n",
              "      <td>0.63</td>\n",
              "      <td>0.27</td>\n",
              "      <td>0</td>\n",
              "    </tr>\n",
              "    <tr>\n",
              "      <th>1</th>\n",
              "      <td>0.80</td>\n",
              "      <td>1.00</td>\n",
              "      <td>0.97</td>\n",
              "      <td>0.04</td>\n",
              "      <td>0.53</td>\n",
              "      <td>0</td>\n",
              "    </tr>\n",
              "    <tr>\n",
              "      <th>2</th>\n",
              "      <td>0.07</td>\n",
              "      <td>0.11</td>\n",
              "      <td>0.10</td>\n",
              "      <td>0.04</td>\n",
              "      <td>0.00</td>\n",
              "      <td>0</td>\n",
              "    </tr>\n",
              "    <tr>\n",
              "      <th>3</th>\n",
              "      <td>1.19</td>\n",
              "      <td>1.33</td>\n",
              "      <td>1.58</td>\n",
              "      <td>0.04</td>\n",
              "      <td>0.20</td>\n",
              "      <td>4</td>\n",
              "    </tr>\n",
              "    <tr>\n",
              "      <th>4</th>\n",
              "      <td>1.71</td>\n",
              "      <td>1.52</td>\n",
              "      <td>2.10</td>\n",
              "      <td>1.19</td>\n",
              "      <td>1.47</td>\n",
              "      <td>1</td>\n",
              "    </tr>\n",
              "  </tbody>\n",
              "</table>\n",
              "</div>"
            ],
            "text/plain": [
              "   catboost  xgbm  random_forest  linear_regression  knn  label\n",
              "0      0.68  0.78           0.86               0.63 0.27      0\n",
              "1      0.80  1.00           0.97               0.04 0.53      0\n",
              "2      0.07  0.11           0.10               0.04 0.00      0\n",
              "3      1.19  1.33           1.58               0.04 0.20      4\n",
              "4      1.71  1.52           2.10               1.19 1.47      1"
            ]
          },
          "metadata": {
            "tags": []
          },
          "execution_count": 70
        }
      ]
    },
    {
      "cell_type": "code",
      "metadata": {
        "id": "yqAyNJSJuE3N",
        "colab_type": "code",
        "colab": {
          "base_uri": "https://localhost:8080/",
          "height": 197
        },
        "outputId": "85119590-567d-49f5-965e-fcbca683aba3"
      },
      "source": [
        "# Dataset that will be the test set of the ensemble model.\n",
        "first_level_test = pd.DataFrame(catboost_test_pred, columns=['catboost'])\n",
        "first_level_test['xgbm'] = xgb_test_pred\n",
        "first_level_test['random_forest'] = rf_test_pred\n",
        "first_level_test['linear_regression'] = lr_test_pred\n",
        "first_level_test['knn'] = knn_test_pred\n",
        "first_level_test.head()"
      ],
      "execution_count": 71,
      "outputs": [
        {
          "output_type": "execute_result",
          "data": {
            "text/html": [
              "<div>\n",
              "<style scoped>\n",
              "    .dataframe tbody tr th:only-of-type {\n",
              "        vertical-align: middle;\n",
              "    }\n",
              "\n",
              "    .dataframe tbody tr th {\n",
              "        vertical-align: top;\n",
              "    }\n",
              "\n",
              "    .dataframe thead th {\n",
              "        text-align: right;\n",
              "    }\n",
              "</style>\n",
              "<table border=\"1\" class=\"dataframe\">\n",
              "  <thead>\n",
              "    <tr style=\"text-align: right;\">\n",
              "      <th></th>\n",
              "      <th>catboost</th>\n",
              "      <th>xgbm</th>\n",
              "      <th>random_forest</th>\n",
              "      <th>linear_regression</th>\n",
              "      <th>knn</th>\n",
              "    </tr>\n",
              "  </thead>\n",
              "  <tbody>\n",
              "    <tr>\n",
              "      <th>0</th>\n",
              "      <td>0.41</td>\n",
              "      <td>0.66</td>\n",
              "      <td>0.50</td>\n",
              "      <td>0.65</td>\n",
              "      <td>1.33</td>\n",
              "    </tr>\n",
              "    <tr>\n",
              "      <th>1</th>\n",
              "      <td>0.02</td>\n",
              "      <td>0.08</td>\n",
              "      <td>0.00</td>\n",
              "      <td>0.06</td>\n",
              "      <td>0.00</td>\n",
              "    </tr>\n",
              "    <tr>\n",
              "      <th>2</th>\n",
              "      <td>0.37</td>\n",
              "      <td>0.33</td>\n",
              "      <td>0.15</td>\n",
              "      <td>1.77</td>\n",
              "      <td>0.80</td>\n",
              "    </tr>\n",
              "    <tr>\n",
              "      <th>3</th>\n",
              "      <td>0.13</td>\n",
              "      <td>0.15</td>\n",
              "      <td>0.00</td>\n",
              "      <td>0.06</td>\n",
              "      <td>0.13</td>\n",
              "    </tr>\n",
              "    <tr>\n",
              "      <th>4</th>\n",
              "      <td>0.02</td>\n",
              "      <td>0.08</td>\n",
              "      <td>0.00</td>\n",
              "      <td>0.06</td>\n",
              "      <td>0.00</td>\n",
              "    </tr>\n",
              "  </tbody>\n",
              "</table>\n",
              "</div>"
            ],
            "text/plain": [
              "   catboost  xgbm  random_forest  linear_regression  knn\n",
              "0      0.41  0.66           0.50               0.65 1.33\n",
              "1      0.02  0.08           0.00               0.06 0.00\n",
              "2      0.37  0.33           0.15               1.77 0.80\n",
              "3      0.13  0.15           0.00               0.06 0.13\n",
              "4      0.02  0.08           0.00               0.06 0.00"
            ]
          },
          "metadata": {
            "tags": []
          },
          "execution_count": 71
        }
      ]
    },
    {
      "cell_type": "markdown",
      "metadata": {
        "id": "obnod2N7uJjq",
        "colab_type": "text"
      },
      "source": [
        "## Ensembling"
      ]
    },
    {
      "cell_type": "markdown",
      "metadata": {
        "id": "obIdUwIPuMCK",
        "colab_type": "text"
      },
      "source": [
        "Ensemble architecture:\n",
        "- 1st level\n",
        "  - Catboost\n",
        "  - XGBM\n",
        "  - Random forest\n",
        "  - Linear Regression\n",
        "  - KNN\n",
        "- 2nd level;\n",
        "  - Linear Regression"
      ]
    },
    {
      "cell_type": "code",
      "metadata": {
        "id": "5SEbfWlYULXO",
        "colab_type": "code",
        "colab": {}
      },
      "source": [
        "meta_model = LinearRegression(n_jobs=-1)"
      ],
      "execution_count": 0,
      "outputs": []
    },
    {
      "cell_type": "code",
      "metadata": {
        "id": "JpUTSB8aUhK9",
        "colab_type": "code",
        "colab": {
          "base_uri": "https://localhost:8080/",
          "height": 34
        },
        "outputId": "b8f3b8f7-d48c-4857-c77e-8fb1ec9c3962"
      },
      "source": [
        "# Drop label from dataset.\n",
        "first_level.drop('label', axis=1, inplace=True)\n",
        "meta_model.fit(first_level, Y_validation)"
      ],
      "execution_count": 73,
      "outputs": [
        {
          "output_type": "execute_result",
          "data": {
            "text/plain": [
              "LinearRegression(copy_X=True, fit_intercept=True, n_jobs=-1, normalize=False)"
            ]
          },
          "metadata": {
            "tags": []
          },
          "execution_count": 73
        }
      ]
    },
    {
      "cell_type": "code",
      "metadata": {
        "id": "2FadvuVZUeir",
        "colab_type": "code",
        "colab": {
          "base_uri": "https://localhost:8080/",
          "height": 34
        },
        "outputId": "14132e30-db18-4710-f8f5-ab21a6a3d50d"
      },
      "source": [
        "ensemble_pred = meta_model.predict(first_level)\n",
        "final_predictions = meta_model.predict(first_level_test)\n",
        "print('Train rmse:', np.sqrt(mean_squared_error(ensemble_pred, Y_validation)))"
      ],
      "execution_count": 74,
      "outputs": [
        {
          "output_type": "stream",
          "text": [
            "Train rmse: 0.7395733188920554\n"
          ],
          "name": "stdout"
        }
      ]
    },
    {
      "cell_type": "code",
      "metadata": {
        "id": "XSx77x5ou6BY",
        "colab_type": "code",
        "colab": {
          "base_uri": "https://localhost:8080/",
          "height": 197
        },
        "outputId": "9d261069-a6fc-4cf2-cc92-d97b10a6240c"
      },
      "source": [
        "prediction_df = pd.DataFrame(test['ID'], columns=['ID'])\n",
        "prediction_df['item_cnt_month'] = final_predictions.clip(0., 20.)\n",
        "prediction_df.to_csv('submission.csv', index=False)\n",
        "prediction_df.head()"
      ],
      "execution_count": 75,
      "outputs": [
        {
          "output_type": "execute_result",
          "data": {
            "text/html": [
              "<div>\n",
              "<style scoped>\n",
              "    .dataframe tbody tr th:only-of-type {\n",
              "        vertical-align: middle;\n",
              "    }\n",
              "\n",
              "    .dataframe tbody tr th {\n",
              "        vertical-align: top;\n",
              "    }\n",
              "\n",
              "    .dataframe thead th {\n",
              "        text-align: right;\n",
              "    }\n",
              "</style>\n",
              "<table border=\"1\" class=\"dataframe\">\n",
              "  <thead>\n",
              "    <tr style=\"text-align: right;\">\n",
              "      <th></th>\n",
              "      <th>ID</th>\n",
              "      <th>item_cnt_month</th>\n",
              "    </tr>\n",
              "  </thead>\n",
              "  <tbody>\n",
              "    <tr>\n",
              "      <th>0</th>\n",
              "      <td>0</td>\n",
              "      <td>0.96</td>\n",
              "    </tr>\n",
              "    <tr>\n",
              "      <th>1</th>\n",
              "      <td>1</td>\n",
              "      <td>0.06</td>\n",
              "    </tr>\n",
              "    <tr>\n",
              "      <th>2</th>\n",
              "      <td>2</td>\n",
              "      <td>1.13</td>\n",
              "    </tr>\n",
              "    <tr>\n",
              "      <th>3</th>\n",
              "      <td>3</td>\n",
              "      <td>0.16</td>\n",
              "    </tr>\n",
              "    <tr>\n",
              "      <th>4</th>\n",
              "      <td>4</td>\n",
              "      <td>0.06</td>\n",
              "    </tr>\n",
              "  </tbody>\n",
              "</table>\n",
              "</div>"
            ],
            "text/plain": [
              "   ID  item_cnt_month\n",
              "0   0            0.96\n",
              "1   1            0.06\n",
              "2   2            1.13\n",
              "3   3            0.16\n",
              "4   4            0.06"
            ]
          },
          "metadata": {
            "tags": []
          },
          "execution_count": 75
        }
      ]
    },
    {
      "cell_type": "markdown",
      "metadata": {
        "id": "yofJz3a1v4cO",
        "colab_type": "text"
      },
      "source": [
        "## Make Submission File"
      ]
    },
    {
      "cell_type": "code",
      "metadata": {
        "id": "t7wYt5tTv1eF",
        "colab_type": "code",
        "colab": {}
      },
      "source": [
        "prediction_df.to_csv('submission.csv', index=False)"
      ],
      "execution_count": 0,
      "outputs": []
    },
    {
      "cell_type": "code",
      "metadata": {
        "id": "kRJ6HkrSwAom",
        "colab_type": "code",
        "colab": {
          "base_uri": "https://localhost:8080/",
          "height": 89
        },
        "outputId": "00f94602-870e-4da0-eccd-2ecba5083302"
      },
      "source": [
        "!kaggle competitions submit -c competitive-data-science-predict-future-sales -f submission.csv -m test"
      ],
      "execution_count": 77,
      "outputs": [
        {
          "output_type": "stream",
          "text": [
            "Warning: Looks like you're using an outdated API Version, please consider updating (server 1.5.6 / client 1.5.4)\n",
            "100% 5.36M/5.36M [00:00<00:00, 17.8MB/s]\n",
            "Successfully submitted to Predict Future Sales"
          ],
          "name": "stdout"
        }
      ]
    },
    {
      "cell_type": "code",
      "metadata": {
        "id": "6lWM-0mbwOno",
        "colab_type": "code",
        "colab": {
          "base_uri": "https://localhost:8080/",
          "height": 355
        },
        "outputId": "1189068e-2ca1-4eda-c4b3-137d0997fdc8"
      },
      "source": [
        "from google.colab import files\n",
        "files.download('submission.csv')"
      ],
      "execution_count": 78,
      "outputs": [
        {
          "output_type": "error",
          "ename": "MessageError",
          "evalue": "ignored",
          "traceback": [
            "\u001b[0;31m---------------------------------------------------------------------------\u001b[0m",
            "\u001b[0;31mMessageError\u001b[0m                              Traceback (most recent call last)",
            "\u001b[0;32m<ipython-input-78-71f177564fd3>\u001b[0m in \u001b[0;36m<module>\u001b[0;34m()\u001b[0m\n\u001b[1;32m      1\u001b[0m \u001b[0;32mfrom\u001b[0m \u001b[0mgoogle\u001b[0m\u001b[0;34m.\u001b[0m\u001b[0mcolab\u001b[0m \u001b[0;32mimport\u001b[0m \u001b[0mfiles\u001b[0m\u001b[0;34m\u001b[0m\u001b[0;34m\u001b[0m\u001b[0m\n\u001b[0;32m----> 2\u001b[0;31m \u001b[0mfiles\u001b[0m\u001b[0;34m.\u001b[0m\u001b[0mdownload\u001b[0m\u001b[0;34m(\u001b[0m\u001b[0;34m'submission.csv'\u001b[0m\u001b[0;34m)\u001b[0m\u001b[0;34m\u001b[0m\u001b[0;34m\u001b[0m\u001b[0m\n\u001b[0m",
            "\u001b[0;32m/usr/local/lib/python3.6/dist-packages/google/colab/files.py\u001b[0m in \u001b[0;36mdownload\u001b[0;34m(filename)\u001b[0m\n\u001b[1;32m    176\u001b[0m       \u001b[0;34m'port'\u001b[0m\u001b[0;34m:\u001b[0m \u001b[0mport\u001b[0m\u001b[0;34m,\u001b[0m\u001b[0;34m\u001b[0m\u001b[0;34m\u001b[0m\u001b[0m\n\u001b[1;32m    177\u001b[0m       \u001b[0;34m'path'\u001b[0m\u001b[0;34m:\u001b[0m \u001b[0m_os\u001b[0m\u001b[0;34m.\u001b[0m\u001b[0mpath\u001b[0m\u001b[0;34m.\u001b[0m\u001b[0mabspath\u001b[0m\u001b[0;34m(\u001b[0m\u001b[0mfilename\u001b[0m\u001b[0;34m)\u001b[0m\u001b[0;34m,\u001b[0m\u001b[0;34m\u001b[0m\u001b[0;34m\u001b[0m\u001b[0m\n\u001b[0;32m--> 178\u001b[0;31m       \u001b[0;34m'name'\u001b[0m\u001b[0;34m:\u001b[0m \u001b[0m_os\u001b[0m\u001b[0;34m.\u001b[0m\u001b[0mpath\u001b[0m\u001b[0;34m.\u001b[0m\u001b[0mbasename\u001b[0m\u001b[0;34m(\u001b[0m\u001b[0mfilename\u001b[0m\u001b[0;34m)\u001b[0m\u001b[0;34m,\u001b[0m\u001b[0;34m\u001b[0m\u001b[0;34m\u001b[0m\u001b[0m\n\u001b[0m\u001b[1;32m    179\u001b[0m   })\n",
            "\u001b[0;32m/usr/local/lib/python3.6/dist-packages/google/colab/output/_js.py\u001b[0m in \u001b[0;36meval_js\u001b[0;34m(script, ignore_result)\u001b[0m\n\u001b[1;32m     37\u001b[0m   \u001b[0;32mif\u001b[0m \u001b[0mignore_result\u001b[0m\u001b[0;34m:\u001b[0m\u001b[0;34m\u001b[0m\u001b[0;34m\u001b[0m\u001b[0m\n\u001b[1;32m     38\u001b[0m     \u001b[0;32mreturn\u001b[0m\u001b[0;34m\u001b[0m\u001b[0;34m\u001b[0m\u001b[0m\n\u001b[0;32m---> 39\u001b[0;31m   \u001b[0;32mreturn\u001b[0m \u001b[0m_message\u001b[0m\u001b[0;34m.\u001b[0m\u001b[0mread_reply_from_input\u001b[0m\u001b[0;34m(\u001b[0m\u001b[0mrequest_id\u001b[0m\u001b[0;34m)\u001b[0m\u001b[0;34m\u001b[0m\u001b[0;34m\u001b[0m\u001b[0m\n\u001b[0m\u001b[1;32m     40\u001b[0m \u001b[0;34m\u001b[0m\u001b[0m\n\u001b[1;32m     41\u001b[0m \u001b[0;34m\u001b[0m\u001b[0m\n",
            "\u001b[0;32m/usr/local/lib/python3.6/dist-packages/google/colab/_message.py\u001b[0m in \u001b[0;36mread_reply_from_input\u001b[0;34m(message_id, timeout_sec)\u001b[0m\n\u001b[1;32m    104\u001b[0m         reply.get('colab_msg_id') == message_id):\n\u001b[1;32m    105\u001b[0m       \u001b[0;32mif\u001b[0m \u001b[0;34m'error'\u001b[0m \u001b[0;32min\u001b[0m \u001b[0mreply\u001b[0m\u001b[0;34m:\u001b[0m\u001b[0;34m\u001b[0m\u001b[0;34m\u001b[0m\u001b[0m\n\u001b[0;32m--> 106\u001b[0;31m         \u001b[0;32mraise\u001b[0m \u001b[0mMessageError\u001b[0m\u001b[0;34m(\u001b[0m\u001b[0mreply\u001b[0m\u001b[0;34m[\u001b[0m\u001b[0;34m'error'\u001b[0m\u001b[0;34m]\u001b[0m\u001b[0;34m)\u001b[0m\u001b[0;34m\u001b[0m\u001b[0;34m\u001b[0m\u001b[0m\n\u001b[0m\u001b[1;32m    107\u001b[0m       \u001b[0;32mreturn\u001b[0m \u001b[0mreply\u001b[0m\u001b[0;34m.\u001b[0m\u001b[0mget\u001b[0m\u001b[0;34m(\u001b[0m\u001b[0;34m'data'\u001b[0m\u001b[0;34m,\u001b[0m \u001b[0;32mNone\u001b[0m\u001b[0;34m)\u001b[0m\u001b[0;34m\u001b[0m\u001b[0;34m\u001b[0m\u001b[0m\n\u001b[1;32m    108\u001b[0m \u001b[0;34m\u001b[0m\u001b[0m\n",
            "\u001b[0;31mMessageError\u001b[0m: TypeError: Failed to fetch"
          ]
        }
      ]
    },
    {
      "cell_type": "code",
      "metadata": {
        "id": "V6brgtVOxhfE",
        "colab_type": "code",
        "colab": {}
      },
      "source": [
        ""
      ],
      "execution_count": 0,
      "outputs": []
    }
  ]
}