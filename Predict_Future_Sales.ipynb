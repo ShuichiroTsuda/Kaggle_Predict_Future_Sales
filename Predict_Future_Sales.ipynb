{
  "nbformat": 4,
  "nbformat_minor": 0,
  "metadata": {
    "colab": {
      "name": "Predict_Future_Sales.ipynb",
      "provenance": [],
      "collapsed_sections": [],
      "authorship_tag": "ABX9TyMX212Hi0yu5cM0TnV0ltcy",
      "include_colab_link": true
    },
    "kernelspec": {
      "name": "python3",
      "display_name": "Python 3"
    },
    "accelerator": "GPU"
  },
  "cells": [
    {
      "cell_type": "markdown",
      "metadata": {
        "id": "view-in-github",
        "colab_type": "text"
      },
      "source": [
        "<a href=\"https://colab.research.google.com/github/ShuichiroTsuda/Kaggle_Predict_Future_Sales/blob/master/Predict_Future_Sales.ipynb\" target=\"_parent\"><img src=\"https://colab.research.google.com/assets/colab-badge.svg\" alt=\"Open In Colab\"/></a>"
      ]
    },
    {
      "cell_type": "markdown",
      "metadata": {
        "id": "zFgG7Fjkgn8L",
        "colab_type": "text"
      },
      "source": [
        "## Download Datasets"
      ]
    },
    {
      "cell_type": "code",
      "metadata": {
        "id": "V6R2YW0bymzd",
        "colab_type": "code",
        "outputId": "b567c286-3d46-41c4-ede1-e6afb93b025d",
        "colab": {
          "base_uri": "https://localhost:8080/",
          "height": 34
        }
      },
      "source": [
        "from googleapiclient.discovery import build\n",
        "import io, os\n",
        "from googleapiclient.http import MediaIoBaseDownload\n",
        "from google.colab import auth\n",
        "\n",
        "auth.authenticate_user()\n",
        "\n",
        "drive_service = build('drive', 'v3')\n",
        "results = drive_service.files().list(\n",
        "        q=\"name = 'kaggle.json'\", fields=\"files(id)\").execute()\n",
        "kaggle_api_key = results.get('files', [])\n",
        "\n",
        "filename = \"/content/.kaggle/kaggle.json\"\n",
        "os.makedirs(os.path.dirname(filename), exist_ok=True)\n",
        "\n",
        "request = drive_service.files().get_media(fileId=kaggle_api_key[0]['id'])\n",
        "fh = io.FileIO(filename, 'wb')\n",
        "downloader = MediaIoBaseDownload(fh, request)\n",
        "done = False\n",
        "while done is False:\n",
        "    status, done = downloader.next_chunk()\n",
        "    print(\"Download %d%%.\" % int(status.progress() * 100))\n",
        "os.chmod(filename, 600)"
      ],
      "execution_count": 6,
      "outputs": [
        {
          "output_type": "stream",
          "text": [
            "Download 100%.\n"
          ],
          "name": "stdout"
        }
      ]
    },
    {
      "cell_type": "code",
      "metadata": {
        "id": "nonVSSMQ5wdC",
        "colab_type": "code",
        "colab": {}
      },
      "source": [
        "!cp /content/.kaggle/kaggle.json ~/.kaggle/kaggle.json"
      ],
      "execution_count": 0,
      "outputs": []
    },
    {
      "cell_type": "code",
      "metadata": {
        "id": "qJNnKL6TMUvx",
        "colab_type": "code",
        "outputId": "fae50af9-3ca3-420a-e557-175d1aec8c33",
        "colab": {
          "base_uri": "https://localhost:8080/",
          "height": 340
        }
      },
      "source": [
        "!kaggle competitions download -c competitive-data-science-predict-future-sales"
      ],
      "execution_count": 8,
      "outputs": [
        {
          "output_type": "stream",
          "text": [
            "Warning: Looks like you're using an outdated API Version, please consider updating (server 1.5.6 / client 1.5.4)\n",
            "Downloading shops.csv to /content\n",
            "\r  0% 0.00/2.91k [00:00<?, ?B/s]\n",
            "100% 2.91k/2.91k [00:00<00:00, 2.61MB/s]\n",
            "Downloading items.csv.zip to /content\n",
            "  0% 0.00/368k [00:00<?, ?B/s]\n",
            "100% 368k/368k [00:00<00:00, 52.0MB/s]\n",
            "Downloading test.csv.zip to /content\n",
            "  0% 0.00/1.02M [00:00<?, ?B/s]\n",
            "100% 1.02M/1.02M [00:00<00:00, 67.1MB/s]\n",
            "Downloading sales_train.csv.zip to /content\n",
            " 68% 9.00M/13.3M [00:01<00:00, 8.10MB/s]\n",
            "100% 13.3M/13.3M [00:01<00:00, 9.81MB/s]\n",
            "Downloading item_categories.csv to /content\n",
            "  0% 0.00/3.49k [00:00<?, ?B/s]\n",
            "100% 3.49k/3.49k [00:00<00:00, 3.61MB/s]\n",
            "Downloading sample_submission.csv.zip to /content\n",
            "  0% 0.00/468k [00:00<?, ?B/s]\n",
            "100% 468k/468k [00:00<00:00, 112MB/s]\n"
          ],
          "name": "stdout"
        }
      ]
    },
    {
      "cell_type": "code",
      "metadata": {
        "id": "oytscmMLPjDx",
        "colab_type": "code",
        "outputId": "8a3ac21f-aaef-4177-d961-b4f643d1893a",
        "colab": {
          "base_uri": "https://localhost:8080/",
          "height": 153
        }
      },
      "source": [
        "!unzip items.csv.zip \n",
        "!unzip sample_submission.csv.zip \n",
        "!unzip sales_train.csv.zip\n",
        "!unzip test.csv.zip"
      ],
      "execution_count": 9,
      "outputs": [
        {
          "output_type": "stream",
          "text": [
            "Archive:  items.csv.zip\n",
            "  inflating: items.csv               \n",
            "Archive:  sample_submission.csv.zip\n",
            "  inflating: sample_submission.csv   \n",
            "Archive:  sales_train.csv.zip\n",
            "  inflating: sales_train.csv         \n",
            "Archive:  test.csv.zip\n",
            "  inflating: test.csv                \n"
          ],
          "name": "stdout"
        }
      ]
    },
    {
      "cell_type": "markdown",
      "metadata": {
        "id": "T72YM-AYgyEU",
        "colab_type": "text"
      },
      "source": [
        "## Dependencies"
      ]
    },
    {
      "cell_type": "code",
      "metadata": {
        "id": "HJoJuavmDdZP",
        "colab_type": "code",
        "colab": {}
      },
      "source": [
        "import numpy as np\n",
        "import pandas as pd\n",
        "import matplotlib.pyplot as plt\n",
        "%matplotlib inline\n",
        "import seaborn as sns\n",
        "import warnings\n",
        "\n",
        "sns.set(style=\"darkgrid\")\n",
        "pd.set_option('display.float_format', lambda x: '%.2f' % x)\n",
        "warnings.filterwarnings(\"ignore\")"
      ],
      "execution_count": 0,
      "outputs": []
    },
    {
      "cell_type": "markdown",
      "metadata": {
        "id": "faCym047g8Ss",
        "colab_type": "text"
      },
      "source": [
        "## Loading Data"
      ]
    },
    {
      "cell_type": "code",
      "metadata": {
        "id": "omOgWlLPLbcB",
        "colab_type": "code",
        "colab": {}
      },
      "source": [
        "test = pd.read_csv('test.csv', \n",
        "                   dtype={'ID': 'int32', 'shop_id': 'int32', 'item_id': 'int32'})\n",
        "item_categories = pd.read_csv('item_categories.csv', \n",
        "                              dtype={'item_category_name': 'str', 'item_category_id': 'int32'})\n",
        "items = pd.read_csv('items.csv', \n",
        "                    dtype={'item_name': 'str', 'item_id': 'int32','item_category_id': 'int32'})\n",
        "shops = pd.read_csv('shops.csv', \n",
        "                    dtype={'shop_name': 'str', 'shop_id': 'int32'})\n",
        "sales = pd.read_csv('sales_train.csv', \n",
        "                    parse_dates=['date'], \n",
        "                    dtype={'date': 'str', 'date_block_num': 'int32', 'shop_id': 'int32', 'item_id': 'int32', 'item_price': 'float32', 'item_cnt_day': 'int32'})"
      ],
      "execution_count": 0,
      "outputs": []
    },
    {
      "cell_type": "code",
      "metadata": {
        "id": "HxZbSs6_RCQD",
        "colab_type": "code",
        "outputId": "4736f263-8040-44ca-f6d5-025a41359914",
        "colab": {
          "base_uri": "https://localhost:8080/",
          "height": 119
        }
      },
      "source": [
        "print(test.head())"
      ],
      "execution_count": 12,
      "outputs": [
        {
          "output_type": "stream",
          "text": [
            "   ID  shop_id  item_id\n",
            "0   0        5     5037\n",
            "1   1        5     5320\n",
            "2   2        5     5233\n",
            "3   3        5     5232\n",
            "4   4        5     5268\n"
          ],
          "name": "stdout"
        }
      ]
    },
    {
      "cell_type": "code",
      "metadata": {
        "id": "vkTBf6O2Ry-z",
        "colab_type": "code",
        "outputId": "351db70e-8427-42c0-cd5a-901f7d05940b",
        "colab": {
          "base_uri": "https://localhost:8080/",
          "height": 119
        }
      },
      "source": [
        "print(item_categories.head())"
      ],
      "execution_count": 13,
      "outputs": [
        {
          "output_type": "stream",
          "text": [
            "        item_category_name  item_category_id\n",
            "0  PC - Гарнитуры/Наушники                 0\n",
            "1         Аксессуары - PS2                 1\n",
            "2         Аксессуары - PS3                 2\n",
            "3         Аксессуары - PS4                 3\n",
            "4         Аксессуары - PSP                 4\n"
          ],
          "name": "stdout"
        }
      ]
    },
    {
      "cell_type": "code",
      "metadata": {
        "id": "teFqjS9nR1ue",
        "colab_type": "code",
        "outputId": "3ea29f8b-082b-4c0e-8f58-05db89f156fc",
        "colab": {
          "base_uri": "https://localhost:8080/",
          "height": 119
        }
      },
      "source": [
        "print(items.head())"
      ],
      "execution_count": 14,
      "outputs": [
        {
          "output_type": "stream",
          "text": [
            "                                           item_name  item_id  item_category_id\n",
            "0          ! ВО ВЛАСТИ НАВАЖДЕНИЯ (ПЛАСТ.)         D        0                40\n",
            "1  !ABBYY FineReader 12 Professional Edition Full...        1                76\n",
            "2      ***В ЛУЧАХ СЛАВЫ   (UNV)                    D        2                40\n",
            "3    ***ГОЛУБАЯ ВОЛНА  (Univ)                      D        3                40\n",
            "4        ***КОРОБКА (СТЕКЛО)                       D        4                40\n"
          ],
          "name": "stdout"
        }
      ]
    },
    {
      "cell_type": "code",
      "metadata": {
        "id": "b6hAjQJ1SFIT",
        "colab_type": "code",
        "outputId": "87f0ea41-ebc2-4107-9428-ae8b9f76a7e2",
        "colab": {
          "base_uri": "https://localhost:8080/",
          "height": 119
        }
      },
      "source": [
        "print(shops.head())"
      ],
      "execution_count": 15,
      "outputs": [
        {
          "output_type": "stream",
          "text": [
            "                        shop_name  shop_id\n",
            "0   !Якутск Орджоникидзе, 56 фран        0\n",
            "1   !Якутск ТЦ \"Центральный\" фран        1\n",
            "2                Адыгея ТЦ \"Мега\"        2\n",
            "3  Балашиха ТРК \"Октябрь-Киномир\"        3\n",
            "4        Волжский ТЦ \"Волга Молл\"        4\n"
          ],
          "name": "stdout"
        }
      ]
    },
    {
      "cell_type": "code",
      "metadata": {
        "id": "_lbhkthISWXv",
        "colab_type": "code",
        "outputId": "25fe0489-fc93-4a61-97c0-420c89e50fb8",
        "colab": {
          "base_uri": "https://localhost:8080/",
          "height": 119
        }
      },
      "source": [
        "print(sales.head())"
      ],
      "execution_count": 16,
      "outputs": [
        {
          "output_type": "stream",
          "text": [
            "        date  date_block_num  shop_id  item_id  item_price  item_cnt_day\n",
            "0 2013-02-01               0       59    22154      999.00             1\n",
            "1 2013-03-01               0       25     2552      899.00             1\n",
            "2 2013-05-01               0       25     2552      899.00            -1\n",
            "3 2013-06-01               0       25     2554     1709.05             1\n",
            "4 2013-01-15               0       25     2555     1099.00             1\n"
          ],
          "name": "stdout"
        }
      ]
    },
    {
      "cell_type": "markdown",
      "metadata": {
        "id": "94c_TltkhNLJ",
        "colab_type": "text"
      },
      "source": [
        "## Join Datasets"
      ]
    },
    {
      "cell_type": "code",
      "metadata": {
        "id": "NMe0jc9DSaOA",
        "colab_type": "code",
        "colab": {}
      },
      "source": [
        "train = sales.join(items, on='item_id', rsuffix='_').join(shops, on='shop_id', rsuffix='_').join(item_categories, on='item_category_id', rsuffix='_').drop(['item_id_', 'shop_id_', 'item_category_id_'], axis=1)"
      ],
      "execution_count": 0,
      "outputs": []
    },
    {
      "cell_type": "code",
      "metadata": {
        "id": "uXtqL8s3VSBE",
        "colab_type": "code",
        "outputId": "63c4a7ba-5d51-4d45-c5ee-5f68a8c75625",
        "colab": {
          "base_uri": "https://localhost:8080/",
          "height": 289
        }
      },
      "source": [
        "train.head()"
      ],
      "execution_count": 18,
      "outputs": [
        {
          "output_type": "execute_result",
          "data": {
            "text/html": [
              "<div>\n",
              "<style scoped>\n",
              "    .dataframe tbody tr th:only-of-type {\n",
              "        vertical-align: middle;\n",
              "    }\n",
              "\n",
              "    .dataframe tbody tr th {\n",
              "        vertical-align: top;\n",
              "    }\n",
              "\n",
              "    .dataframe thead th {\n",
              "        text-align: right;\n",
              "    }\n",
              "</style>\n",
              "<table border=\"1\" class=\"dataframe\">\n",
              "  <thead>\n",
              "    <tr style=\"text-align: right;\">\n",
              "      <th></th>\n",
              "      <th>date</th>\n",
              "      <th>date_block_num</th>\n",
              "      <th>shop_id</th>\n",
              "      <th>item_id</th>\n",
              "      <th>item_price</th>\n",
              "      <th>item_cnt_day</th>\n",
              "      <th>item_name</th>\n",
              "      <th>item_category_id</th>\n",
              "      <th>shop_name</th>\n",
              "      <th>item_category_name</th>\n",
              "    </tr>\n",
              "  </thead>\n",
              "  <tbody>\n",
              "    <tr>\n",
              "      <th>0</th>\n",
              "      <td>2013-02-01</td>\n",
              "      <td>0</td>\n",
              "      <td>59</td>\n",
              "      <td>22154</td>\n",
              "      <td>999.00</td>\n",
              "      <td>1</td>\n",
              "      <td>ЯВЛЕНИЕ 2012 (BD)</td>\n",
              "      <td>37</td>\n",
              "      <td>Ярославль ТЦ \"Альтаир\"</td>\n",
              "      <td>Кино - Blu-Ray</td>\n",
              "    </tr>\n",
              "    <tr>\n",
              "      <th>1</th>\n",
              "      <td>2013-03-01</td>\n",
              "      <td>0</td>\n",
              "      <td>25</td>\n",
              "      <td>2552</td>\n",
              "      <td>899.00</td>\n",
              "      <td>1</td>\n",
              "      <td>DEEP PURPLE  The House Of Blue Light  LP</td>\n",
              "      <td>58</td>\n",
              "      <td>Москва ТРК \"Атриум\"</td>\n",
              "      <td>Музыка - Винил</td>\n",
              "    </tr>\n",
              "    <tr>\n",
              "      <th>2</th>\n",
              "      <td>2013-05-01</td>\n",
              "      <td>0</td>\n",
              "      <td>25</td>\n",
              "      <td>2552</td>\n",
              "      <td>899.00</td>\n",
              "      <td>-1</td>\n",
              "      <td>DEEP PURPLE  The House Of Blue Light  LP</td>\n",
              "      <td>58</td>\n",
              "      <td>Москва ТРК \"Атриум\"</td>\n",
              "      <td>Музыка - Винил</td>\n",
              "    </tr>\n",
              "    <tr>\n",
              "      <th>3</th>\n",
              "      <td>2013-06-01</td>\n",
              "      <td>0</td>\n",
              "      <td>25</td>\n",
              "      <td>2554</td>\n",
              "      <td>1709.05</td>\n",
              "      <td>1</td>\n",
              "      <td>DEEP PURPLE  Who Do You Think We Are  LP</td>\n",
              "      <td>58</td>\n",
              "      <td>Москва ТРК \"Атриум\"</td>\n",
              "      <td>Музыка - Винил</td>\n",
              "    </tr>\n",
              "    <tr>\n",
              "      <th>4</th>\n",
              "      <td>2013-01-15</td>\n",
              "      <td>0</td>\n",
              "      <td>25</td>\n",
              "      <td>2555</td>\n",
              "      <td>1099.00</td>\n",
              "      <td>1</td>\n",
              "      <td>DEEP PURPLE 30 Very Best Of 2CD (Фирм.)</td>\n",
              "      <td>56</td>\n",
              "      <td>Москва ТРК \"Атриум\"</td>\n",
              "      <td>Музыка - CD фирменного производства</td>\n",
              "    </tr>\n",
              "  </tbody>\n",
              "</table>\n",
              "</div>"
            ],
            "text/plain": [
              "        date  ...                   item_category_name\n",
              "0 2013-02-01  ...                       Кино - Blu-Ray\n",
              "1 2013-03-01  ...                       Музыка - Винил\n",
              "2 2013-05-01  ...                       Музыка - Винил\n",
              "3 2013-06-01  ...                       Музыка - Винил\n",
              "4 2013-01-15  ...  Музыка - CD фирменного производства\n",
              "\n",
              "[5 rows x 10 columns]"
            ]
          },
          "metadata": {
            "tags": []
          },
          "execution_count": 18
        }
      ]
    },
    {
      "cell_type": "code",
      "metadata": {
        "id": "woDK2V0KYvPu",
        "colab_type": "code",
        "outputId": "b7b71f6d-9223-4a7b-d77b-34777aa4b4a1",
        "colab": {
          "base_uri": "https://localhost:8080/",
          "height": 297
        }
      },
      "source": [
        "train.describe()"
      ],
      "execution_count": 19,
      "outputs": [
        {
          "output_type": "execute_result",
          "data": {
            "text/html": [
              "<div>\n",
              "<style scoped>\n",
              "    .dataframe tbody tr th:only-of-type {\n",
              "        vertical-align: middle;\n",
              "    }\n",
              "\n",
              "    .dataframe tbody tr th {\n",
              "        vertical-align: top;\n",
              "    }\n",
              "\n",
              "    .dataframe thead th {\n",
              "        text-align: right;\n",
              "    }\n",
              "</style>\n",
              "<table border=\"1\" class=\"dataframe\">\n",
              "  <thead>\n",
              "    <tr style=\"text-align: right;\">\n",
              "      <th></th>\n",
              "      <th>date_block_num</th>\n",
              "      <th>shop_id</th>\n",
              "      <th>item_id</th>\n",
              "      <th>item_price</th>\n",
              "      <th>item_cnt_day</th>\n",
              "      <th>item_category_id</th>\n",
              "    </tr>\n",
              "  </thead>\n",
              "  <tbody>\n",
              "    <tr>\n",
              "      <th>count</th>\n",
              "      <td>2935849.00</td>\n",
              "      <td>2935849.00</td>\n",
              "      <td>2935849.00</td>\n",
              "      <td>2935849.00</td>\n",
              "      <td>2935849.00</td>\n",
              "      <td>2935849.00</td>\n",
              "    </tr>\n",
              "    <tr>\n",
              "      <th>mean</th>\n",
              "      <td>14.57</td>\n",
              "      <td>33.00</td>\n",
              "      <td>10197.23</td>\n",
              "      <td>890.62</td>\n",
              "      <td>1.24</td>\n",
              "      <td>40.00</td>\n",
              "    </tr>\n",
              "    <tr>\n",
              "      <th>std</th>\n",
              "      <td>9.42</td>\n",
              "      <td>16.23</td>\n",
              "      <td>6324.30</td>\n",
              "      <td>1726.44</td>\n",
              "      <td>2.62</td>\n",
              "      <td>17.10</td>\n",
              "    </tr>\n",
              "    <tr>\n",
              "      <th>min</th>\n",
              "      <td>0.00</td>\n",
              "      <td>0.00</td>\n",
              "      <td>0.00</td>\n",
              "      <td>-1.00</td>\n",
              "      <td>-22.00</td>\n",
              "      <td>0.00</td>\n",
              "    </tr>\n",
              "    <tr>\n",
              "      <th>25%</th>\n",
              "      <td>7.00</td>\n",
              "      <td>22.00</td>\n",
              "      <td>4476.00</td>\n",
              "      <td>249.00</td>\n",
              "      <td>1.00</td>\n",
              "      <td>28.00</td>\n",
              "    </tr>\n",
              "    <tr>\n",
              "      <th>50%</th>\n",
              "      <td>14.00</td>\n",
              "      <td>31.00</td>\n",
              "      <td>9343.00</td>\n",
              "      <td>399.00</td>\n",
              "      <td>1.00</td>\n",
              "      <td>40.00</td>\n",
              "    </tr>\n",
              "    <tr>\n",
              "      <th>75%</th>\n",
              "      <td>23.00</td>\n",
              "      <td>47.00</td>\n",
              "      <td>15684.00</td>\n",
              "      <td>999.00</td>\n",
              "      <td>1.00</td>\n",
              "      <td>55.00</td>\n",
              "    </tr>\n",
              "    <tr>\n",
              "      <th>max</th>\n",
              "      <td>33.00</td>\n",
              "      <td>59.00</td>\n",
              "      <td>22169.00</td>\n",
              "      <td>307980.00</td>\n",
              "      <td>2169.00</td>\n",
              "      <td>83.00</td>\n",
              "    </tr>\n",
              "  </tbody>\n",
              "</table>\n",
              "</div>"
            ],
            "text/plain": [
              "       date_block_num    shop_id  ...  item_cnt_day  item_category_id\n",
              "count      2935849.00 2935849.00  ...    2935849.00        2935849.00\n",
              "mean            14.57      33.00  ...          1.24             40.00\n",
              "std              9.42      16.23  ...          2.62             17.10\n",
              "min              0.00       0.00  ...        -22.00              0.00\n",
              "25%              7.00      22.00  ...          1.00             28.00\n",
              "50%             14.00      31.00  ...          1.00             40.00\n",
              "75%             23.00      47.00  ...          1.00             55.00\n",
              "max             33.00      59.00  ...       2169.00             83.00\n",
              "\n",
              "[8 rows x 6 columns]"
            ]
          },
          "metadata": {
            "tags": []
          },
          "execution_count": 19
        }
      ]
    },
    {
      "cell_type": "markdown",
      "metadata": {
        "id": "lmwi5BRAhb9o",
        "colab_type": "text"
      },
      "source": [
        "## Time Period"
      ]
    },
    {
      "cell_type": "code",
      "metadata": {
        "id": "6a3I5Fo5ZjH-",
        "colab_type": "code",
        "outputId": "a84e9fad-552d-4cac-efd7-dd4e16aee054",
        "colab": {
          "base_uri": "https://localhost:8080/",
          "height": 51
        }
      },
      "source": [
        "print('Min date from train set: %s' % train['date'].min().date())\n",
        "print('Max date from train set: %s' % train['date'].max().date())"
      ],
      "execution_count": 20,
      "outputs": [
        {
          "output_type": "stream",
          "text": [
            "Min date from train set: 2013-01-01\n",
            "Max date from train set: 2015-12-10\n"
          ],
          "name": "stdout"
        }
      ]
    },
    {
      "cell_type": "markdown",
      "metadata": {
        "id": "EVIBQgq-h716",
        "colab_type": "text"
      },
      "source": [
        "## Data Leakages\n",
        "I use only the \"shop_id\" and \"item_id\" that appear on the test set."
      ]
    },
    {
      "cell_type": "code",
      "metadata": {
        "id": "R26HiGqlaYte",
        "colab_type": "code",
        "colab": {}
      },
      "source": [
        "test_shop_ids = test['shop_id'].unique()\n",
        "test_item_ids = test['item_id'].unique()\n",
        "\n",
        "lk_train = train[train['shop_id'].isin(test_shop_ids)]\n",
        "lk_train = lk_train[lk_train['item_id'].isin(test_item_ids)]"
      ],
      "execution_count": 0,
      "outputs": []
    },
    {
      "cell_type": "code",
      "metadata": {
        "id": "_KFCB-T6bfpH",
        "colab_type": "code",
        "outputId": "8601f910-41c0-4c62-be4c-aa672404c569",
        "colab": {
          "base_uri": "https://localhost:8080/",
          "height": 51
        }
      },
      "source": [
        "print('Data set size before leaking:', train.shape[0])\n",
        "print('Data set size after leaking:', lk_train.shape[0])"
      ],
      "execution_count": 22,
      "outputs": [
        {
          "output_type": "stream",
          "text": [
            "Data set size before leaking: 2935849\n",
            "Data set size after leaking: 1224439\n"
          ],
          "name": "stdout"
        }
      ]
    },
    {
      "cell_type": "markdown",
      "metadata": {
        "id": "gUxLjgc-qLmV",
        "colab_type": "text"
      },
      "source": [
        "## Data Preprocesssing\n",
        "I dropped \n",
        "- the data with \"item_price <= 0\".\n",
        "- the text features.\n",
        "\n",
        "I aggregate the data by month."
      ]
    },
    {
      "cell_type": "code",
      "metadata": {
        "id": "mIMgWjQMk5DP",
        "colab_type": "code",
        "colab": {}
      },
      "source": [
        "lk_train = train.query('item_price > 0')"
      ],
      "execution_count": 0,
      "outputs": []
    },
    {
      "cell_type": "code",
      "metadata": {
        "id": "Uu-CXe7lqWRH",
        "colab_type": "code",
        "colab": {}
      },
      "source": [
        "train_monthly = lk_train[['date', 'date_block_num', 'shop_id', 'item_category_id', 'item_id', 'item_price', 'item_cnt_day']]"
      ],
      "execution_count": 0,
      "outputs": []
    },
    {
      "cell_type": "code",
      "metadata": {
        "id": "3fPwhRc6qp9T",
        "colab_type": "code",
        "colab": {}
      },
      "source": [
        "train_monthly = train_monthly.sort_values('date').groupby(['date_block_num', 'shop_id', 'item_category_id', 'item_id'], as_index=False)\n",
        "train_monthly = train_monthly.agg({'item_price':['sum', 'mean'], 'item_cnt_day':['sum', 'mean','count']})\n",
        "train_monthly.columns = ['date_block_num', 'shop_id', 'item_category_id', 'item_id', 'item_price', 'mean_item_price', 'item_cnt', 'mean_item_cnt', 'transactions']"
      ],
      "execution_count": 0,
      "outputs": []
    },
    {
      "cell_type": "code",
      "metadata": {
        "id": "hY-5I0qpKiLC",
        "colab_type": "code",
        "colab": {}
      },
      "source": [
        "# Build a data set with all the possible combinations of ['date_block_num','shop_id','item_id'] so we won't have missing records.\n",
        "shop_ids = train_monthly['shop_id'].unique()\n",
        "item_ids = train_monthly['item_id'].unique()\n",
        "empty_df = []\n",
        "for i in range(34):\n",
        "    for shop in shop_ids:\n",
        "        for item in item_ids:\n",
        "            empty_df.append([i, shop, item])\n",
        "    \n",
        "empty_df = pd.DataFrame(empty_df, columns=['date_block_num','shop_id','item_id'])\n",
        "\n",
        "# Merge the train set with the complete set (missing records will be filled with 0).\n",
        "train_monthly = pd.merge(empty_df, train_monthly, on=['date_block_num','shop_id','item_id'], how='left')\n",
        "train_monthly.fillna(0, inplace=True)\n"
      ],
      "execution_count": 0,
      "outputs": []
    },
    {
      "cell_type": "code",
      "metadata": {
        "id": "qP_f0jHOwgx7",
        "colab_type": "code",
        "colab": {}
      },
      "source": [
        ""
      ],
      "execution_count": 0,
      "outputs": []
    }
  ]
}