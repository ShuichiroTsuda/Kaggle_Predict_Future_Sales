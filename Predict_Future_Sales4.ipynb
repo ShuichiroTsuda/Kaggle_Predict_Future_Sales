{
  "nbformat": 4,
  "nbformat_minor": 0,
  "metadata": {
    "colab": {
      "name": "Predict_Future_Sales4.ipynb",
      "provenance": [],
      "collapsed_sections": [],
      "machine_shape": "hm",
      "authorship_tag": "ABX9TyPvVxiwwG+HIP+KRKRjErkC",
      "include_colab_link": true
    },
    "kernelspec": {
      "name": "python3",
      "display_name": "Python 3"
    },
    "accelerator": "GPU"
  },
  "cells": [
    {
      "cell_type": "markdown",
      "metadata": {
        "id": "view-in-github",
        "colab_type": "text"
      },
      "source": [
        "<a href=\"https://colab.research.google.com/github/ShuichiroTsuda/Kaggle_Predict_Future_Sales/blob/master/Predict_Future_Sales4.ipynb\" target=\"_parent\"><img src=\"https://colab.research.google.com/assets/colab-badge.svg\" alt=\"Open In Colab\"/></a>"
      ]
    },
    {
      "cell_type": "markdown",
      "metadata": {
        "id": "zFgG7Fjkgn8L",
        "colab_type": "text"
      },
      "source": [
        "## Download Datasets"
      ]
    },
    {
      "cell_type": "code",
      "metadata": {
        "id": "V6R2YW0bymzd",
        "colab_type": "code",
        "outputId": "ba0175cd-bb7e-4354-d790-b14a13646c11",
        "colab": {
          "base_uri": "https://localhost:8080/",
          "height": 34
        }
      },
      "source": [
        "from googleapiclient.discovery import build\n",
        "import io, os\n",
        "from googleapiclient.http import MediaIoBaseDownload\n",
        "from google.colab import auth\n",
        "import time\n",
        "\n",
        "auth.authenticate_user()\n",
        "\n",
        "drive_service = build('drive', 'v3')\n",
        "results = drive_service.files().list(\n",
        "        q=\"name = 'kaggle.json'\", fields=\"files(id)\").execute()\n",
        "kaggle_api_key = results.get('files', [])\n",
        "\n",
        "filename = \"/root/.kaggle/kaggle.json\"\n",
        "os.makedirs(os.path.dirname(filename), exist_ok=True)\n",
        "\n",
        "request = drive_service.files().get_media(fileId=kaggle_api_key[0]['id'])\n",
        "fh = io.FileIO(filename, 'wb')\n",
        "downloader = MediaIoBaseDownload(fh, request)\n",
        "done = False\n",
        "while done is False:\n",
        "    status, done = downloader.next_chunk()\n",
        "    print(\"Download %d%%.\" % int(status.progress() * 100))\n",
        "os.chmod(filename, 600)\n"
      ],
      "execution_count": 1,
      "outputs": [
        {
          "output_type": "stream",
          "text": [
            "Download 100%.\n"
          ],
          "name": "stdout"
        }
      ]
    },
    {
      "cell_type": "code",
      "metadata": {
        "id": "qJNnKL6TMUvx",
        "colab_type": "code",
        "outputId": "35f82501-ef24-4c57-df65-e73dfd17da1b",
        "colab": {
          "base_uri": "https://localhost:8080/",
          "height": 349
        }
      },
      "source": [
        "!kaggle competitions download -c competitive-data-science-predict-future-sales"
      ],
      "execution_count": 2,
      "outputs": [
        {
          "output_type": "stream",
          "text": [
            "Warning: Looks like you're using an outdated API Version, please consider updating (server 1.5.6 / client 1.5.4)\n",
            "Downloading sample_submission.csv.zip to /content\n",
            "  0% 0.00/468k [00:00<?, ?B/s]\n",
            "100% 468k/468k [00:00<00:00, 68.5MB/s]\n",
            "Downloading item_categories.csv to /content\n",
            "  0% 0.00/3.49k [00:00<?, ?B/s]\n",
            "100% 3.49k/3.49k [00:00<00:00, 3.21MB/s]\n",
            "Downloading sales_train.csv.zip to /content\n",
            " 68% 9.00M/13.3M [00:00<00:00, 32.5MB/s]\n",
            "100% 13.3M/13.3M [00:00<00:00, 38.1MB/s]\n",
            "Downloading shops.csv to /content\n",
            "  0% 0.00/2.91k [00:00<?, ?B/s]\n",
            "100% 2.91k/2.91k [00:00<00:00, 3.01MB/s]\n",
            "Downloading items.csv.zip to /content\n",
            "  0% 0.00/368k [00:00<?, ?B/s]\n",
            "100% 368k/368k [00:00<00:00, 110MB/s]\n",
            "Downloading test.csv.zip to /content\n",
            "  0% 0.00/1.02M [00:00<?, ?B/s]\n",
            "100% 1.02M/1.02M [00:00<00:00, 145MB/s]\n"
          ],
          "name": "stdout"
        }
      ]
    },
    {
      "cell_type": "code",
      "metadata": {
        "id": "oytscmMLPjDx",
        "colab_type": "code",
        "outputId": "d592bc51-6aaf-426b-a2bd-e6b45c104ab7",
        "colab": {
          "base_uri": "https://localhost:8080/",
          "height": 157
        }
      },
      "source": [
        "!unzip items.csv.zip \n",
        "!unzip sample_submission.csv.zip \n",
        "!unzip sales_train.csv.zip\n",
        "!unzip test.csv.zip"
      ],
      "execution_count": 3,
      "outputs": [
        {
          "output_type": "stream",
          "text": [
            "Archive:  items.csv.zip\n",
            "  inflating: items.csv               \n",
            "Archive:  sample_submission.csv.zip\n",
            "  inflating: sample_submission.csv   \n",
            "Archive:  sales_train.csv.zip\n",
            "  inflating: sales_train.csv         \n",
            "Archive:  test.csv.zip\n",
            "  inflating: test.csv                \n"
          ],
          "name": "stdout"
        }
      ]
    },
    {
      "cell_type": "markdown",
      "metadata": {
        "id": "T72YM-AYgyEU",
        "colab_type": "text"
      },
      "source": [
        "## Dependencies"
      ]
    },
    {
      "cell_type": "code",
      "metadata": {
        "id": "EZVh_42CXOFx",
        "colab_type": "code",
        "outputId": "91666921-ab73-450e-8b63-1769c53d8447",
        "colab": {
          "base_uri": "https://localhost:8080/",
          "height": 349
        }
      },
      "source": [
        "!pip install catboost"
      ],
      "execution_count": 4,
      "outputs": [
        {
          "output_type": "stream",
          "text": [
            "Collecting catboost\n",
            "\u001b[?25l  Downloading https://files.pythonhosted.org/packages/94/ec/12b9a42b2ea7dfe5b602f235692ab2b61ee1334ff34334a15902272869e8/catboost-0.22-cp36-none-manylinux1_x86_64.whl (64.4MB)\n",
            "\u001b[K     |████████████████████████████████| 64.4MB 42kB/s \n",
            "\u001b[?25hRequirement already satisfied: six in /usr/local/lib/python3.6/dist-packages (from catboost) (1.12.0)\n",
            "Requirement already satisfied: matplotlib in /usr/local/lib/python3.6/dist-packages (from catboost) (3.1.3)\n",
            "Requirement already satisfied: pandas>=0.24.0 in /usr/local/lib/python3.6/dist-packages (from catboost) (0.25.3)\n",
            "Requirement already satisfied: graphviz in /usr/local/lib/python3.6/dist-packages (from catboost) (0.10.1)\n",
            "Requirement already satisfied: plotly in /usr/local/lib/python3.6/dist-packages (from catboost) (4.4.1)\n",
            "Requirement already satisfied: scipy in /usr/local/lib/python3.6/dist-packages (from catboost) (1.4.1)\n",
            "Requirement already satisfied: numpy>=1.16.0 in /usr/local/lib/python3.6/dist-packages (from catboost) (1.17.5)\n",
            "Requirement already satisfied: kiwisolver>=1.0.1 in /usr/local/lib/python3.6/dist-packages (from matplotlib->catboost) (1.1.0)\n",
            "Requirement already satisfied: python-dateutil>=2.1 in /usr/local/lib/python3.6/dist-packages (from matplotlib->catboost) (2.6.1)\n",
            "Requirement already satisfied: pyparsing!=2.0.4,!=2.1.2,!=2.1.6,>=2.0.1 in /usr/local/lib/python3.6/dist-packages (from matplotlib->catboost) (2.4.6)\n",
            "Requirement already satisfied: cycler>=0.10 in /usr/local/lib/python3.6/dist-packages (from matplotlib->catboost) (0.10.0)\n",
            "Requirement already satisfied: pytz>=2017.2 in /usr/local/lib/python3.6/dist-packages (from pandas>=0.24.0->catboost) (2018.9)\n",
            "Requirement already satisfied: retrying>=1.3.3 in /usr/local/lib/python3.6/dist-packages (from plotly->catboost) (1.3.3)\n",
            "Requirement already satisfied: setuptools in /usr/local/lib/python3.6/dist-packages (from kiwisolver>=1.0.1->matplotlib->catboost) (45.2.0)\n",
            "Installing collected packages: catboost\n",
            "Successfully installed catboost-0.22\n"
          ],
          "name": "stdout"
        }
      ]
    },
    {
      "cell_type": "code",
      "metadata": {
        "id": "HJoJuavmDdZP",
        "colab_type": "code",
        "colab": {}
      },
      "source": [
        "import numpy as np\n",
        "import pandas as pd\n",
        "pd.set_option('display.max_rows', 500)\n",
        "pd.set_option('display.max_columns', 100)\n",
        "\n",
        "from itertools import product\n",
        "from sklearn.preprocessing import LabelEncoder\n",
        "\n",
        "import seaborn as sns\n",
        "import matplotlib.pyplot as plt\n",
        "\n",
        "\n",
        "import catboost\n",
        "from catboost import Pool\n",
        "from catboost import CatBoostRegressor\n",
        "\n",
        "from xgboost import XGBRegressor\n",
        "from xgboost import plot_importance\n",
        "\n",
        "from sklearn.metrics import mean_squared_error\n",
        "from sklearn.linear_model import LinearRegression\n",
        "from sklearn.neighbors import KNeighborsRegressor\n",
        "from sklearn.ensemble import RandomForestRegressor\n",
        "from sklearn.preprocessing import StandardScaler, MinMaxScaler\n",
        "\n",
        "def plot_features(booster, figsize):    \n",
        "    fig, ax = plt.subplots(1,1,figsize=figsize)\n",
        "    return plot_importance(booster=booster, ax=ax)\n",
        "\n",
        "import time\n",
        "import sys\n",
        "import gc\n",
        "import pickle\n",
        "sys.version_info\n",
        "\n",
        "%matplotlib inline\n",
        "sns.set(style=\"darkgrid\")\n",
        "pd.set_option('display.float_format', lambda x: '%.2f' % x)\n"
      ],
      "execution_count": 0,
      "outputs": []
    },
    {
      "cell_type": "markdown",
      "metadata": {
        "id": "faCym047g8Ss",
        "colab_type": "text"
      },
      "source": [
        "## Loading Data"
      ]
    },
    {
      "cell_type": "code",
      "metadata": {
        "id": "omOgWlLPLbcB",
        "colab_type": "code",
        "colab": {}
      },
      "source": [
        "test = pd.read_csv('test.csv', \n",
        "                   dtype={'ID': 'int32', 'shop_id': 'int32', 'item_id': 'int32'})\n",
        "cats = pd.read_csv('item_categories.csv', \n",
        "                              dtype={'item_category_name': 'str', 'item_category_id': 'int32'})\n",
        "items = pd.read_csv('items.csv', \n",
        "                    dtype={'item_name': 'str', 'item_id': 'int32','item_category_id': 'int32'})\n",
        "shops = pd.read_csv('shops.csv', \n",
        "                    dtype={'shop_name': 'str', 'shop_id': 'int32'})\n",
        "train = pd.read_csv('sales_train.csv', \n",
        "                    parse_dates=['date'], \n",
        "                    dtype={'date': 'str', 'date_block_num': 'int32', 'shop_id': 'int32', 'item_id': 'int32', 'item_price': 'float32', 'item_cnt_day': 'int32'})"
      ],
      "execution_count": 0,
      "outputs": []
    },
    {
      "cell_type": "markdown",
      "metadata": {
        "id": "zJbbgOEenACF",
        "colab_type": "text"
      },
      "source": [
        "## Outliers"
      ]
    },
    {
      "cell_type": "code",
      "metadata": {
        "id": "LLppoSwZm6_h",
        "colab_type": "code",
        "colab": {
          "base_uri": "https://localhost:8080/",
          "height": 561
        },
        "outputId": "17018a8d-52b7-4477-e3dc-6650441f5b54"
      },
      "source": [
        "plt.figure(figsize=(10,4))\n",
        "plt.xlim(-100, 3000)\n",
        "sns.boxplot(x=train.item_cnt_day)\n",
        "\n",
        "plt.figure(figsize=(10,4))\n",
        "plt.xlim(train.item_price.min(), train.item_price.max()*1.1)\n",
        "sns.boxplot(x=train.item_price)"
      ],
      "execution_count": 7,
      "outputs": [
        {
          "output_type": "execute_result",
          "data": {
            "text/plain": [
              "<matplotlib.axes._subplots.AxesSubplot at 0x7f65c87349b0>"
            ]
          },
          "metadata": {
            "tags": []
          },
          "execution_count": 7
        },
        {
          "output_type": "display_data",
          "data": {
            "image/png": "[encoded data removed]",
            "text/plain": [
              "<Figure size 720x288 with 1 Axes>"
            ]
          },
          "metadata": {
            "tags": []
          }
        },
        {
          "output_type": "display_data",
          "data": {
            "image/png": "[encoded data removed]",
            "text/plain": [
              "<Figure size 720x288 with 1 Axes>"
            ]
          },
          "metadata": {
            "tags": []
          }
        }
      ]
    },
    {
      "cell_type": "code",
      "metadata": {
        "id": "0btscA2Wm--2",
        "colab_type": "code",
        "colab": {}
      },
      "source": [
        "train = train[train.item_price<100000]\n",
        "train = train[train.item_cnt_day<1001]"
      ],
      "execution_count": 0,
      "outputs": []
    },
    {
      "cell_type": "code",
      "metadata": {
        "id": "MD4NxWVRnHH0",
        "colab_type": "code",
        "colab": {}
      },
      "source": [
        "median = train[(train.shop_id==32)&(train.item_id==2973)&(train.date_block_num==4)&(train.item_price>0)].item_price.median()\n",
        "train.loc[train.item_price<0, 'item_price'] = median"
      ],
      "execution_count": 0,
      "outputs": []
    },
    {
      "cell_type": "code",
      "metadata": {
        "id": "Unw23df3nLJi",
        "colab_type": "code",
        "colab": {}
      },
      "source": [
        "train.loc[train.shop_id == 0, 'shop_id'] = 57\n",
        "test.loc[test.shop_id == 0, 'shop_id'] = 57\n",
        "\n",
        "train.loc[train.shop_id == 1, 'shop_id'] = 58\n",
        "test.loc[test.shop_id == 1, 'shop_id'] = 58\n",
        "\n",
        "train.loc[train.shop_id == 10, 'shop_id'] = 11\n",
        "test.loc[test.shop_id == 10, 'shop_id'] = 11"
      ],
      "execution_count": 0,
      "outputs": []
    },
    {
      "cell_type": "code",
      "metadata": {
        "id": "HoMuGUxjndWq",
        "colab_type": "code",
        "colab": {}
      },
      "source": [
        "shops.loc[shops.shop_name == 'Сергиев Посад ТЦ \"7Я\"', 'shop_name'] = 'СергиевПосад ТЦ \"7Я\"'\n",
        "shops['city'] = shops['shop_name'].str.split(' ').map(lambda x: x[0])\n",
        "shops.loc[shops.city == '!Якутск', 'city'] = 'Якутск'\n",
        "shops['city_code'] = LabelEncoder().fit_transform(shops['city'])\n",
        "shops = shops[['shop_id','city_code']]\n",
        "\n",
        "cats['split'] = cats['item_category_name'].str.split('-')\n",
        "cats['type'] = cats['split'].map(lambda x: x[0].strip())\n",
        "cats['type_code'] = LabelEncoder().fit_transform(cats['type'])\n",
        "# if subtype is nan then type\n",
        "cats['subtype'] = cats['split'].map(lambda x: x[1].strip() if len(x) > 1 else x[0].strip())\n",
        "cats['subtype_code'] = LabelEncoder().fit_transform(cats['subtype'])\n",
        "cats = cats[['item_category_id','type_code', 'subtype_code']]\n",
        "\n",
        "items.drop(['item_name'], axis=1, inplace=True)"
      ],
      "execution_count": 0,
      "outputs": []
    },
    {
      "cell_type": "markdown",
      "metadata": {
        "id": "TlbhymEW3eVA",
        "colab_type": "text"
      },
      "source": [
        "## EDA"
      ]
    },
    {
      "cell_type": "code",
      "metadata": {
        "id": "-1VPBqsI2TRx",
        "colab_type": "code",
        "colab": {}
      },
      "source": [
        "# Grouping data for EDA.\n",
        "gp_month_mean = matrix.groupby(['month'], as_index=False)['item_cnt'].mean()\n",
        "gp_month_sum = matrix.groupby(['month'], as_index=False)['item_cnt'].sum()\n",
        "gp_category_mean = matrix.groupby(['item_category_id'], as_index=False)['item_cnt'].mean()\n",
        "gp_category_sum = matrix.groupby(['item_category_id'], as_index=False)['item_cnt'].sum()\n",
        "gp_shop_mean = matrix.groupby(['shop_id'], as_index=False)['item_cnt'].mean()\n",
        "gp_shop_sum = matrix.groupby(['shop_id'], as_index=False)['item_cnt'].sum()"
      ],
      "execution_count": 0,
      "outputs": []
    },
    {
      "cell_type": "markdown",
      "metadata": {
        "id": "_wAPN0KERBJ_",
        "colab_type": "text"
      },
      "source": [
        "### The behavior of sales along the year"
      ]
    },
    {
      "cell_type": "code",
      "metadata": {
        "id": "NihjoP3CGzTZ",
        "colab_type": "code",
        "outputId": "31bafeff-d0b6-4ad8-9ad7-ba1d06b619a6",
        "colab": {
          "base_uri": "https://localhost:8080/",
          "height": 647
        }
      },
      "source": [
        "f, axes = plt.subplots(2, 1, figsize=(22, 10), sharex=True)\n",
        "sns.lineplot(x=\"month\", y=\"item_cnt\", data=gp_month_mean, ax=axes[0]).set_title(\"Monthly mean\")\n",
        "sns.lineplot(x=\"month\", y=\"item_cnt\", data=gp_month_sum, ax=axes[1]).set_title(\"Monthly sum\")\n",
        "plt.show()"
      ],
      "execution_count": 0,
      "outputs": [
        {
          "output_type": "display_data",
          "data": {
            "image/png": "[encoded data removed]",
            "text/plain": [
              "<Figure size 1584x720 with 2 Axes>"
            ]
          },
          "metadata": {
            "tags": []
          }
        }
      ]
    },
    {
      "cell_type": "markdown",
      "metadata": {
        "id": "EDiwKlRLRABP",
        "colab_type": "text"
      },
      "source": [
        "### The amount of sales in regard to every category"
      ]
    },
    {
      "cell_type": "code",
      "metadata": {
        "id": "egnlS1_tRUZF",
        "colab_type": "code",
        "outputId": "c04ebe26-e233-4b23-8a90-47a8e2b2f79b",
        "colab": {
          "base_uri": "https://localhost:8080/",
          "height": 647
        }
      },
      "source": [
        "f, axes = plt.subplots(2, 1, figsize=(22, 10), sharex=True)\n",
        "sns.barplot(x=\"item_category_id\", y=\"item_cnt\", data=gp_category_mean, ax=axes[0], palette=\"rocket\").set_title(\"Monthly mean\")\n",
        "sns.barplot(x=\"item_category_id\", y=\"item_cnt\", data=gp_category_sum, ax=axes[1], palette=\"rocket\").set_title(\"Monthly sum\")\n",
        "plt.show()"
      ],
      "execution_count": 0,
      "outputs": [
        {
          "output_type": "display_data",
          "data": {
            "image/png": "[encoded data removed]",
            "text/plain": [
              "<Figure size 1584x720 with 2 Axes>"
            ]
          },
          "metadata": {
            "tags": []
          }
        }
      ]
    },
    {
      "cell_type": "markdown",
      "metadata": {
        "id": "TlpHOrQGnv4X",
        "colab_type": "text"
      },
      "source": [
        "## Test Set"
      ]
    },
    {
      "cell_type": "markdown",
      "metadata": {
        "id": "7bJvrXBnnhd8",
        "colab_type": "text"
      },
      "source": [
        "## Monthly Sales"
      ]
    },
    {
      "cell_type": "code",
      "metadata": {
        "id": "w0SdRaMYnlFx",
        "colab_type": "code",
        "colab": {}
      },
      "source": [
        "matrix = []\n",
        "cols = ['date_block_num','shop_id','item_id']\n",
        "for i in range(34):\n",
        "    sales = train[train.date_block_num==i]\n",
        "    matrix.append(np.array(list(product([i], sales.shop_id.unique(), sales.item_id.unique())), dtype='int16'))\n",
        "    \n",
        "matrix = pd.DataFrame(np.vstack(matrix), columns=cols)\n",
        "matrix['date_block_num'] = matrix['date_block_num'].astype(np.int8)\n",
        "matrix['shop_id'] = matrix['shop_id'].astype(np.int8)\n",
        "matrix['item_id'] = matrix['item_id'].astype(np.int16)\n",
        "matrix.sort_values(cols,inplace=True)"
      ],
      "execution_count": 0,
      "outputs": []
    },
    {
      "cell_type": "code",
      "metadata": {
        "id": "55FkoinRnpP5",
        "colab_type": "code",
        "colab": {}
      },
      "source": [
        "train['revenue'] = train['item_price'] *  train['item_cnt_day']"
      ],
      "execution_count": 0,
      "outputs": []
    },
    {
      "cell_type": "code",
      "metadata": {
        "id": "1-FhH7S3nsoR",
        "colab_type": "code",
        "colab": {}
      },
      "source": [
        "group = train.groupby(['date_block_num','shop_id','item_id']).agg({'item_cnt_day': ['sum']})\n",
        "group.columns = ['item_cnt_month']\n",
        "group.reset_index(inplace=True)\n",
        "\n",
        "matrix = pd.merge(matrix, group, on=cols, how='left')\n",
        "matrix['item_cnt_month'] = (matrix['item_cnt_month']\n",
        "                                .fillna(0)\n",
        "                                .clip(0,20) # NB clip target here\n",
        "                                .astype(np.float16))"
      ],
      "execution_count": 0,
      "outputs": []
    },
    {
      "cell_type": "code",
      "metadata": {
        "id": "nxMiA8Awn0Kw",
        "colab_type": "code",
        "colab": {}
      },
      "source": [
        "test['date_block_num'] = 34\n",
        "test['date_block_num'] = test['date_block_num'].astype(np.int8)\n",
        "test['shop_id'] = test['shop_id'].astype(np.int8)\n",
        "test['item_id'] = test['item_id'].astype(np.int16)"
      ],
      "execution_count": 0,
      "outputs": []
    },
    {
      "cell_type": "code",
      "metadata": {
        "id": "lx70Plz5n4hV",
        "colab_type": "code",
        "colab": {}
      },
      "source": [
        "matrix = pd.concat([matrix, test], ignore_index=True, sort=False, keys=cols)\n",
        "matrix.fillna(0, inplace=True) # 34 month"
      ],
      "execution_count": 0,
      "outputs": []
    },
    {
      "cell_type": "markdown",
      "metadata": {
        "id": "T7L1BBlDn7MM",
        "colab_type": "text"
      },
      "source": [
        "## Shops/Items/Cats features"
      ]
    },
    {
      "cell_type": "code",
      "metadata": {
        "id": "WN6bXwpZn9Lr",
        "colab_type": "code",
        "colab": {}
      },
      "source": [
        "matrix = pd.merge(matrix, shops, on=['shop_id'], how='left')\n",
        "matrix = pd.merge(matrix, items, on=['item_id'], how='left')\n",
        "matrix = pd.merge(matrix, cats, on=['item_category_id'], how='left')\n",
        "matrix['city_code'] = matrix['city_code'].astype(np.int8)\n",
        "matrix['item_category_id'] = matrix['item_category_id'].astype(np.int8)\n",
        "matrix['type_code'] = matrix['type_code'].astype(np.int8)\n",
        "matrix['subtype_code'] = matrix['subtype_code'].astype(np.int8)"
      ],
      "execution_count": 0,
      "outputs": []
    },
    {
      "cell_type": "markdown",
      "metadata": {
        "id": "cOvTzRdBoDmM",
        "colab_type": "text"
      },
      "source": [
        "## Traget lags"
      ]
    },
    {
      "cell_type": "code",
      "metadata": {
        "id": "79AI9XBwoGDX",
        "colab_type": "code",
        "colab": {}
      },
      "source": [
        "def lag_feature(df, lags, col):\n",
        "    tmp = df[['date_block_num','shop_id','item_id',col]]\n",
        "    for i in lags:\n",
        "        shifted = tmp.copy()\n",
        "        shifted.columns = ['date_block_num','shop_id','item_id', col+'_lag_'+str(i)]\n",
        "        shifted['date_block_num'] += i\n",
        "        df = pd.merge(df, shifted, on=['date_block_num','shop_id','item_id'], how='left')\n",
        "    return df"
      ],
      "execution_count": 0,
      "outputs": []
    },
    {
      "cell_type": "code",
      "metadata": {
        "id": "-swJwjWWoKD3",
        "colab_type": "code",
        "colab": {}
      },
      "source": [
        "matrix = lag_feature(matrix, [1,2,3,6,12], 'item_cnt_month')"
      ],
      "execution_count": 0,
      "outputs": []
    },
    {
      "cell_type": "markdown",
      "metadata": {
        "id": "Nxz7mp4EoNMX",
        "colab_type": "text"
      },
      "source": [
        "## Mean encoded features"
      ]
    },
    {
      "cell_type": "code",
      "metadata": {
        "id": "3boilsXjoPGO",
        "colab_type": "code",
        "colab": {}
      },
      "source": [
        "group = matrix.groupby(['date_block_num']).agg({'item_cnt_month': ['mean']})\n",
        "group.columns = [ 'date_avg_item_cnt' ]\n",
        "group.reset_index(inplace=True)\n",
        "\n",
        "matrix = pd.merge(matrix, group, on=['date_block_num'], how='left')\n",
        "matrix['date_avg_item_cnt'] = matrix['date_avg_item_cnt'].astype(np.float16)\n",
        "matrix = lag_feature(matrix, [1], 'date_avg_item_cnt')\n",
        "matrix.drop(['date_avg_item_cnt'], axis=1, inplace=True)"
      ],
      "execution_count": 0,
      "outputs": []
    },
    {
      "cell_type": "code",
      "metadata": {
        "id": "Jwm3NGweoU-e",
        "colab_type": "code",
        "colab": {}
      },
      "source": [
        "group = matrix.groupby(['date_block_num', 'item_id']).agg({'item_cnt_month': ['mean']})\n",
        "group.columns = [ 'date_item_avg_item_cnt' ]\n",
        "group.reset_index(inplace=True)\n",
        "\n",
        "matrix = pd.merge(matrix, group, on=['date_block_num','item_id'], how='left')\n",
        "matrix['date_item_avg_item_cnt'] = matrix['date_item_avg_item_cnt'].astype(np.float16)\n",
        "matrix = lag_feature(matrix, [1,2,3,6,12], 'date_item_avg_item_cnt')\n",
        "matrix.drop(['date_item_avg_item_cnt'], axis=1, inplace=True)"
      ],
      "execution_count": 0,
      "outputs": []
    },
    {
      "cell_type": "code",
      "metadata": {
        "id": "7LiT7GPRoXcY",
        "colab_type": "code",
        "colab": {}
      },
      "source": [
        "group = matrix.groupby(['date_block_num', 'shop_id']).agg({'item_cnt_month': ['mean']})\n",
        "group.columns = [ 'date_shop_avg_item_cnt' ]\n",
        "group.reset_index(inplace=True)\n",
        "\n",
        "matrix = pd.merge(matrix, group, on=['date_block_num','shop_id'], how='left')\n",
        "matrix['date_shop_avg_item_cnt'] = matrix['date_shop_avg_item_cnt'].astype(np.float16)\n",
        "matrix = lag_feature(matrix, [1,2,3,6,12], 'date_shop_avg_item_cnt')\n",
        "matrix.drop(['date_shop_avg_item_cnt'], axis=1, inplace=True)"
      ],
      "execution_count": 0,
      "outputs": []
    },
    {
      "cell_type": "code",
      "metadata": {
        "id": "HX-VxpOvoZ1L",
        "colab_type": "code",
        "colab": {}
      },
      "source": [
        "group = matrix.groupby(['date_block_num', 'item_category_id']).agg({'item_cnt_month': ['mean']})\n",
        "group.columns = [ 'date_cat_avg_item_cnt' ]\n",
        "group.reset_index(inplace=True)\n",
        "\n",
        "matrix = pd.merge(matrix, group, on=['date_block_num','item_category_id'], how='left')\n",
        "matrix['date_cat_avg_item_cnt'] = matrix['date_cat_avg_item_cnt'].astype(np.float16)\n",
        "matrix = lag_feature(matrix, [1], 'date_cat_avg_item_cnt')\n",
        "matrix.drop(['date_cat_avg_item_cnt'], axis=1, inplace=True)"
      ],
      "execution_count": 0,
      "outputs": []
    },
    {
      "cell_type": "code",
      "metadata": {
        "id": "i8cEliFDocRc",
        "colab_type": "code",
        "colab": {}
      },
      "source": [
        "group = matrix.groupby(['date_block_num', 'shop_id', 'item_category_id']).agg({'item_cnt_month': ['mean']})\n",
        "group.columns = ['date_shop_cat_avg_item_cnt']\n",
        "group.reset_index(inplace=True)\n",
        "\n",
        "matrix = pd.merge(matrix, group, on=['date_block_num', 'shop_id', 'item_category_id'], how='left')\n",
        "matrix['date_shop_cat_avg_item_cnt'] = matrix['date_shop_cat_avg_item_cnt'].astype(np.float16)\n",
        "matrix = lag_feature(matrix, [1], 'date_shop_cat_avg_item_cnt')\n",
        "matrix.drop(['date_shop_cat_avg_item_cnt'], axis=1, inplace=True)"
      ],
      "execution_count": 0,
      "outputs": []
    },
    {
      "cell_type": "code",
      "metadata": {
        "id": "-ags1SxLoeom",
        "colab_type": "code",
        "colab": {}
      },
      "source": [
        "group = matrix.groupby(['date_block_num', 'shop_id', 'type_code']).agg({'item_cnt_month': ['mean']})\n",
        "group.columns = ['date_shop_type_avg_item_cnt']\n",
        "group.reset_index(inplace=True)\n",
        "\n",
        "matrix = pd.merge(matrix, group, on=['date_block_num', 'shop_id', 'type_code'], how='left')\n",
        "matrix['date_shop_type_avg_item_cnt'] = matrix['date_shop_type_avg_item_cnt'].astype(np.float16)\n",
        "matrix = lag_feature(matrix, [1], 'date_shop_type_avg_item_cnt')\n",
        "matrix.drop(['date_shop_type_avg_item_cnt'], axis=1, inplace=True)"
      ],
      "execution_count": 0,
      "outputs": []
    },
    {
      "cell_type": "code",
      "metadata": {
        "id": "yh1TVRm_ohIS",
        "colab_type": "code",
        "colab": {}
      },
      "source": [
        "group = matrix.groupby(['date_block_num', 'shop_id', 'subtype_code']).agg({'item_cnt_month': ['mean']})\n",
        "group.columns = ['date_shop_subtype_avg_item_cnt']\n",
        "group.reset_index(inplace=True)\n",
        "\n",
        "matrix = pd.merge(matrix, group, on=['date_block_num', 'shop_id', 'subtype_code'], how='left')\n",
        "matrix['date_shop_subtype_avg_item_cnt'] = matrix['date_shop_subtype_avg_item_cnt'].astype(np.float16)\n",
        "matrix = lag_feature(matrix, [1], 'date_shop_subtype_avg_item_cnt')\n",
        "matrix.drop(['date_shop_subtype_avg_item_cnt'], axis=1, inplace=True)"
      ],
      "execution_count": 0,
      "outputs": []
    },
    {
      "cell_type": "code",
      "metadata": {
        "id": "cPioqHZ6ojTu",
        "colab_type": "code",
        "colab": {}
      },
      "source": [
        "group = matrix.groupby(['date_block_num', 'city_code']).agg({'item_cnt_month': ['mean']})\n",
        "group.columns = [ 'date_city_avg_item_cnt' ]\n",
        "group.reset_index(inplace=True)\n",
        "\n",
        "matrix = pd.merge(matrix, group, on=['date_block_num', 'city_code'], how='left')\n",
        "matrix['date_city_avg_item_cnt'] = matrix['date_city_avg_item_cnt'].astype(np.float16)\n",
        "matrix = lag_feature(matrix, [1], 'date_city_avg_item_cnt')\n",
        "matrix.drop(['date_city_avg_item_cnt'], axis=1, inplace=True)"
      ],
      "execution_count": 0,
      "outputs": []
    },
    {
      "cell_type": "code",
      "metadata": {
        "id": "91wyhB5Poljf",
        "colab_type": "code",
        "colab": {}
      },
      "source": [
        "group = matrix.groupby(['date_block_num', 'item_id', 'city_code']).agg({'item_cnt_month': ['mean']})\n",
        "group.columns = [ 'date_item_city_avg_item_cnt' ]\n",
        "group.reset_index(inplace=True)\n",
        "\n",
        "matrix = pd.merge(matrix, group, on=['date_block_num', 'item_id', 'city_code'], how='left')\n",
        "matrix['date_item_city_avg_item_cnt'] = matrix['date_item_city_avg_item_cnt'].astype(np.float16)\n",
        "matrix = lag_feature(matrix, [1], 'date_item_city_avg_item_cnt')\n",
        "matrix.drop(['date_item_city_avg_item_cnt'], axis=1, inplace=True)"
      ],
      "execution_count": 0,
      "outputs": []
    },
    {
      "cell_type": "code",
      "metadata": {
        "id": "vDRwTQRvooAK",
        "colab_type": "code",
        "colab": {}
      },
      "source": [
        "group = matrix.groupby(['date_block_num', 'type_code']).agg({'item_cnt_month': ['mean']})\n",
        "group.columns = [ 'date_type_avg_item_cnt' ]\n",
        "group.reset_index(inplace=True)\n",
        "\n",
        "matrix = pd.merge(matrix, group, on=['date_block_num', 'type_code'], how='left')\n",
        "matrix['date_type_avg_item_cnt'] = matrix['date_type_avg_item_cnt'].astype(np.float16)\n",
        "matrix = lag_feature(matrix, [1], 'date_type_avg_item_cnt')\n",
        "matrix.drop(['date_type_avg_item_cnt'], axis=1, inplace=True)"
      ],
      "execution_count": 0,
      "outputs": []
    },
    {
      "cell_type": "code",
      "metadata": {
        "id": "QmFJlAi3oqNS",
        "colab_type": "code",
        "colab": {}
      },
      "source": [
        "group = matrix.groupby(['date_block_num', 'subtype_code']).agg({'item_cnt_month': ['mean']})\n",
        "group.columns = [ 'date_subtype_avg_item_cnt' ]\n",
        "group.reset_index(inplace=True)\n",
        "\n",
        "matrix = pd.merge(matrix, group, on=['date_block_num', 'subtype_code'], how='left')\n",
        "matrix['date_subtype_avg_item_cnt'] = matrix['date_subtype_avg_item_cnt'].astype(np.float16)\n",
        "matrix = lag_feature(matrix, [1], 'date_subtype_avg_item_cnt')\n",
        "matrix.drop(['date_subtype_avg_item_cnt'], axis=1, inplace=True)"
      ],
      "execution_count": 0,
      "outputs": []
    },
    {
      "cell_type": "markdown",
      "metadata": {
        "id": "tfqGmMVfo669",
        "colab_type": "text"
      },
      "source": [
        "## Trend Features"
      ]
    },
    {
      "cell_type": "code",
      "metadata": {
        "id": "voNRDX7ao-8P",
        "colab_type": "code",
        "colab": {}
      },
      "source": [
        "group = train.groupby(['item_id']).agg({'item_price': ['mean']})\n",
        "group.columns = ['item_avg_item_price']\n",
        "group.reset_index(inplace=True)\n",
        "\n",
        "matrix = pd.merge(matrix, group, on=['item_id'], how='left')\n",
        "matrix['item_avg_item_price'] = matrix['item_avg_item_price'].astype(np.float16)\n",
        "\n",
        "group = train.groupby(['date_block_num','item_id']).agg({'item_price': ['mean']})\n",
        "group.columns = ['date_item_avg_item_price']\n",
        "group.reset_index(inplace=True)\n",
        "\n",
        "matrix = pd.merge(matrix, group, on=['date_block_num','item_id'], how='left')\n",
        "matrix['date_item_avg_item_price'] = matrix['date_item_avg_item_price'].astype(np.float16)\n",
        "\n",
        "lags = [1,2,3,4,5,6]\n",
        "matrix = lag_feature(matrix, lags, 'date_item_avg_item_price')\n",
        "\n",
        "for i in lags:\n",
        "    matrix['delta_price_lag_'+str(i)] = \\\n",
        "        (matrix['date_item_avg_item_price_lag_'+str(i)] - matrix['item_avg_item_price']) / matrix['item_avg_item_price']\n",
        "\n",
        "def select_trend(row):\n",
        "    for i in lags:\n",
        "        if row['delta_price_lag_'+str(i)]:\n",
        "            return row['delta_price_lag_'+str(i)]\n",
        "    return 0\n",
        "    \n",
        "matrix['delta_price_lag'] = matrix.apply(select_trend, axis=1)\n",
        "matrix['delta_price_lag'] = matrix['delta_price_lag'].astype(np.float16)\n",
        "matrix['delta_price_lag'].fillna(0, inplace=True)\n",
        "\n",
        "\n",
        "fetures_to_drop = ['item_avg_item_price', 'date_item_avg_item_price']\n",
        "for i in lags:\n",
        "    fetures_to_drop += ['date_item_avg_item_price_lag_'+str(i)]\n",
        "    fetures_to_drop += ['delta_price_lag_'+str(i)]\n",
        "\n",
        "matrix.drop(fetures_to_drop, axis=1, inplace=True)\n"
      ],
      "execution_count": 0,
      "outputs": []
    },
    {
      "cell_type": "code",
      "metadata": {
        "id": "94hikFt5pJZs",
        "colab_type": "code",
        "colab": {}
      },
      "source": [
        "group = train.groupby(['date_block_num','shop_id']).agg({'revenue': ['sum']})\n",
        "group.columns = ['date_shop_revenue']\n",
        "group.reset_index(inplace=True)\n",
        "\n",
        "matrix = pd.merge(matrix, group, on=['date_block_num','shop_id'], how='left')\n",
        "matrix['date_shop_revenue'] = matrix['date_shop_revenue'].astype(np.float32)\n",
        "\n",
        "group = group.groupby(['shop_id']).agg({'date_shop_revenue': ['mean']})\n",
        "group.columns = ['shop_avg_revenue']\n",
        "group.reset_index(inplace=True)\n",
        "\n",
        "matrix = pd.merge(matrix, group, on=['shop_id'], how='left')\n",
        "matrix['shop_avg_revenue'] = matrix['shop_avg_revenue'].astype(np.float32)\n",
        "\n",
        "matrix['delta_revenue'] = (matrix['date_shop_revenue'] - matrix['shop_avg_revenue']) / matrix['shop_avg_revenue']\n",
        "matrix['delta_revenue'] = matrix['delta_revenue'].astype(np.float16)\n",
        "\n",
        "matrix = lag_feature(matrix, [1], 'delta_revenue')\n",
        "\n",
        "matrix.drop(['date_shop_revenue','shop_avg_revenue','delta_revenue'], axis=1, inplace=True)"
      ],
      "execution_count": 0,
      "outputs": []
    },
    {
      "cell_type": "markdown",
      "metadata": {
        "id": "Ht3toe37pOGu",
        "colab_type": "text"
      },
      "source": [
        "## Special features"
      ]
    },
    {
      "cell_type": "code",
      "metadata": {
        "id": "fvXYFUlrpQS5",
        "colab_type": "code",
        "colab": {}
      },
      "source": [
        "matrix['month'] = matrix['date_block_num'] % 12\n",
        "days = pd.Series([31,28,31,30,31,30,31,31,30,31,30,31])\n",
        "matrix['days'] = matrix['month'].map(days).astype(np.int8)"
      ],
      "execution_count": 0,
      "outputs": []
    },
    {
      "cell_type": "code",
      "metadata": {
        "id": "4VTSeeL_pVYM",
        "colab_type": "code",
        "colab": {}
      },
      "source": [
        "cache = {}\n",
        "matrix['item_shop_last_sale'] = -1\n",
        "matrix['item_shop_last_sale'] = matrix['item_shop_last_sale'].astype(np.int8)\n",
        "for idx, row in matrix.iterrows():    \n",
        "    key = str(row.item_id)+' '+str(row.shop_id)\n",
        "    if key not in cache:\n",
        "        if row.item_cnt_month!=0:\n",
        "            cache[key] = row.date_block_num\n",
        "    else:\n",
        "        last_date_block_num = cache[key]\n",
        "        matrix.at[idx, 'item_shop_last_sale'] = row.date_block_num - last_date_block_num\n",
        "        cache[key] = row.date_block_num   "
      ],
      "execution_count": 0,
      "outputs": []
    },
    {
      "cell_type": "code",
      "metadata": {
        "id": "rbVCVuthpZsU",
        "colab_type": "code",
        "colab": {}
      },
      "source": [
        "cache = {}\n",
        "matrix['item_last_sale'] = -1\n",
        "matrix['item_last_sale'] = matrix['item_last_sale'].astype(np.int8)\n",
        "for idx, row in matrix.iterrows():    \n",
        "    key = row.item_id\n",
        "    if key not in cache:\n",
        "        if row.item_cnt_month!=0:\n",
        "            cache[key] = row.date_block_num\n",
        "    else:\n",
        "        last_date_block_num = cache[key]\n",
        "        if row.date_block_num>last_date_block_num:\n",
        "            matrix.at[idx, 'item_last_sale'] = row.date_block_num - last_date_block_num\n",
        "            cache[key] = row.date_block_num  "
      ],
      "execution_count": 0,
      "outputs": []
    },
    {
      "cell_type": "code",
      "metadata": {
        "id": "bHvs4bBIpc6z",
        "colab_type": "code",
        "colab": {}
      },
      "source": [
        "matrix['item_shop_first_sale'] = matrix['date_block_num'] - matrix.groupby(['item_id','shop_id'])['date_block_num'].transform('min')\n",
        "matrix['item_first_sale'] = matrix['date_block_num'] - matrix.groupby('item_id')['date_block_num'].transform('min')"
      ],
      "execution_count": 0,
      "outputs": []
    },
    {
      "cell_type": "code",
      "metadata": {
        "id": "0u19dWcO_U4V",
        "colab_type": "code",
        "colab": {}
      },
      "source": [
        "matrix['year'] = matrix['date_block_num'].apply(lambda x: ((x//12) + 2013))\n",
        "matrix['month'] = matrix['date_block_num'].apply(lambda x: (x % 12))"
      ],
      "execution_count": 0,
      "outputs": []
    },
    {
      "cell_type": "markdown",
      "metadata": {
        "id": "H7JN-dR61HpT",
        "colab_type": "text"
      },
      "source": [
        "## Show Current Dataset"
      ]
    },
    {
      "cell_type": "code",
      "metadata": {
        "id": "HNhpJ4I8zh_H",
        "colab_type": "code",
        "outputId": "974a1cbd-325b-4a5a-95bb-86b4fddb349b",
        "colab": {
          "base_uri": "https://localhost:8080/",
          "height": 1000
        }
      },
      "source": [
        "print(matrix.head().T)\n",
        "print(matrix.describe().T)"
      ],
      "execution_count": 50,
      "outputs": [
        {
          "output_type": "stream",
          "text": [
            "                                           0       1       2       3       4\n",
            "date_block_num                           0.0     0.0     0.0     0.0     0.0\n",
            "shop_id                                  2.0     2.0     2.0     2.0     2.0\n",
            "item_id                                 19.0    27.0    28.0    29.0    32.0\n",
            "item_cnt_month                           0.0     1.0     0.0     0.0     0.0\n",
            "ID                                       0.0     0.0     0.0     0.0     0.0\n",
            "city_code                                0.0     0.0     0.0     0.0     0.0\n",
            "item_category_id                        40.0    19.0    30.0    23.0    40.0\n",
            "type_code                               11.0     5.0     8.0     5.0    11.0\n",
            "subtype_code                             4.0    10.0    55.0    16.0     4.0\n",
            "item_cnt_month_lag_1                     NaN     NaN     NaN     NaN     NaN\n",
            "item_cnt_month_lag_2                     NaN     NaN     NaN     NaN     NaN\n",
            "item_cnt_month_lag_3                     NaN     NaN     NaN     NaN     NaN\n",
            "item_cnt_month_lag_6                     NaN     NaN     NaN     NaN     NaN\n",
            "item_cnt_month_lag_12                    NaN     NaN     NaN     NaN     NaN\n",
            "date_avg_item_cnt_lag_1                  NaN     NaN     NaN     NaN     NaN\n",
            "date_item_avg_item_cnt_lag_1             NaN     NaN     NaN     NaN     NaN\n",
            "date_item_avg_item_cnt_lag_2             NaN     NaN     NaN     NaN     NaN\n",
            "date_item_avg_item_cnt_lag_3             NaN     NaN     NaN     NaN     NaN\n",
            "date_item_avg_item_cnt_lag_6             NaN     NaN     NaN     NaN     NaN\n",
            "date_item_avg_item_cnt_lag_12            NaN     NaN     NaN     NaN     NaN\n",
            "date_shop_avg_item_cnt_lag_1             NaN     NaN     NaN     NaN     NaN\n",
            "date_shop_avg_item_cnt_lag_2             NaN     NaN     NaN     NaN     NaN\n",
            "date_shop_avg_item_cnt_lag_3             NaN     NaN     NaN     NaN     NaN\n",
            "date_shop_avg_item_cnt_lag_6             NaN     NaN     NaN     NaN     NaN\n",
            "date_shop_avg_item_cnt_lag_12            NaN     NaN     NaN     NaN     NaN\n",
            "date_cat_avg_item_cnt_lag_1              NaN     NaN     NaN     NaN     NaN\n",
            "date_shop_cat_avg_item_cnt_lag_1         NaN     NaN     NaN     NaN     NaN\n",
            "date_shop_type_avg_item_cnt_lag_1        NaN     NaN     NaN     NaN     NaN\n",
            "date_shop_subtype_avg_item_cnt_lag_1     NaN     NaN     NaN     NaN     NaN\n",
            "date_city_avg_item_cnt_lag_1             NaN     NaN     NaN     NaN     NaN\n",
            "date_item_city_avg_item_cnt_lag_1        NaN     NaN     NaN     NaN     NaN\n",
            "date_type_avg_item_cnt_lag_1             NaN     NaN     NaN     NaN     NaN\n",
            "date_subtype_avg_item_cnt_lag_1          NaN     NaN     NaN     NaN     NaN\n",
            "delta_price_lag                          0.0     0.0     0.0     0.0     0.0\n",
            "delta_revenue_lag_1                      NaN     NaN     NaN     NaN     NaN\n",
            "month                                    0.0     0.0     0.0     0.0     0.0\n",
            "days                                    31.0    31.0    31.0    31.0    31.0\n",
            "item_shop_last_sale                     -1.0    -1.0    -1.0    -1.0    -1.0\n",
            "item_last_sale                          -1.0    -1.0    -1.0    -1.0    -1.0\n",
            "item_shop_first_sale                     0.0     0.0     0.0     0.0     0.0\n",
            "item_first_sale                          0.0     0.0     0.0     0.0     0.0\n",
            "year                                  2013.0  2013.0  2013.0  2013.0  2013.0\n",
            "                                           count          mean           std  \\\n",
            "date_block_num                        11128004.0     15.339595      9.760412   \n",
            "shop_id                               11128004.0     31.383719     17.306657   \n",
            "item_id                               11128004.0  11303.705281   6210.933589   \n",
            "item_cnt_month                        11128004.0           NaN      0.000000   \n",
            "ID                                    11128004.0   2061.529893  17033.376124   \n",
            "city_code                             11128004.0     15.303563      8.018806   \n",
            "item_category_id                      11128004.0     44.943984     15.139996   \n",
            "type_code                             11128004.0     11.070226      2.854886   \n",
            "subtype_code                          11128004.0     18.107093     20.154524   \n",
            "item_cnt_month_lag_1                   8629143.0           NaN      0.000000   \n",
            "item_cnt_month_lag_2                   7989211.0           NaN      0.000000   \n",
            "item_cnt_month_lag_3                   7379083.0           NaN      0.000000   \n",
            "item_cnt_month_lag_6                   5742261.0           NaN      0.000000   \n",
            "item_cnt_month_lag_12                  3139542.0           NaN      0.000000   \n",
            "date_avg_item_cnt_lag_1                8629143.0           NaN      0.000000   \n",
            "date_item_avg_item_cnt_lag_1           8629143.0           NaN      0.000000   \n",
            "date_item_avg_item_cnt_lag_2           7989211.0           NaN      0.000000   \n",
            "date_item_avg_item_cnt_lag_3           7379083.0           NaN      0.000000   \n",
            "date_item_avg_item_cnt_lag_6           5742261.0           NaN      0.000000   \n",
            "date_item_avg_item_cnt_lag_12          3139542.0           NaN      0.000000   \n",
            "date_shop_avg_item_cnt_lag_1           8629143.0           NaN      0.000000   \n",
            "date_shop_avg_item_cnt_lag_2           7989211.0           NaN      0.000000   \n",
            "date_shop_avg_item_cnt_lag_3           7379083.0           NaN      0.000000   \n",
            "date_shop_avg_item_cnt_lag_6           5742261.0           NaN      0.000000   \n",
            "date_shop_avg_item_cnt_lag_12          3139542.0           NaN      0.000000   \n",
            "date_cat_avg_item_cnt_lag_1            8629143.0           NaN      0.000000   \n",
            "date_shop_cat_avg_item_cnt_lag_1       8629143.0           NaN      0.000000   \n",
            "date_shop_type_avg_item_cnt_lag_1      8629143.0           NaN      0.000000   \n",
            "date_shop_subtype_avg_item_cnt_lag_1   8629143.0           NaN      0.000000   \n",
            "date_city_avg_item_cnt_lag_1           8629143.0           NaN      0.000000   \n",
            "date_item_city_avg_item_cnt_lag_1      8629143.0           NaN      0.000000   \n",
            "date_type_avg_item_cnt_lag_1           8629143.0           NaN      0.000000   \n",
            "date_subtype_avg_item_cnt_lag_1        8629143.0           NaN      0.000000   \n",
            "delta_price_lag                       11128004.0           NaN      0.000000   \n",
            "delta_revenue_lag_1                    8629143.0           NaN      0.000000   \n",
            "month                                 11128004.0      5.268710      3.418476   \n",
            "days                                  11128004.0     30.403155      0.879510   \n",
            "item_shop_last_sale                   11128004.0     -0.005250      1.257370   \n",
            "item_last_sale                        11128004.0     -0.954223      0.377346   \n",
            "item_shop_first_sale                  11128004.0      9.033631      7.868199   \n",
            "item_first_sale                       11128004.0      9.577620      8.079989   \n",
            "year                                  11128004.0   2013.839240      0.787488   \n",
            "\n",
            "                                              min          25%           50%  \\\n",
            "date_block_num                           0.000000     7.000000     15.000000   \n",
            "shop_id                                  2.000000    16.000000     31.000000   \n",
            "item_id                                  0.000000  5947.000000  11388.000000   \n",
            "item_cnt_month                           0.000000     0.000000      0.000000   \n",
            "ID                                       0.000000     0.000000      0.000000   \n",
            "city_code                                0.000000    10.000000     13.000000   \n",
            "item_category_id                         0.000000    37.000000     40.000000   \n",
            "type_code                                0.000000    11.000000     11.000000   \n",
            "subtype_code                             0.000000     2.000000      4.000000   \n",
            "item_cnt_month_lag_1                     0.000000     0.000000      0.000000   \n",
            "item_cnt_month_lag_2                     0.000000     0.000000      0.000000   \n",
            "item_cnt_month_lag_3                     0.000000     0.000000      0.000000   \n",
            "item_cnt_month_lag_6                     0.000000     0.000000      0.000000   \n",
            "item_cnt_month_lag_12                    0.000000     0.000000      0.000000   \n",
            "date_avg_item_cnt_lag_1                  0.243042     0.272217      0.288086   \n",
            "date_item_avg_item_cnt_lag_1             0.000000     0.046509      0.127686   \n",
            "date_item_avg_item_cnt_lag_2             0.000000     0.059998      0.130493   \n",
            "date_item_avg_item_cnt_lag_3             0.000000     0.061218      0.134644   \n",
            "date_item_avg_item_cnt_lag_6             0.000000     0.065247      0.152222   \n",
            "date_item_avg_item_cnt_lag_12            0.000000     0.080017      0.180054   \n",
            "date_shop_avg_item_cnt_lag_1             0.000303     0.173706      0.234619   \n",
            "date_shop_avg_item_cnt_lag_2             0.000303     0.175293      0.236694   \n",
            "date_shop_avg_item_cnt_lag_3             0.000303     0.175659      0.237427   \n",
            "date_shop_avg_item_cnt_lag_6             0.000000     0.177368      0.238525   \n",
            "date_shop_avg_item_cnt_lag_12            0.000303     0.181274      0.243408   \n",
            "date_cat_avg_item_cnt_lag_1              0.015503     0.170288      0.224365   \n",
            "date_shop_cat_avg_item_cnt_lag_1         0.000000     0.068787      0.161133   \n",
            "date_shop_type_avg_item_cnt_lag_1        0.000000     0.099915      0.172729   \n",
            "date_shop_subtype_avg_item_cnt_lag_1     0.000000     0.070190      0.161621   \n",
            "date_city_avg_item_cnt_lag_1             0.019638     0.175903      0.258545   \n",
            "date_item_city_avg_item_cnt_lag_1        0.000000     0.000000      0.000000   \n",
            "date_type_avg_item_cnt_lag_1             0.020401     0.180298      0.216675   \n",
            "date_subtype_avg_item_cnt_lag_1          0.017853     0.169189      0.223511   \n",
            "delta_price_lag                         -1.000000    -0.021576      0.000000   \n",
            "delta_revenue_lag_1                     -0.999512    -0.245972     -0.069702   \n",
            "month                                    0.000000     2.000000      5.000000   \n",
            "days                                    28.000000    30.000000     31.000000   \n",
            "item_shop_last_sale                     -1.000000    -1.000000     -1.000000   \n",
            "item_last_sale                          -1.000000    -1.000000     -1.000000   \n",
            "item_shop_first_sale                     0.000000     3.000000      7.000000   \n",
            "item_first_sale                          0.000000     3.000000      8.000000   \n",
            "year                                  2013.000000  2013.000000   2014.000000   \n",
            "\n",
            "                                               75%            max  \n",
            "date_block_num                           23.000000      34.000000  \n",
            "shop_id                                  47.000000      59.000000  \n",
            "item_id                               16592.000000   22169.000000  \n",
            "item_cnt_month                            0.000000      20.000000  \n",
            "ID                                        0.000000  214199.000000  \n",
            "city_code                                22.000000      30.000000  \n",
            "item_category_id                         55.000000      83.000000  \n",
            "type_code                                13.000000      19.000000  \n",
            "subtype_code                             32.000000      64.000000  \n",
            "item_cnt_month_lag_1                      0.000000      20.000000  \n",
            "item_cnt_month_lag_2                      0.000000      20.000000  \n",
            "item_cnt_month_lag_3                      0.000000      20.000000  \n",
            "item_cnt_month_lag_6                      0.000000      20.000000  \n",
            "item_cnt_month_lag_12                     0.000000      20.000000  \n",
            "date_avg_item_cnt_lag_1                   0.311279       0.444092  \n",
            "date_item_avg_item_cnt_lag_1              0.304443      19.562500  \n",
            "date_item_avg_item_cnt_lag_2              0.319092      19.562500  \n",
            "date_item_avg_item_cnt_lag_3              0.326416      19.562500  \n",
            "date_item_avg_item_cnt_lag_6              0.367432      19.562500  \n",
            "date_item_avg_item_cnt_lag_12             0.416748      19.562500  \n",
            "date_shop_avg_item_cnt_lag_1              0.321533       1.798828  \n",
            "date_shop_avg_item_cnt_lag_2              0.325195       1.798828  \n",
            "date_shop_avg_item_cnt_lag_3              0.327148       1.798828  \n",
            "date_shop_avg_item_cnt_lag_6              0.332275       1.798828  \n",
            "date_shop_avg_item_cnt_lag_12             0.338135       1.527344  \n",
            "date_cat_avg_item_cnt_lag_1               0.287109      19.234375  \n",
            "date_shop_cat_avg_item_cnt_lag_1          0.337402      20.000000  \n",
            "date_shop_type_avg_item_cnt_lag_1         0.366455      20.000000  \n",
            "date_shop_subtype_avg_item_cnt_lag_1      0.341064      20.000000  \n",
            "date_city_avg_item_cnt_lag_1              0.406738       1.038086  \n",
            "date_item_city_avg_item_cnt_lag_1         0.300049      20.000000  \n",
            "date_type_avg_item_cnt_lag_1              0.290771      17.296875  \n",
            "date_subtype_avg_item_cnt_lag_1           0.287109      19.234375  \n",
            "delta_price_lag                           0.029465      11.312500  \n",
            "delta_revenue_lag_1                       0.139648       4.203125  \n",
            "month                                     8.000000      11.000000  \n",
            "days                                     31.000000      31.000000  \n",
            "item_shop_last_sale                       1.000000      33.000000  \n",
            "item_last_sale                           -1.000000      33.000000  \n",
            "item_shop_first_sale                     14.000000      34.000000  \n",
            "item_first_sale                          14.000000      34.000000  \n",
            "year                                   2014.000000    2015.000000  \n"
          ],
          "name": "stdout"
        }
      ]
    },
    {
      "cell_type": "markdown",
      "metadata": {
        "id": "3ymJNwZbT14l",
        "colab_type": "text"
      },
      "source": [
        "## Train/Validation split"
      ]
    },
    {
      "cell_type": "code",
      "metadata": {
        "id": "maoG99FfT7NV",
        "colab_type": "code",
        "outputId": "f08ba332-93d7-4509-f2ca-f102b26bbfcf",
        "colab": {
          "base_uri": "https://localhost:8080/",
          "height": 104
        }
      },
      "source": [
        "train_set = matrix.query('date_block_num >= 3 and date_block_num < 28').copy()\n",
        "validation_set = matrix.query('date_block_num >= 28 and date_block_num < 33').copy()\n",
        "test_set = matrix.query('date_block_num == 33').copy()\n",
        "\n",
        "train_set.dropna(subset=['item_cnt_month'], inplace=True)\n",
        "validation_set.dropna(subset=['item_cnt_month'], inplace=True)\n",
        "\n",
        "train_set.dropna(inplace=True)\n",
        "validation_set.dropna(inplace=True)\n",
        "\n",
        "print('Train set records:', train_set.shape[0])\n",
        "print('Validation set records:', validation_set.shape[0])\n",
        "print('Test set records:', test_set.shape[0])\n",
        "\n",
        "print('Train set records: %s (%.f%% of complete data)' % (train_set.shape[0], ((train_set.shape[0]/matrix.shape[0])*100)))\n",
        "print('Validation set records: %s (%.f%% of complete data)' % (validation_set.shape[0], ((validation_set.shape[0]/matrix.shape[0])*100)))"
      ],
      "execution_count": 51,
      "outputs": [
        {
          "output_type": "stream",
          "text": [
            "Train set records: 1640712\n",
            "Validation set records: 399542\n",
            "Test set records: 238172\n",
            "Train set records: 1640712 (15% of complete data)\n",
            "Validation set records: 399542 (4% of complete data)\n"
          ],
          "name": "stdout"
        }
      ]
    },
    {
      "cell_type": "markdown",
      "metadata": {
        "id": "_OK63pzbUt9a",
        "colab_type": "text"
      },
      "source": [
        "## Build Test Set\n",
        "I want to  predict for \"date_block_num\" 34 so our test set will be block 33 and our predictions should reflect block 34 values. "
      ]
    },
    {
      "cell_type": "code",
      "metadata": {
        "id": "xori7viv-RJR",
        "colab_type": "code",
        "colab": {}
      },
      "source": [
        "# Create train and validation sets and labels. \n",
        "X_train = train_set.drop(['item_cnt_month', 'date_block_num'], axis=1)\n",
        "Y_train = train_set['item_cnt_month'].astype(int)\n",
        "X_validation = validation_set.drop(['item_cnt_month', 'date_block_num'], axis=1)\n",
        "Y_validation = validation_set['item_cnt_month'].astype(int)"
      ],
      "execution_count": 0,
      "outputs": []
    },
    {
      "cell_type": "code",
      "metadata": {
        "id": "PcVT_A9VCpC2",
        "colab_type": "code",
        "colab": {}
      },
      "source": [
        "int_features = ['shop_id', 'item_id', 'city_code', 'type_code', 'subtype_code', 'month', 'days', 'year']"
      ],
      "execution_count": 0,
      "outputs": []
    },
    {
      "cell_type": "code",
      "metadata": {
        "id": "6hyVRlwdUtK_",
        "colab_type": "code",
        "colab": {}
      },
      "source": [
        "latest_records = pd.concat([train_set, validation_set]).drop_duplicates(subset=['shop_id', 'item_id'], keep='last')\n",
        "X_test = pd.merge(test, latest_records, on=['shop_id', 'item_id'], how='left', suffixes=['', '_'])\n",
        "X_test['year'] = 2015\n",
        "X_test['month'] = 9\n",
        "X_test.drop('item_cnt_month', axis=1, inplace=True)\n",
        "X_test[int_features] = X_test[int_features].astype('int32')\n",
        "X_test = X_test[X_train.columns]"
      ],
      "execution_count": 0,
      "outputs": []
    },
    {
      "cell_type": "markdown",
      "metadata": {
        "colab_type": "text",
        "id": "HKGvKfi3ADMW"
      },
      "source": [
        "## Replacing Missing Values"
      ]
    },
    {
      "cell_type": "code",
      "metadata": {
        "id": "hn2twaIBAD9A",
        "colab_type": "code",
        "colab": {}
      },
      "source": [
        "def fill_na(df):\n",
        "    for col in df.columns:\n",
        "        if ('_lag_' in col) & (df[col].isnull().any()):\n",
        "            if ('item_cnt' in col):\n",
        "                df[col].fillna(0, inplace=True)         \n",
        "    return df\n",
        "\n",
        "matrix = fill_na(matrix)"
      ],
      "execution_count": 0,
      "outputs": []
    },
    {
      "cell_type": "code",
      "metadata": {
        "id": "nBCOl7naVDvR",
        "colab_type": "code",
        "colab": {}
      },
      "source": [
        "sets = [X_train, X_validation, X_test]\n",
        "\n",
        "# Replace missing values with the median of each shop.            \n",
        "for dataset in sets:\n",
        "    for shop_id in dataset['shop_id'].unique():\n",
        "        for column in dataset.columns:\n",
        "            shop_median = dataset[(dataset['shop_id'] == shop_id)][column].median()\n",
        "            dataset.loc[(dataset[column].isnull()) & (dataset['shop_id'] == shop_id), column] = shop_median\n",
        "            \n",
        "# Fill remaining missing values on test set with mean.\n",
        "X_test.fillna(X_test.mean(), inplace=True)"
      ],
      "execution_count": 0,
      "outputs": []
    },
    {
      "cell_type": "code",
      "metadata": {
        "id": "lSwhccgXWVAE",
        "colab_type": "code",
        "colab": {
          "base_uri": "https://localhost:8080/",
          "height": 352
        },
        "outputId": "b88f80cb-1700-4f12-e031-308391e2fd4f"
      },
      "source": [
        "# I'm dropping \"item_category_id\", we don't have it on test set and would be a little hard to create categories for items that exist only on test set.\n",
        "X_train.drop(['item_category_id','ID'], axis=1, inplace=True)\n",
        "X_validation.drop(['item_category_id','ID'], axis=1, inplace=True)\n",
        "X_test.drop(['item_category_id', 'ID'], axis=1, inplace=True)"
      ],
      "execution_count": 61,
      "outputs": [
        {
          "output_type": "error",
          "ename": "KeyError",
          "evalue": "ignored",
          "traceback": [
            "\u001b[0;31m---------------------------------------------------------------------------\u001b[0m",
            "\u001b[0;31mKeyError\u001b[0m                                  Traceback (most recent call last)",
            "\u001b[0;32m<ipython-input-61-99e1a0d1cc9d>\u001b[0m in \u001b[0;36m<module>\u001b[0;34m()\u001b[0m\n\u001b[0;32m----> 1\u001b[0;31m \u001b[0mX_train\u001b[0m\u001b[0;34m.\u001b[0m\u001b[0mdrop\u001b[0m\u001b[0;34m(\u001b[0m\u001b[0;34m[\u001b[0m\u001b[0;34m'item_category_id'\u001b[0m\u001b[0;34m,\u001b[0m\u001b[0;34m'ID'\u001b[0m\u001b[0;34m]\u001b[0m\u001b[0;34m,\u001b[0m \u001b[0maxis\u001b[0m\u001b[0;34m=\u001b[0m\u001b[0;36m1\u001b[0m\u001b[0;34m,\u001b[0m \u001b[0minplace\u001b[0m\u001b[0;34m=\u001b[0m\u001b[0;32mFalse\u001b[0m\u001b[0;34m)\u001b[0m\u001b[0;34m\u001b[0m\u001b[0;34m\u001b[0m\u001b[0m\n\u001b[0m\u001b[1;32m      2\u001b[0m \u001b[0mX_validation\u001b[0m\u001b[0;34m.\u001b[0m\u001b[0mdrop\u001b[0m\u001b[0;34m(\u001b[0m\u001b[0;34m[\u001b[0m\u001b[0;34m'item_category_id'\u001b[0m\u001b[0;34m,\u001b[0m\u001b[0;34m'ID'\u001b[0m\u001b[0;34m]\u001b[0m\u001b[0;34m,\u001b[0m \u001b[0maxis\u001b[0m\u001b[0;34m=\u001b[0m\u001b[0;36m1\u001b[0m\u001b[0;34m,\u001b[0m \u001b[0minplace\u001b[0m\u001b[0;34m=\u001b[0m\u001b[0;32mTrue\u001b[0m\u001b[0;34m)\u001b[0m\u001b[0;34m\u001b[0m\u001b[0;34m\u001b[0m\u001b[0m\n\u001b[1;32m      3\u001b[0m \u001b[0mX_test\u001b[0m\u001b[0;34m.\u001b[0m\u001b[0mdrop\u001b[0m\u001b[0;34m(\u001b[0m\u001b[0;34m[\u001b[0m\u001b[0;34m'item_category_id'\u001b[0m\u001b[0;34m,\u001b[0m \u001b[0;34m'ID'\u001b[0m\u001b[0;34m]\u001b[0m\u001b[0;34m,\u001b[0m \u001b[0maxis\u001b[0m\u001b[0;34m=\u001b[0m\u001b[0;36m1\u001b[0m\u001b[0;34m,\u001b[0m \u001b[0minplace\u001b[0m\u001b[0;34m=\u001b[0m\u001b[0;32mTrue\u001b[0m\u001b[0;34m)\u001b[0m\u001b[0;34m\u001b[0m\u001b[0;34m\u001b[0m\u001b[0m\n",
            "\u001b[0;32m/usr/local/lib/python3.6/dist-packages/pandas/core/frame.py\u001b[0m in \u001b[0;36mdrop\u001b[0;34m(self, labels, axis, index, columns, level, inplace, errors)\u001b[0m\n\u001b[1;32m   4115\u001b[0m             \u001b[0mlevel\u001b[0m\u001b[0;34m=\u001b[0m\u001b[0mlevel\u001b[0m\u001b[0;34m,\u001b[0m\u001b[0;34m\u001b[0m\u001b[0;34m\u001b[0m\u001b[0m\n\u001b[1;32m   4116\u001b[0m             \u001b[0minplace\u001b[0m\u001b[0;34m=\u001b[0m\u001b[0minplace\u001b[0m\u001b[0;34m,\u001b[0m\u001b[0;34m\u001b[0m\u001b[0;34m\u001b[0m\u001b[0m\n\u001b[0;32m-> 4117\u001b[0;31m             \u001b[0merrors\u001b[0m\u001b[0;34m=\u001b[0m\u001b[0merrors\u001b[0m\u001b[0;34m,\u001b[0m\u001b[0;34m\u001b[0m\u001b[0;34m\u001b[0m\u001b[0m\n\u001b[0m\u001b[1;32m   4118\u001b[0m         )\n\u001b[1;32m   4119\u001b[0m \u001b[0;34m\u001b[0m\u001b[0m\n",
            "\u001b[0;32m/usr/local/lib/python3.6/dist-packages/pandas/core/generic.py\u001b[0m in \u001b[0;36mdrop\u001b[0;34m(self, labels, axis, index, columns, level, inplace, errors)\u001b[0m\n\u001b[1;32m   3912\u001b[0m         \u001b[0;32mfor\u001b[0m \u001b[0maxis\u001b[0m\u001b[0;34m,\u001b[0m \u001b[0mlabels\u001b[0m \u001b[0;32min\u001b[0m \u001b[0maxes\u001b[0m\u001b[0;34m.\u001b[0m\u001b[0mitems\u001b[0m\u001b[0;34m(\u001b[0m\u001b[0;34m)\u001b[0m\u001b[0;34m:\u001b[0m\u001b[0;34m\u001b[0m\u001b[0;34m\u001b[0m\u001b[0m\n\u001b[1;32m   3913\u001b[0m             \u001b[0;32mif\u001b[0m \u001b[0mlabels\u001b[0m \u001b[0;32mis\u001b[0m \u001b[0;32mnot\u001b[0m \u001b[0;32mNone\u001b[0m\u001b[0;34m:\u001b[0m\u001b[0;34m\u001b[0m\u001b[0;34m\u001b[0m\u001b[0m\n\u001b[0;32m-> 3914\u001b[0;31m                 \u001b[0mobj\u001b[0m \u001b[0;34m=\u001b[0m \u001b[0mobj\u001b[0m\u001b[0;34m.\u001b[0m\u001b[0m_drop_axis\u001b[0m\u001b[0;34m(\u001b[0m\u001b[0mlabels\u001b[0m\u001b[0;34m,\u001b[0m \u001b[0maxis\u001b[0m\u001b[0;34m,\u001b[0m \u001b[0mlevel\u001b[0m\u001b[0;34m=\u001b[0m\u001b[0mlevel\u001b[0m\u001b[0;34m,\u001b[0m \u001b[0merrors\u001b[0m\u001b[0;34m=\u001b[0m\u001b[0merrors\u001b[0m\u001b[0;34m)\u001b[0m\u001b[0;34m\u001b[0m\u001b[0;34m\u001b[0m\u001b[0m\n\u001b[0m\u001b[1;32m   3915\u001b[0m \u001b[0;34m\u001b[0m\u001b[0m\n\u001b[1;32m   3916\u001b[0m         \u001b[0;32mif\u001b[0m \u001b[0minplace\u001b[0m\u001b[0;34m:\u001b[0m\u001b[0;34m\u001b[0m\u001b[0;34m\u001b[0m\u001b[0m\n",
            "\u001b[0;32m/usr/local/lib/python3.6/dist-packages/pandas/core/generic.py\u001b[0m in \u001b[0;36m_drop_axis\u001b[0;34m(self, labels, axis, level, errors)\u001b[0m\n\u001b[1;32m   3944\u001b[0m                 \u001b[0mnew_axis\u001b[0m \u001b[0;34m=\u001b[0m \u001b[0maxis\u001b[0m\u001b[0;34m.\u001b[0m\u001b[0mdrop\u001b[0m\u001b[0;34m(\u001b[0m\u001b[0mlabels\u001b[0m\u001b[0;34m,\u001b[0m \u001b[0mlevel\u001b[0m\u001b[0;34m=\u001b[0m\u001b[0mlevel\u001b[0m\u001b[0;34m,\u001b[0m \u001b[0merrors\u001b[0m\u001b[0;34m=\u001b[0m\u001b[0merrors\u001b[0m\u001b[0;34m)\u001b[0m\u001b[0;34m\u001b[0m\u001b[0;34m\u001b[0m\u001b[0m\n\u001b[1;32m   3945\u001b[0m             \u001b[0;32melse\u001b[0m\u001b[0;34m:\u001b[0m\u001b[0;34m\u001b[0m\u001b[0;34m\u001b[0m\u001b[0m\n\u001b[0;32m-> 3946\u001b[0;31m                 \u001b[0mnew_axis\u001b[0m \u001b[0;34m=\u001b[0m \u001b[0maxis\u001b[0m\u001b[0;34m.\u001b[0m\u001b[0mdrop\u001b[0m\u001b[0;34m(\u001b[0m\u001b[0mlabels\u001b[0m\u001b[0;34m,\u001b[0m \u001b[0merrors\u001b[0m\u001b[0;34m=\u001b[0m\u001b[0merrors\u001b[0m\u001b[0;34m)\u001b[0m\u001b[0;34m\u001b[0m\u001b[0;34m\u001b[0m\u001b[0m\n\u001b[0m\u001b[1;32m   3947\u001b[0m             \u001b[0mresult\u001b[0m \u001b[0;34m=\u001b[0m \u001b[0mself\u001b[0m\u001b[0;34m.\u001b[0m\u001b[0mreindex\u001b[0m\u001b[0;34m(\u001b[0m\u001b[0;34m**\u001b[0m\u001b[0;34m{\u001b[0m\u001b[0maxis_name\u001b[0m\u001b[0;34m:\u001b[0m \u001b[0mnew_axis\u001b[0m\u001b[0;34m}\u001b[0m\u001b[0;34m)\u001b[0m\u001b[0;34m\u001b[0m\u001b[0;34m\u001b[0m\u001b[0m\n\u001b[1;32m   3948\u001b[0m \u001b[0;34m\u001b[0m\u001b[0m\n",
            "\u001b[0;32m/usr/local/lib/python3.6/dist-packages/pandas/core/indexes/base.py\u001b[0m in \u001b[0;36mdrop\u001b[0;34m(self, labels, errors)\u001b[0m\n\u001b[1;32m   5338\u001b[0m         \u001b[0;32mif\u001b[0m \u001b[0mmask\u001b[0m\u001b[0;34m.\u001b[0m\u001b[0many\u001b[0m\u001b[0;34m(\u001b[0m\u001b[0;34m)\u001b[0m\u001b[0;34m:\u001b[0m\u001b[0;34m\u001b[0m\u001b[0;34m\u001b[0m\u001b[0m\n\u001b[1;32m   5339\u001b[0m             \u001b[0;32mif\u001b[0m \u001b[0merrors\u001b[0m \u001b[0;34m!=\u001b[0m \u001b[0;34m\"ignore\"\u001b[0m\u001b[0;34m:\u001b[0m\u001b[0;34m\u001b[0m\u001b[0;34m\u001b[0m\u001b[0m\n\u001b[0;32m-> 5340\u001b[0;31m                 \u001b[0;32mraise\u001b[0m \u001b[0mKeyError\u001b[0m\u001b[0;34m(\u001b[0m\u001b[0;34m\"{} not found in axis\"\u001b[0m\u001b[0;34m.\u001b[0m\u001b[0mformat\u001b[0m\u001b[0;34m(\u001b[0m\u001b[0mlabels\u001b[0m\u001b[0;34m[\u001b[0m\u001b[0mmask\u001b[0m\u001b[0;34m]\u001b[0m\u001b[0;34m)\u001b[0m\u001b[0;34m)\u001b[0m\u001b[0;34m\u001b[0m\u001b[0;34m\u001b[0m\u001b[0m\n\u001b[0m\u001b[1;32m   5341\u001b[0m             \u001b[0mindexer\u001b[0m \u001b[0;34m=\u001b[0m \u001b[0mindexer\u001b[0m\u001b[0;34m[\u001b[0m\u001b[0;34m~\u001b[0m\u001b[0mmask\u001b[0m\u001b[0;34m]\u001b[0m\u001b[0;34m\u001b[0m\u001b[0;34m\u001b[0m\u001b[0m\n\u001b[1;32m   5342\u001b[0m         \u001b[0;32mreturn\u001b[0m \u001b[0mself\u001b[0m\u001b[0;34m.\u001b[0m\u001b[0mdelete\u001b[0m\u001b[0;34m(\u001b[0m\u001b[0mindexer\u001b[0m\u001b[0;34m)\u001b[0m\u001b[0;34m\u001b[0m\u001b[0;34m\u001b[0m\u001b[0m\n",
            "\u001b[0;31mKeyError\u001b[0m: \"['item_category_id'] not found in axis\""
          ]
        }
      ]
    },
    {
      "cell_type": "code",
      "metadata": {
        "id": "TkmlXoTSBiEV",
        "colab_type": "code",
        "colab": {}
      },
      "source": [
        "X_train.drop(['ID'], axis=1, inplace=True)\n",
        "X_validation.drop(['ID'], axis=1, inplace=True)\n",
        "X_test.drop(['ID'], axis=1, inplace=True)"
      ],
      "execution_count": 0,
      "outputs": []
    },
    {
      "cell_type": "code",
      "metadata": {
        "id": "VSg_WiMaUhOi",
        "colab_type": "code",
        "colab": {}
      },
      "source": [
        "X_train[int_features] = X_train[int_features].astype('int32')\n",
        "X_validation[int_features] = X_validation[int_features].astype('int32')\n",
        "X_test[int_features] = X_test[int_features].astype('int32')\n",
        "X_test = X_test[X_train.columns]"
      ],
      "execution_count": 0,
      "outputs": []
    },
    {
      "cell_type": "markdown",
      "metadata": {
        "id": "gf7I6qalWY7N",
        "colab_type": "text"
      },
      "source": [
        "## Test Set"
      ]
    },
    {
      "cell_type": "code",
      "metadata": {
        "id": "TmPoa769Wdct",
        "colab_type": "code",
        "outputId": "a466f234-2c80-4da8-946a-14999792f585",
        "colab": {
          "base_uri": "https://localhost:8080/",
          "height": 1000
        }
      },
      "source": [
        "print(X_test.head().T)\n",
        "print(X_test.describe().T)"
      ],
      "execution_count": 63,
      "outputs": [
        {
          "output_type": "stream",
          "text": [
            "                                                0            1            2  \\\n",
            "shop_id                                  5.000000     5.000000     5.000000   \n",
            "item_id                               5037.000000  5320.000000  5233.000000   \n",
            "city_code                                3.000000     3.000000     3.000000   \n",
            "type_code                                5.000000    12.000000    12.000000   \n",
            "subtype_code                            10.000000    10.000000    10.000000   \n",
            "item_cnt_month_lag_1                     3.000000     0.000000     0.000000   \n",
            "item_cnt_month_lag_2                     1.000000     0.000000     0.000000   \n",
            "item_cnt_month_lag_3                     1.000000     0.000000     0.000000   \n",
            "item_cnt_month_lag_6                     0.000000     0.000000     0.000000   \n",
            "item_cnt_month_lag_12                    1.000000     0.000000     0.000000   \n",
            "date_avg_item_cnt_lag_1                  0.288086     0.288086     0.288086   \n",
            "date_item_avg_item_cnt_lag_1             2.833984     0.119019     0.119019   \n",
            "date_item_avg_item_cnt_lag_2             1.255859     0.119995     0.119995   \n",
            "date_item_avg_item_cnt_lag_3             2.441406     0.116272     0.116272   \n",
            "date_item_avg_item_cnt_lag_6             0.673828     0.195679     0.195679   \n",
            "date_item_avg_item_cnt_lag_12            4.179688     0.199951     0.199951   \n",
            "date_shop_avg_item_cnt_lag_1             0.245117     0.245117     0.245117   \n",
            "date_shop_avg_item_cnt_lag_2             0.179810     0.179810     0.179810   \n",
            "date_shop_avg_item_cnt_lag_3             0.179077     0.179077     0.179077   \n",
            "date_shop_avg_item_cnt_lag_6             0.179932     0.179932     0.179932   \n",
            "date_shop_avg_item_cnt_lag_12            0.202881     0.202881     0.202881   \n",
            "date_cat_avg_item_cnt_lag_1              0.673340     0.217285     0.217285   \n",
            "date_shop_cat_avg_item_cnt_lag_1         0.830078     0.215210     0.215210   \n",
            "date_shop_type_avg_item_cnt_lag_1        0.614258     0.182739     0.182739   \n",
            "date_shop_subtype_avg_item_cnt_lag_1     0.775879     0.215210     0.215210   \n",
            "date_city_avg_item_cnt_lag_1             0.245117     0.245117     0.245117   \n",
            "date_item_city_avg_item_cnt_lag_1        3.000000     0.000000     0.000000   \n",
            "date_type_avg_item_cnt_lag_1             0.610352     0.213501     0.213501   \n",
            "date_subtype_avg_item_cnt_lag_1          0.625488     0.217285     0.217285   \n",
            "delta_price_lag                         -0.535645     0.009117     0.009117   \n",
            "delta_revenue_lag_1                      0.003952     0.003952     0.003952   \n",
            "month                                    9.000000     9.000000     9.000000   \n",
            "days                                    30.000000    30.000000    30.000000   \n",
            "item_shop_last_sale                      1.000000     1.000000     1.000000   \n",
            "item_last_sale                          -1.000000    -1.000000    -1.000000   \n",
            "item_shop_first_sale                    12.000000    23.000000    23.000000   \n",
            "item_first_sale                         12.000000    23.000000    23.000000   \n",
            "year                                  2015.000000  2015.000000  2015.000000   \n",
            "\n",
            "                                                3            4  \n",
            "shop_id                                  5.000000     5.000000  \n",
            "item_id                               5232.000000  5268.000000  \n",
            "city_code                                3.000000     3.000000  \n",
            "type_code                               12.000000    12.000000  \n",
            "subtype_code                            10.000000    10.000000  \n",
            "item_cnt_month_lag_1                     0.000000     0.000000  \n",
            "item_cnt_month_lag_2                     0.000000     0.000000  \n",
            "item_cnt_month_lag_3                     0.000000     0.000000  \n",
            "item_cnt_month_lag_6                     0.000000     0.000000  \n",
            "item_cnt_month_lag_12                    0.000000     0.000000  \n",
            "date_avg_item_cnt_lag_1                  0.288086     0.288086  \n",
            "date_item_avg_item_cnt_lag_1             0.119019     0.119019  \n",
            "date_item_avg_item_cnt_lag_2             0.119995     0.119995  \n",
            "date_item_avg_item_cnt_lag_3             0.116272     0.116272  \n",
            "date_item_avg_item_cnt_lag_6             0.195679     0.195679  \n",
            "date_item_avg_item_cnt_lag_12            0.199951     0.199951  \n",
            "date_shop_avg_item_cnt_lag_1             0.245117     0.245117  \n",
            "date_shop_avg_item_cnt_lag_2             0.179810     0.179810  \n",
            "date_shop_avg_item_cnt_lag_3             0.179077     0.179077  \n",
            "date_shop_avg_item_cnt_lag_6             0.179932     0.179932  \n",
            "date_shop_avg_item_cnt_lag_12            0.202881     0.202881  \n",
            "date_cat_avg_item_cnt_lag_1              0.217285     0.217285  \n",
            "date_shop_cat_avg_item_cnt_lag_1         0.215210     0.215210  \n",
            "date_shop_type_avg_item_cnt_lag_1        0.182739     0.182739  \n",
            "date_shop_subtype_avg_item_cnt_lag_1     0.215210     0.215210  \n",
            "date_city_avg_item_cnt_lag_1             0.245117     0.245117  \n",
            "date_item_city_avg_item_cnt_lag_1        0.000000     0.000000  \n",
            "date_type_avg_item_cnt_lag_1             0.213501     0.213501  \n",
            "date_subtype_avg_item_cnt_lag_1          0.217285     0.217285  \n",
            "delta_price_lag                          0.009117     0.009117  \n",
            "delta_revenue_lag_1                      0.003952     0.003952  \n",
            "month                                    9.000000     9.000000  \n",
            "days                                    30.000000    30.000000  \n",
            "item_shop_last_sale                      1.000000     1.000000  \n",
            "item_last_sale                          -1.000000    -1.000000  \n",
            "item_shop_first_sale                    23.000000    23.000000  \n",
            "item_first_sale                         23.000000    23.000000  \n",
            "year                                  2015.000000  2015.000000  \n",
            "                                         count          mean          std  \\\n",
            "shop_id                               214200.0     31.666667    17.533229   \n",
            "item_id                               214200.0  11019.398627  6252.644590   \n",
            "city_code                             214200.0     15.439024     8.173870   \n",
            "type_code                             214200.0     11.618981     2.016710   \n",
            "subtype_code                          214200.0     13.615882    13.701807   \n",
            "item_cnt_month_lag_1                  214200.0      0.119690     0.000000   \n",
            "item_cnt_month_lag_2                  214200.0      0.108154     0.000000   \n",
            "item_cnt_month_lag_3                  214200.0      0.109253     0.000000   \n",
            "item_cnt_month_lag_6                  214200.0      0.163330     0.000000   \n",
            "item_cnt_month_lag_12                 214200.0      0.220215     0.000000   \n",
            "date_avg_item_cnt_lag_1               214200.0      0.286377     0.013802   \n",
            "date_item_avg_item_cnt_lag_1          214200.0      0.192871     0.469482   \n",
            "date_item_avg_item_cnt_lag_2          214200.0      0.181396     0.409424   \n",
            "date_item_avg_item_cnt_lag_3          214200.0      0.182739     0.417969   \n",
            "date_item_avg_item_cnt_lag_6          214200.0      0.271484     0.503906   \n",
            "date_item_avg_item_cnt_lag_12         214200.0           NaN     0.000000   \n",
            "date_shop_avg_item_cnt_lag_1          214200.0      0.289307     0.187378   \n",
            "date_shop_avg_item_cnt_lag_2          214200.0      0.260498     0.186401   \n",
            "date_shop_avg_item_cnt_lag_3          214200.0      0.262695     0.198364   \n",
            "date_shop_avg_item_cnt_lag_6          214200.0      0.270752     0.209961   \n",
            "date_shop_avg_item_cnt_lag_12         214200.0      0.271973     0.185669   \n",
            "date_cat_avg_item_cnt_lag_1           214200.0      0.251953     0.329834   \n",
            "date_shop_cat_avg_item_cnt_lag_1      214200.0      0.245361     0.449707   \n",
            "date_shop_type_avg_item_cnt_lag_1     214200.0      0.238159     0.265625   \n",
            "date_shop_subtype_avg_item_cnt_lag_1  214200.0      0.245117     0.446045   \n",
            "date_city_avg_item_cnt_lag_1          214200.0      0.288086     0.131226   \n",
            "date_item_city_avg_item_cnt_lag_1     214200.0      0.142090     0.000000   \n",
            "date_type_avg_item_cnt_lag_1          214200.0      0.239380     0.124268   \n",
            "date_subtype_avg_item_cnt_lag_1       214200.0      0.251709     0.329834   \n",
            "delta_price_lag                       214200.0     -0.013214     0.174072   \n",
            "delta_revenue_lag_1                   214200.0     -0.233032     0.211182   \n",
            "month                                 214200.0      9.000000     0.000000   \n",
            "days                                  214200.0     30.063898     0.308451   \n",
            "item_shop_last_sale                   214200.0      0.691985     0.713268   \n",
            "item_last_sale                        214200.0     -0.951220     0.304821   \n",
            "item_shop_first_sale                  214200.0     22.527365     4.776993   \n",
            "item_first_sale                       214200.0     23.300407     4.585600   \n",
            "year                                  214200.0   2015.000000     0.000000   \n",
            "\n",
            "                                              min          25%           50%  \\\n",
            "shop_id                                  2.000000    16.000000     34.500000   \n",
            "item_id                                 30.000000  5381.500000  11203.000000   \n",
            "city_code                                0.000000    10.000000     15.000000   \n",
            "type_code                                1.000000    12.000000     12.000000   \n",
            "subtype_code                             0.000000    10.000000     10.000000   \n",
            "item_cnt_month_lag_1                     0.000000     0.000000      0.000000   \n",
            "item_cnt_month_lag_2                     0.000000     0.000000      0.000000   \n",
            "item_cnt_month_lag_3                     0.000000     0.000000      0.000000   \n",
            "item_cnt_month_lag_6                     0.000000     0.000000      0.000000   \n",
            "item_cnt_month_lag_12                    0.000000     0.000000      0.000000   \n",
            "date_avg_item_cnt_lag_1                  0.243042     0.288086      0.288086   \n",
            "date_item_avg_item_cnt_lag_1             0.000000     0.119019      0.119019   \n",
            "date_item_avg_item_cnt_lag_2             0.000000     0.116272      0.116272   \n",
            "date_item_avg_item_cnt_lag_3             0.000000     0.116272      0.116272   \n",
            "date_item_avg_item_cnt_lag_6             0.000000     0.195679      0.195679   \n",
            "date_item_avg_item_cnt_lag_12            0.000000     0.199951      0.199951   \n",
            "date_shop_avg_item_cnt_lag_1             0.073975     0.184692      0.245117   \n",
            "date_shop_avg_item_cnt_lag_2             0.073975     0.158691      0.205933   \n",
            "date_shop_avg_item_cnt_lag_3             0.067566     0.154175      0.200684   \n",
            "date_shop_avg_item_cnt_lag_6             0.064087     0.152710      0.218628   \n",
            "date_shop_avg_item_cnt_lag_12            0.000303     0.172241      0.226196   \n",
            "date_cat_avg_item_cnt_lag_1              0.034485     0.217285      0.217285   \n",
            "date_shop_cat_avg_item_cnt_lag_1         0.000000     0.107605      0.161011   \n",
            "date_shop_type_avg_item_cnt_lag_1        0.000000     0.111023      0.144165   \n",
            "date_shop_subtype_avg_item_cnt_lag_1     0.000000     0.107605      0.163696   \n",
            "date_city_avg_item_cnt_lag_1             0.081177     0.191406      0.256104   \n",
            "date_item_city_avg_item_cnt_lag_1        0.000000     0.000000      0.000000   \n",
            "date_type_avg_item_cnt_lag_1             0.097290     0.213501      0.213501   \n",
            "date_subtype_avg_item_cnt_lag_1          0.034485     0.217285      0.217285   \n",
            "delta_price_lag                         -0.917480     0.009285      0.009285   \n",
            "delta_revenue_lag_1                     -0.669434    -0.375488     -0.254150   \n",
            "month                                    9.000000     9.000000      9.000000   \n",
            "days                                    28.000000    30.000000     30.000000   \n",
            "item_shop_last_sale                     -1.000000     1.000000      1.000000   \n",
            "item_last_sale                          -1.000000    -1.000000     -1.000000   \n",
            "item_shop_first_sale                    12.000000    22.000000     23.000000   \n",
            "item_first_sale                         12.000000    23.000000     23.000000   \n",
            "year                                  2015.000000  2015.000000   2015.000000   \n",
            "\n",
            "                                               75%           max  \n",
            "shop_id                                  47.000000     59.000000  \n",
            "item_id                               16071.500000  22167.000000  \n",
            "city_code                                22.000000     30.000000  \n",
            "type_code                                12.000000     19.000000  \n",
            "subtype_code                             10.000000     64.000000  \n",
            "item_cnt_month_lag_1                      0.000000     20.000000  \n",
            "item_cnt_month_lag_2                      0.000000     20.000000  \n",
            "item_cnt_month_lag_3                      0.000000     20.000000  \n",
            "item_cnt_month_lag_6                      0.000000     20.000000  \n",
            "item_cnt_month_lag_12                     0.000000     20.000000  \n",
            "date_avg_item_cnt_lag_1                   0.288086      0.444092  \n",
            "date_item_avg_item_cnt_lag_1              0.142822     17.046875  \n",
            "date_item_avg_item_cnt_lag_2              0.139526     17.703125  \n",
            "date_item_avg_item_cnt_lag_3              0.139526     16.250000  \n",
            "date_item_avg_item_cnt_lag_6              0.199951     15.242188  \n",
            "date_item_avg_item_cnt_lag_12             0.215698     18.703125  \n",
            "date_shop_avg_item_cnt_lag_1              0.302979      1.798828  \n",
            "date_shop_avg_item_cnt_lag_2              0.270020      1.798828  \n",
            "date_shop_avg_item_cnt_lag_3              0.277344      1.798828  \n",
            "date_shop_avg_item_cnt_lag_6              0.270508      1.798828  \n",
            "date_shop_avg_item_cnt_lag_12             0.281250      1.527344  \n",
            "date_cat_avg_item_cnt_lag_1               0.217285     17.046875  \n",
            "date_shop_cat_avg_item_cnt_lag_1          0.245239     20.000000  \n",
            "date_shop_type_avg_item_cnt_lag_1         0.242188     17.500000  \n",
            "date_shop_subtype_avg_item_cnt_lag_1      0.238037     20.000000  \n",
            "date_city_avg_item_cnt_lag_1              0.366943      0.798340  \n",
            "date_item_city_avg_item_cnt_lag_1         0.000000     20.000000  \n",
            "date_type_avg_item_cnt_lag_1              0.213501      2.986328  \n",
            "date_subtype_avg_item_cnt_lag_1           0.217285     17.046875  \n",
            "delta_price_lag                           0.010658      1.278320  \n",
            "delta_revenue_lag_1                      -0.092529      2.152344  \n",
            "month                                     9.000000      9.000000  \n",
            "days                                     30.000000     31.000000  \n",
            "item_shop_last_sale                       1.000000      1.000000  \n",
            "item_last_sale                           -1.000000      1.000000  \n",
            "item_shop_first_sale                     23.000000     32.000000  \n",
            "item_first_sale                          23.300407     32.000000  \n",
            "year                                   2015.000000   2015.000000  \n"
          ],
          "name": "stdout"
        }
      ]
    },
    {
      "cell_type": "markdown",
      "metadata": {
        "id": "J7QhH_QsWrjU",
        "colab_type": "text"
      },
      "source": [
        "## Modeling the Data"
      ]
    },
    {
      "cell_type": "markdown",
      "metadata": {
        "id": "Mp-Mg9KXWy-b",
        "colab_type": "text"
      },
      "source": [
        "### Tree Based Models"
      ]
    },
    {
      "cell_type": "markdown",
      "metadata": {
        "id": "MhfQgOLbW4TQ",
        "colab_type": "text"
      },
      "source": [
        "#### Catboost"
      ]
    },
    {
      "cell_type": "code",
      "metadata": {
        "id": "vqEX7h3YWquu",
        "colab_type": "code",
        "outputId": "6a61c6f8-7708-4d69-c580-4b5db218aa9c",
        "colab": {
          "base_uri": "https://localhost:8080/",
          "height": 279
        }
      },
      "source": [
        "cat_features = ['shop_id', 'item_id', 'city_code', 'type_code', 'subtype_code', 'month', 'days', 'year']\n",
        "\n",
        "catboost_model = CatBoostRegressor(\n",
        "    iterations=500,\n",
        "    max_ctr_complexity=4,\n",
        "    random_seed=0,\n",
        "    od_type='Iter',\n",
        "    od_wait=25,\n",
        "    verbose=5,\n",
        "    depth=10,\n",
        ")\n",
        "\n",
        "catboost_model.fit(\n",
        "    X_train, Y_train,\n",
        "    cat_features=cat_features,\n",
        "    eval_set=(X_validation, Y_validation)\n",
        ")"
      ],
      "execution_count": 69,
      "outputs": [
        {
          "output_type": "stream",
          "text": [
            "Learning rate set to 0.287521\n",
            "0:\tlearn: 0.9704834\ttest: 0.8418557\tbest: 0.8418557 (0)\ttotal: 3.02s\tremaining: 25m 9s\n",
            "5:\tlearn: 0.7219069\ttest: 0.6401248\tbest: 0.6401248 (5)\ttotal: 17.4s\tremaining: 23m 56s\n",
            "10:\tlearn: 0.6869320\ttest: 0.6481047\tbest: 0.6355353 (8)\ttotal: 32.6s\tremaining: 24m 8s\n",
            "15:\tlearn: 0.6662776\ttest: 0.6603296\tbest: 0.6355353 (8)\ttotal: 49.1s\tremaining: 24m 44s\n",
            "20:\tlearn: 0.6564220\ttest: 0.6698800\tbest: 0.6355353 (8)\ttotal: 1m 5s\tremaining: 24m 54s\n",
            "25:\tlearn: 0.6488299\ttest: 0.6710888\tbest: 0.6355353 (8)\ttotal: 1m 21s\tremaining: 24m 48s\n",
            "30:\tlearn: 0.6422368\ttest: 0.6737189\tbest: 0.6355353 (8)\ttotal: 1m 37s\tremaining: 24m 28s\n",
            "Stopped by overfitting detector  (25 iterations wait)\n",
            "\n",
            "bestTest = 0.6355352984\n",
            "bestIteration = 8\n",
            "\n",
            "Shrink model to first 9 iterations.\n"
          ],
          "name": "stdout"
        },
        {
          "output_type": "execute_result",
          "data": {
            "text/plain": [
              "<catboost.core.CatBoostRegressor at 0x7f65c8a4bf28>"
            ]
          },
          "metadata": {
            "tags": []
          },
          "execution_count": 69
        }
      ]
    },
    {
      "cell_type": "markdown",
      "metadata": {
        "id": "a7x7DjTbjhmp",
        "colab_type": "text"
      },
      "source": [
        "#### Catboost Feature Importance"
      ]
    },
    {
      "cell_type": "code",
      "metadata": {
        "id": "QBXmjjK4YX6U",
        "colab_type": "code",
        "outputId": "cf36d07c-ed59-40f6-d4f7-d6181d3f7931",
        "colab": {
          "base_uri": "https://localhost:8080/",
          "height": 605
        }
      },
      "source": [
        "feature_score = pd.DataFrame(list(zip(X_train.dtypes.index, catboost_model.get_feature_importance(Pool(X_train, label=Y_train, cat_features=cat_features)))), columns=['Feature','Score'])\n",
        "feature_score = feature_score.sort_values(by='Score', ascending=False, inplace=False, kind='quicksort', na_position='last')\n",
        "\n",
        "plt.rcParams[\"figure.figsize\"] = (19, 6)\n",
        "ax = feature_score.plot('Feature', 'Score', kind='bar', color='c')\n",
        "ax.set_title(\"Catboost Feature Importance Ranking\", fontsize = 14)\n",
        "ax.set_xlabel('')\n",
        "rects = ax.patches\n",
        "labels = feature_score['Score'].round(2)\n",
        "\n",
        "for rect, label in zip(rects, labels):\n",
        "    height = rect.get_height()\n",
        "    ax.text(rect.get_x() + rect.get_width()/2, height + 0.35, label, ha='center', va='bottom')\n",
        "\n",
        "plt.show()"
      ],
      "execution_count": 72,
      "outputs": [
        {
          "output_type": "display_data",
          "data": {
            "image/png": "[encoded data removed]",
            "text/plain": [
              "<Figure size 1368x432 with 1 Axes>"
            ]
          },
          "metadata": {
            "tags": []
          }
        }
      ]
    },
    {
      "cell_type": "code",
      "metadata": {
        "id": "jDNu25gmjq6W",
        "colab_type": "code",
        "colab": {}
      },
      "source": [
        "catboost_train_pred = catboost_model.predict(X_train)\n",
        "catboost_val_pred = catboost_model.predict(X_validation)\n",
        "catboost_test_pred = catboost_model.predict(X_test)"
      ],
      "execution_count": 0,
      "outputs": []
    },
    {
      "cell_type": "code",
      "metadata": {
        "id": "pm3xKd5rkDQC",
        "colab_type": "code",
        "outputId": "41bf2e27-ea34-4cf3-ac1c-a01141c023f1",
        "colab": {
          "base_uri": "https://localhost:8080/",
          "height": 52
        }
      },
      "source": [
        "print('Train rmse:', np.sqrt(mean_squared_error(Y_train, catboost_train_pred)))\n",
        "print('Validation rmse:', np.sqrt(mean_squared_error(Y_validation, catboost_val_pred)))"
      ],
      "execution_count": 77,
      "outputs": [
        {
          "output_type": "stream",
          "text": [
            "Train rmse: 0.6980874482728134\n",
            "Validation rmse: 0.6355352984182605\n"
          ],
          "name": "stdout"
        }
      ]
    },
    {
      "cell_type": "code",
      "metadata": {
        "id": "krfQ4tAegrSc",
        "colab_type": "code",
        "outputId": "cc0817a9-f29a-4cb0-dc1f-47223c36096f",
        "colab": {
          "base_uri": "https://localhost:8080/",
          "height": 297
        }
      },
      "source": [
        "X_train.columns"
      ],
      "execution_count": 79,
      "outputs": [
        {
          "output_type": "execute_result",
          "data": {
            "text/plain": [
              "Index(['shop_id', 'item_id', 'city_code', 'type_code', 'subtype_code',\n",
              "       'item_cnt_month_lag_1', 'item_cnt_month_lag_2', 'item_cnt_month_lag_3',\n",
              "       'item_cnt_month_lag_6', 'item_cnt_month_lag_12',\n",
              "       'date_avg_item_cnt_lag_1', 'date_item_avg_item_cnt_lag_1',\n",
              "       'date_item_avg_item_cnt_lag_2', 'date_item_avg_item_cnt_lag_3',\n",
              "       'date_item_avg_item_cnt_lag_6', 'date_item_avg_item_cnt_lag_12',\n",
              "       'date_shop_avg_item_cnt_lag_1', 'date_shop_avg_item_cnt_lag_2',\n",
              "       'date_shop_avg_item_cnt_lag_3', 'date_shop_avg_item_cnt_lag_6',\n",
              "       'date_shop_avg_item_cnt_lag_12', 'date_cat_avg_item_cnt_lag_1',\n",
              "       'date_shop_cat_avg_item_cnt_lag_1', 'date_shop_type_avg_item_cnt_lag_1',\n",
              "       'date_shop_subtype_avg_item_cnt_lag_1', 'date_city_avg_item_cnt_lag_1',\n",
              "       'date_item_city_avg_item_cnt_lag_1', 'date_type_avg_item_cnt_lag_1',\n",
              "       'date_subtype_avg_item_cnt_lag_1', 'delta_price_lag',\n",
              "       'delta_revenue_lag_1', 'month', 'days', 'item_shop_last_sale',\n",
              "       'item_last_sale', 'item_shop_first_sale', 'item_first_sale', 'year'],\n",
              "      dtype='object')"
            ]
          },
          "metadata": {
            "tags": []
          },
          "execution_count": 79
        }
      ]
    },
    {
      "cell_type": "markdown",
      "metadata": {
        "id": "CAZ3NaAFkKsu",
        "colab_type": "text"
      },
      "source": [
        "### XGBoost"
      ]
    },
    {
      "cell_type": "code",
      "metadata": {
        "id": "FV2IdoExkPc3",
        "colab_type": "code",
        "outputId": "92ec0bab-75b1-4130-d6c4-b186447319f7",
        "colab": {
          "base_uri": "https://localhost:8080/",
          "height": 524
        }
      },
      "source": [
        "# Use only part of features on XGBoost.\n",
        "xgb_features = X_train.columns\n",
        "xgb_train = X_train[xgb_features]\n",
        "xgb_val = X_validation[xgb_features]\n",
        "xgb_test = X_test[xgb_features]\n",
        "\n",
        "model = XGBRegressor(\n",
        "    max_depth=8,\n",
        "    n_estimators=1000,\n",
        "    min_child_weight=300, \n",
        "    colsample_bytree=0.8, \n",
        "    subsample=0.8, \n",
        "    eta=0.3,    \n",
        "    seed=42)\n",
        "\n",
        "model.fit(xgb_train, \n",
        "              Y_train, \n",
        "              eval_metric=\"rmse\", \n",
        "              eval_set=[(xgb_train, Y_train), (xgb_val, Y_validation)], \n",
        "              verbose=5, \n",
        "              early_stopping_rounds=20)"
      ],
      "execution_count": 81,
      "outputs": [
        {
          "output_type": "stream",
          "text": [
            "/usr/local/lib/python3.6/dist-packages/xgboost/core.py:587: FutureWarning: Series.base is deprecated and will be removed in a future version\n",
            "  if getattr(data, 'base', None) is not None and \\\n",
            "/usr/local/lib/python3.6/dist-packages/xgboost/core.py:588: FutureWarning: Series.base is deprecated and will be removed in a future version\n",
            "  data.base is not None and isinstance(data, np.ndarray) \\\n"
          ],
          "name": "stderr"
        },
        {
          "output_type": "stream",
          "text": [
            "[18:51:13] WARNING: /workspace/src/objective/regression_obj.cu:152: reg:linear is now deprecated in favor of reg:squarederror.\n",
            "[0]\tvalidation_0-rmse:1.08507\tvalidation_1-rmse:0.95019\n",
            "Multiple eval metrics have been passed: 'validation_1-rmse' will be used for early stopping.\n",
            "\n",
            "Will train until validation_1-rmse hasn't improved in 20 rounds.\n",
            "[5]\tvalidation_0-rmse:0.867885\tvalidation_1-rmse:0.749226\n",
            "[10]\tvalidation_0-rmse:0.768278\tvalidation_1-rmse:0.665466\n",
            "[15]\tvalidation_0-rmse:0.723477\tvalidation_1-rmse:0.632868\n",
            "[20]\tvalidation_0-rmse:0.702543\tvalidation_1-rmse:0.62375\n",
            "[25]\tvalidation_0-rmse:0.690616\tvalidation_1-rmse:0.621306\n",
            "[30]\tvalidation_0-rmse:0.68344\tvalidation_1-rmse:0.620321\n",
            "[35]\tvalidation_0-rmse:0.678212\tvalidation_1-rmse:0.621322\n",
            "[40]\tvalidation_0-rmse:0.674109\tvalidation_1-rmse:0.621464\n",
            "[45]\tvalidation_0-rmse:0.671451\tvalidation_1-rmse:0.621307\n",
            "[50]\tvalidation_0-rmse:0.669311\tvalidation_1-rmse:0.621688\n",
            "Stopping. Best iteration:\n",
            "[30]\tvalidation_0-rmse:0.68344\tvalidation_1-rmse:0.620321\n",
            "\n"
          ],
          "name": "stdout"
        },
        {
          "output_type": "execute_result",
          "data": {
            "text/plain": [
              "XGBRegressor(base_score=0.5, booster='gbtree', colsample_bylevel=1,\n",
              "             colsample_bynode=1, colsample_bytree=0.8, eta=0.3, gamma=0,\n",
              "             importance_type='gain', learning_rate=0.1, max_delta_step=0,\n",
              "             max_depth=8, min_child_weight=300, missing=None, n_estimators=1000,\n",
              "             n_jobs=1, nthread=None, objective='reg:linear', random_state=0,\n",
              "             reg_alpha=0, reg_lambda=1, scale_pos_weight=1, seed=42,\n",
              "             silent=None, subsample=0.8, verbosity=1)"
            ]
          },
          "metadata": {
            "tags": []
          },
          "execution_count": 81
        }
      ]
    },
    {
      "cell_type": "markdown",
      "metadata": {
        "id": "KkGxsqPPlAyx",
        "colab_type": "text"
      },
      "source": [
        "#### XGboost Feature Importance"
      ]
    },
    {
      "cell_type": "code",
      "metadata": {
        "id": "lEbWNVpUk7rG",
        "colab_type": "code",
        "outputId": "834f520c-5d96-4d61-b5f0-50d233e153ef",
        "colab": {
          "base_uri": "https://localhost:8080/",
          "height": 430
        }
      },
      "source": [
        "plt.rcParams[\"figure.figsize\"] = (15, 6)\n",
        "plot_importance(model)\n",
        "plt.show()"
      ],
      "execution_count": 84,
      "outputs": [
        {
          "output_type": "display_data",
          "data": {
            "image/png": "[encoded data removed]",
            "text/plain": [
              "<Figure size 1080x432 with 1 Axes>"
            ]
          },
          "metadata": {
            "tags": []
          }
        }
      ]
    },
    {
      "cell_type": "code",
      "metadata": {
        "id": "Ic-1TF23k4NK",
        "colab_type": "code",
        "outputId": "8167b495-2e58-4825-bf93-cd3064dab944",
        "colab": {
          "base_uri": "https://localhost:8080/",
          "height": 52
        }
      },
      "source": [
        "xgb_train_pred = model.predict(xgb_train)\n",
        "xgb_val_pred = model.predict(xgb_val)\n",
        "xgb_test_pred = model.predict(xgb_test)\n",
        "print('Train rmse:', np.sqrt(mean_squared_error(Y_train, xgb_train_pred)))\n",
        "print('Validation rmse:', np.sqrt(mean_squared_error(Y_validation, xgb_val_pred)))"
      ],
      "execution_count": 85,
      "outputs": [
        {
          "output_type": "stream",
          "text": [
            "Train rmse: 0.6834401851685832\n",
            "Validation rmse: 0.6203210130084078\n"
          ],
          "name": "stdout"
        }
      ]
    },
    {
      "cell_type": "markdown",
      "metadata": {
        "id": "7AB4iDGPlQiL",
        "colab_type": "text"
      },
      "source": [
        "### Random Forest"
      ]
    },
    {
      "cell_type": "code",
      "metadata": {
        "id": "BYGzMpqdlfkn",
        "colab_type": "code",
        "outputId": "051a7ac3-0cb9-44e7-cfa4-047be78ba31a",
        "colab": {
          "base_uri": "https://localhost:8080/",
          "height": 139
        }
      },
      "source": [
        "# Use only part of features on random forest.\n",
        "rf_features = X_train.columns\n",
        "rf_train = X_train[rf_features]\n",
        "rf_val = X_validation[rf_features]\n",
        "rf_test = X_test[rf_features]\n",
        "\n",
        "rf_model = RandomForestRegressor(n_estimators=50, max_depth=7, random_state=0, n_jobs=-1)\n",
        "rf_model.fit(rf_train, Y_train)"
      ],
      "execution_count": 86,
      "outputs": [
        {
          "output_type": "execute_result",
          "data": {
            "text/plain": [
              "RandomForestRegressor(bootstrap=True, ccp_alpha=0.0, criterion='mse',\n",
              "                      max_depth=7, max_features='auto', max_leaf_nodes=None,\n",
              "                      max_samples=None, min_impurity_decrease=0.0,\n",
              "                      min_impurity_split=None, min_samples_leaf=1,\n",
              "                      min_samples_split=2, min_weight_fraction_leaf=0.0,\n",
              "                      n_estimators=50, n_jobs=-1, oob_score=False,\n",
              "                      random_state=0, verbose=0, warm_start=False)"
            ]
          },
          "metadata": {
            "tags": []
          },
          "execution_count": 86
        }
      ]
    },
    {
      "cell_type": "code",
      "metadata": {
        "id": "ceXarcssllIJ",
        "colab_type": "code",
        "outputId": "3917a82e-2fb7-4af0-fd30-85a6d2b8dbba",
        "colab": {
          "base_uri": "https://localhost:8080/",
          "height": 52
        }
      },
      "source": [
        "rf_train_pred = rf_model.predict(rf_train)\n",
        "rf_val_pred = rf_model.predict(rf_val)\n",
        "rf_test_pred = rf_model.predict(rf_test)\n",
        "\n",
        "print('Train rmse:', np.sqrt(mean_squared_error(Y_train, rf_train_pred)))\n",
        "print('Validation rmse:', np.sqrt(mean_squared_error(Y_validation, rf_val_pred)))\n"
      ],
      "execution_count": 87,
      "outputs": [
        {
          "output_type": "stream",
          "text": [
            "Train rmse: 0.7068842127997957\n",
            "Validation rmse: 0.6364948145865512\n"
          ],
          "name": "stdout"
        }
      ]
    },
    {
      "cell_type": "markdown",
      "metadata": {
        "id": "b92m2YT3nLMW",
        "colab_type": "text"
      },
      "source": [
        "### Linear Models"
      ]
    },
    {
      "cell_type": "markdown",
      "metadata": {
        "id": "BcDSWkCVnTdN",
        "colab_type": "text"
      },
      "source": [
        "#### Linear Regression"
      ]
    },
    {
      "cell_type": "code",
      "metadata": {
        "id": "sFcUQmjznSly",
        "colab_type": "code",
        "colab": {}
      },
      "source": [
        "# Use only part of features on linear Regression.\n",
        "lr_features = ['item_cnt_month_lag_1', 'date_item_avg_item_cnt_lag_1', 'item_cnt_month_lag_2', 'month', 'date_shop_subtype_avg_item_cnt_lag_1', 'delta_price_lag', 'item_cnt_month_lag_6',\n",
        "               'item_cnt_month_lag_3', 'date_shop_avg_item_cnt_lag_2', 'date_item_avg_item_cnt_lag_2', 'date_subtype_avg_item_cnt_lag_1']\n",
        "lr_features = X_train.columns\n",
        "\n",
        "lr_train = X_train[lr_features]\n",
        "lr_val = X_validation[lr_features]\n",
        "lr_test = X_test[lr_features]"
      ],
      "execution_count": 0,
      "outputs": []
    },
    {
      "cell_type": "code",
      "metadata": {
        "id": "9Q0lsukbn0x6",
        "colab_type": "code",
        "colab": {}
      },
      "source": [
        "lr_scaler = MinMaxScaler()\n",
        "lr_scaler.fit(lr_train)\n",
        "lr_train = lr_scaler.transform(lr_train)\n",
        "lr_val = lr_scaler.transform(lr_val)\n",
        "lr_test = lr_scaler.transform(lr_test)"
      ],
      "execution_count": 0,
      "outputs": []
    },
    {
      "cell_type": "code",
      "metadata": {
        "id": "IcgVs-8qn4pz",
        "colab_type": "code",
        "outputId": "88840d25-1a81-4d99-c50c-c3cb071cc420",
        "colab": {
          "base_uri": "https://localhost:8080/",
          "height": 34
        }
      },
      "source": [
        "lr_model = LinearRegression(n_jobs=-1)\n",
        "lr_model.fit(lr_train, Y_train)"
      ],
      "execution_count": 98,
      "outputs": [
        {
          "output_type": "execute_result",
          "data": {
            "text/plain": [
              "LinearRegression(copy_X=True, fit_intercept=True, n_jobs=-1, normalize=False)"
            ]
          },
          "metadata": {
            "tags": []
          },
          "execution_count": 98
        }
      ]
    },
    {
      "cell_type": "code",
      "metadata": {
        "id": "O7kWlyqDn-q_",
        "colab_type": "code",
        "outputId": "cd3d4f11-2f59-409a-aae5-71955ca4d9ff",
        "colab": {
          "base_uri": "https://localhost:8080/",
          "height": 52
        }
      },
      "source": [
        "lr_train_pred = lr_model.predict(lr_train)\n",
        "lr_val_pred = lr_model.predict(lr_val)\n",
        "lr_test_pred = lr_model.predict(lr_test)\n",
        "print('Train rmse:', np.sqrt(mean_squared_error(Y_train, lr_train_pred)))\n",
        "print('Validation rmse:', np.sqrt(mean_squared_error(Y_validation, lr_val_pred)))"
      ],
      "execution_count": 99,
      "outputs": [
        {
          "output_type": "stream",
          "text": [
            "Train rmse: 0.7309970945771943\n",
            "Validation rmse: 0.6362914734970334\n"
          ],
          "name": "stdout"
        }
      ]
    },
    {
      "cell_type": "markdown",
      "metadata": {
        "id": "GVTL4Y5WtCUx",
        "colab_type": "text"
      },
      "source": [
        "### Clustering Models"
      ]
    },
    {
      "cell_type": "markdown",
      "metadata": {
        "id": "DaYuJFY9tRBe",
        "colab_type": "text"
      },
      "source": [
        "KNN Regressor"
      ]
    },
    {
      "cell_type": "code",
      "metadata": {
        "id": "cJC-pv3utQMa",
        "colab_type": "code",
        "colab": {}
      },
      "source": [
        "# Use only part of features on KNN.\n",
        "knn_features =  X_train.columns\n",
        "\n",
        "# Subsample train set (using the whole data was taking too long).\n",
        "X_train_sampled = X_train[:100000]\n",
        "Y_train_sampled = Y_train[:100000]\n",
        "\n",
        "knn_train = X_train_sampled[knn_features]\n",
        "knn_val = X_validation[knn_features]\n",
        "knn_test = X_test[knn_features]"
      ],
      "execution_count": 0,
      "outputs": []
    },
    {
      "cell_type": "code",
      "metadata": {
        "id": "Il_ibSButa5q",
        "colab_type": "code",
        "colab": {}
      },
      "source": [
        "knn_scaler = MinMaxScaler()\n",
        "knn_scaler.fit(knn_train)\n",
        "knn_train = knn_scaler.transform(knn_train)\n",
        "knn_val = knn_scaler.transform(knn_val)\n",
        "knn_test = knn_scaler.transform(knn_test)"
      ],
      "execution_count": 0,
      "outputs": []
    },
    {
      "cell_type": "code",
      "metadata": {
        "id": "9xNxrAMUtvlF",
        "colab_type": "code",
        "outputId": "4a3e93ec-563b-4dd2-b89e-6e67ff23b288",
        "colab": {
          "base_uri": "https://localhost:8080/",
          "height": 69
        }
      },
      "source": [
        "knn_model = KNeighborsRegressor(n_neighbors=9, leaf_size=13, n_jobs=-1)\n",
        "knn_model.fit(knn_train, Y_train_sampled)"
      ],
      "execution_count": 90,
      "outputs": [
        {
          "output_type": "execute_result",
          "data": {
            "text/plain": [
              "KNeighborsRegressor(algorithm='auto', leaf_size=13, metric='minkowski',\n",
              "                    metric_params=None, n_jobs=-1, n_neighbors=9, p=2,\n",
              "                    weights='uniform')"
            ]
          },
          "metadata": {
            "tags": []
          },
          "execution_count": 90
        }
      ]
    },
    {
      "cell_type": "code",
      "metadata": {
        "id": "IoEGGzhttkxN",
        "colab_type": "code",
        "outputId": "3f15398f-5d57-4477-b865-b4cc492869f4",
        "colab": {
          "base_uri": "https://localhost:8080/",
          "height": 52
        }
      },
      "source": [
        "knn_train_pred = knn_model.predict(knn_train)\n",
        "knn_val_pred = knn_model.predict(knn_val)\n",
        "knn_test_pred = knn_model.predict(knn_test)\n",
        "print('Train rmse:', np.sqrt(mean_squared_error(Y_train_sampled, knn_train_pred)))\n",
        "print('Validation rmse:', np.sqrt(mean_squared_error(Y_validation, knn_val_pred)))"
      ],
      "execution_count": 91,
      "outputs": [
        {
          "output_type": "stream",
          "text": [
            "Train rmse: 0.5912267013131927\n",
            "Validation rmse: 0.6925477215320268\n"
          ],
          "name": "stdout"
        }
      ]
    },
    {
      "cell_type": "markdown",
      "metadata": {
        "id": "Epiro-Bot5if",
        "colab_type": "text"
      },
      "source": [
        "## Create new datasets with the predictions from first level models"
      ]
    },
    {
      "cell_type": "code",
      "metadata": {
        "id": "kd6eYf8Zt9U5",
        "colab_type": "code",
        "outputId": "71e599be-cdbe-4ab6-8db7-5b0cf0e2e12f",
        "colab": {
          "base_uri": "https://localhost:8080/",
          "height": 197
        }
      },
      "source": [
        "# Dataset that will be the train set of the ensemble model.\n",
        "first_level = pd.DataFrame(catboost_val_pred, columns=['catboost'])\n",
        "first_level['xgbm'] = xgb_val_pred\n",
        "first_level['random_forest'] = rf_val_pred\n",
        "first_level['linear_regression'] = lr_val_pred\n",
        "first_level['knn'] = knn_val_pred\n",
        "first_level['label'] = Y_validation.values\n",
        "first_level.head()"
      ],
      "execution_count": 100,
      "outputs": [
        {
          "output_type": "execute_result",
          "data": {
            "text/html": [
              "<div>\n",
              "<style scoped>\n",
              "    .dataframe tbody tr th:only-of-type {\n",
              "        vertical-align: middle;\n",
              "    }\n",
              "\n",
              "    .dataframe tbody tr th {\n",
              "        vertical-align: top;\n",
              "    }\n",
              "\n",
              "    .dataframe thead th {\n",
              "        text-align: right;\n",
              "    }\n",
              "</style>\n",
              "<table border=\"1\" class=\"dataframe\">\n",
              "  <thead>\n",
              "    <tr style=\"text-align: right;\">\n",
              "      <th></th>\n",
              "      <th>catboost</th>\n",
              "      <th>xgbm</th>\n",
              "      <th>random_forest</th>\n",
              "      <th>linear_regression</th>\n",
              "      <th>knn</th>\n",
              "      <th>label</th>\n",
              "    </tr>\n",
              "  </thead>\n",
              "  <tbody>\n",
              "    <tr>\n",
              "      <th>0</th>\n",
              "      <td>0.07</td>\n",
              "      <td>0.06</td>\n",
              "      <td>0.06</td>\n",
              "      <td>0.01</td>\n",
              "      <td>0.11</td>\n",
              "      <td>0</td>\n",
              "    </tr>\n",
              "    <tr>\n",
              "      <th>1</th>\n",
              "      <td>0.11</td>\n",
              "      <td>0.14</td>\n",
              "      <td>0.16</td>\n",
              "      <td>0.09</td>\n",
              "      <td>0.11</td>\n",
              "      <td>0</td>\n",
              "    </tr>\n",
              "    <tr>\n",
              "      <th>2</th>\n",
              "      <td>0.21</td>\n",
              "      <td>0.21</td>\n",
              "      <td>0.21</td>\n",
              "      <td>0.17</td>\n",
              "      <td>0.11</td>\n",
              "      <td>0</td>\n",
              "    </tr>\n",
              "    <tr>\n",
              "      <th>3</th>\n",
              "      <td>0.20</td>\n",
              "      <td>0.20</td>\n",
              "      <td>0.16</td>\n",
              "      <td>0.38</td>\n",
              "      <td>0.11</td>\n",
              "      <td>1</td>\n",
              "    </tr>\n",
              "    <tr>\n",
              "      <th>4</th>\n",
              "      <td>0.08</td>\n",
              "      <td>0.02</td>\n",
              "      <td>0.01</td>\n",
              "      <td>0.07</td>\n",
              "      <td>0.00</td>\n",
              "      <td>0</td>\n",
              "    </tr>\n",
              "  </tbody>\n",
              "</table>\n",
              "</div>"
            ],
            "text/plain": [
              "   catboost  xgbm  random_forest  linear_regression  knn  label\n",
              "0      0.07  0.06           0.06               0.01 0.11      0\n",
              "1      0.11  0.14           0.16               0.09 0.11      0\n",
              "2      0.21  0.21           0.21               0.17 0.11      0\n",
              "3      0.20  0.20           0.16               0.38 0.11      1\n",
              "4      0.08  0.02           0.01               0.07 0.00      0"
            ]
          },
          "metadata": {
            "tags": []
          },
          "execution_count": 100
        }
      ]
    },
    {
      "cell_type": "code",
      "metadata": {
        "id": "yqAyNJSJuE3N",
        "colab_type": "code",
        "outputId": "d53d37d5-a18d-410b-869f-f27bc7a143e5",
        "colab": {
          "base_uri": "https://localhost:8080/",
          "height": 197
        }
      },
      "source": [
        "# Dataset that will be the test set of the ensemble model.\n",
        "first_level_test = pd.DataFrame(catboost_test_pred, columns=['catboost'])\n",
        "first_level_test['xgbm'] = xgb_test_pred\n",
        "first_level_test['random_forest'] = rf_test_pred\n",
        "first_level_test['linear_regression'] = lr_test_pred\n",
        "first_level_test['knn'] = knn_test_pred\n",
        "first_level_test.head()"
      ],
      "execution_count": 101,
      "outputs": [
        {
          "output_type": "execute_result",
          "data": {
            "text/html": [
              "<div>\n",
              "<style scoped>\n",
              "    .dataframe tbody tr th:only-of-type {\n",
              "        vertical-align: middle;\n",
              "    }\n",
              "\n",
              "    .dataframe tbody tr th {\n",
              "        vertical-align: top;\n",
              "    }\n",
              "\n",
              "    .dataframe thead th {\n",
              "        text-align: right;\n",
              "    }\n",
              "</style>\n",
              "<table border=\"1\" class=\"dataframe\">\n",
              "  <thead>\n",
              "    <tr style=\"text-align: right;\">\n",
              "      <th></th>\n",
              "      <th>catboost</th>\n",
              "      <th>xgbm</th>\n",
              "      <th>random_forest</th>\n",
              "      <th>linear_regression</th>\n",
              "      <th>knn</th>\n",
              "    </tr>\n",
              "  </thead>\n",
              "  <tbody>\n",
              "    <tr>\n",
              "      <th>0</th>\n",
              "      <td>1.36</td>\n",
              "      <td>1.50</td>\n",
              "      <td>1.46</td>\n",
              "      <td>1.82</td>\n",
              "      <td>0.67</td>\n",
              "    </tr>\n",
              "    <tr>\n",
              "      <th>1</th>\n",
              "      <td>0.08</td>\n",
              "      <td>0.10</td>\n",
              "      <td>0.09</td>\n",
              "      <td>0.05</td>\n",
              "      <td>0.00</td>\n",
              "    </tr>\n",
              "    <tr>\n",
              "      <th>2</th>\n",
              "      <td>0.08</td>\n",
              "      <td>0.10</td>\n",
              "      <td>0.09</td>\n",
              "      <td>0.05</td>\n",
              "      <td>0.00</td>\n",
              "    </tr>\n",
              "    <tr>\n",
              "      <th>3</th>\n",
              "      <td>0.08</td>\n",
              "      <td>0.10</td>\n",
              "      <td>0.09</td>\n",
              "      <td>0.05</td>\n",
              "      <td>0.00</td>\n",
              "    </tr>\n",
              "    <tr>\n",
              "      <th>4</th>\n",
              "      <td>0.08</td>\n",
              "      <td>0.10</td>\n",
              "      <td>0.09</td>\n",
              "      <td>0.05</td>\n",
              "      <td>0.00</td>\n",
              "    </tr>\n",
              "  </tbody>\n",
              "</table>\n",
              "</div>"
            ],
            "text/plain": [
              "   catboost  xgbm  random_forest  linear_regression  knn\n",
              "0      1.36  1.50           1.46               1.82 0.67\n",
              "1      0.08  0.10           0.09               0.05 0.00\n",
              "2      0.08  0.10           0.09               0.05 0.00\n",
              "3      0.08  0.10           0.09               0.05 0.00\n",
              "4      0.08  0.10           0.09               0.05 0.00"
            ]
          },
          "metadata": {
            "tags": []
          },
          "execution_count": 101
        }
      ]
    },
    {
      "cell_type": "markdown",
      "metadata": {
        "id": "obnod2N7uJjq",
        "colab_type": "text"
      },
      "source": [
        "## Ensembling"
      ]
    },
    {
      "cell_type": "markdown",
      "metadata": {
        "id": "obIdUwIPuMCK",
        "colab_type": "text"
      },
      "source": [
        "Ensemble architecture:\n",
        "- 1st level\n",
        "  - Catboost\n",
        "  - XGBM\n",
        "  - Random forest\n",
        "  - Linear Regression\n",
        "  - KNN\n",
        "- 2nd level;\n",
        "  - Linear Regression"
      ]
    },
    {
      "cell_type": "code",
      "metadata": {
        "id": "5SEbfWlYULXO",
        "colab_type": "code",
        "colab": {}
      },
      "source": [
        "meta_model = LinearRegression(n_jobs=-1)"
      ],
      "execution_count": 0,
      "outputs": []
    },
    {
      "cell_type": "code",
      "metadata": {
        "id": "JpUTSB8aUhK9",
        "colab_type": "code",
        "outputId": "2a28b4cc-25e2-4acc-e1fb-89fccfdc598e",
        "colab": {
          "base_uri": "https://localhost:8080/",
          "height": 34
        }
      },
      "source": [
        "# Drop label from dataset.\n",
        "first_level.drop('label', axis=1, inplace=True)\n",
        "meta_model.fit(first_level, Y_validation)"
      ],
      "execution_count": 103,
      "outputs": [
        {
          "output_type": "execute_result",
          "data": {
            "text/plain": [
              "LinearRegression(copy_X=True, fit_intercept=True, n_jobs=-1, normalize=False)"
            ]
          },
          "metadata": {
            "tags": []
          },
          "execution_count": 103
        }
      ]
    },
    {
      "cell_type": "code",
      "metadata": {
        "id": "2FadvuVZUeir",
        "colab_type": "code",
        "outputId": "ca4f0102-b71b-4f4e-e9e0-c333e69ffd9a",
        "colab": {
          "base_uri": "https://localhost:8080/",
          "height": 34
        }
      },
      "source": [
        "ensemble_pred = meta_model.predict(first_level)\n",
        "final_predictions = meta_model.predict(first_level_test)\n",
        "print('Train rmse:', np.sqrt(mean_squared_error(ensemble_pred, Y_validation)))"
      ],
      "execution_count": 104,
      "outputs": [
        {
          "output_type": "stream",
          "text": [
            "Train rmse: 0.6188913437119388\n"
          ],
          "name": "stdout"
        }
      ]
    },
    {
      "cell_type": "code",
      "metadata": {
        "id": "XSx77x5ou6BY",
        "colab_type": "code",
        "outputId": "d2af9ccc-ea1e-49b4-ad26-f35c86eb7b32",
        "colab": {
          "base_uri": "https://localhost:8080/",
          "height": 1000
        }
      },
      "source": [
        "prediction_df = pd.DataFrame(test['ID'], columns=['ID'])\n",
        "prediction_df['item_cnt_month'] = final_predictions.clip(0., 20.)\n",
        "prediction_df.to_csv('submission.csv', index=False)\n",
        "prediction_df.head(100)"
      ],
      "execution_count": 110,
      "outputs": [
        {
          "output_type": "execute_result",
          "data": {
            "text/html": [
              "<div>\n",
              "<style scoped>\n",
              "    .dataframe tbody tr th:only-of-type {\n",
              "        vertical-align: middle;\n",
              "    }\n",
              "\n",
              "    .dataframe tbody tr th {\n",
              "        vertical-align: top;\n",
              "    }\n",
              "\n",
              "    .dataframe thead th {\n",
              "        text-align: right;\n",
              "    }\n",
              "</style>\n",
              "<table border=\"1\" class=\"dataframe\">\n",
              "  <thead>\n",
              "    <tr style=\"text-align: right;\">\n",
              "      <th></th>\n",
              "      <th>ID</th>\n",
              "      <th>item_cnt_month</th>\n",
              "    </tr>\n",
              "  </thead>\n",
              "  <tbody>\n",
              "    <tr>\n",
              "      <th>0</th>\n",
              "      <td>0</td>\n",
              "      <td>1.50</td>\n",
              "    </tr>\n",
              "    <tr>\n",
              "      <th>1</th>\n",
              "      <td>1</td>\n",
              "      <td>0.07</td>\n",
              "    </tr>\n",
              "    <tr>\n",
              "      <th>2</th>\n",
              "      <td>2</td>\n",
              "      <td>0.07</td>\n",
              "    </tr>\n",
              "    <tr>\n",
              "      <th>3</th>\n",
              "      <td>3</td>\n",
              "      <td>0.07</td>\n",
              "    </tr>\n",
              "    <tr>\n",
              "      <th>4</th>\n",
              "      <td>4</td>\n",
              "      <td>0.07</td>\n",
              "    </tr>\n",
              "    <tr>\n",
              "      <th>5</th>\n",
              "      <td>5</td>\n",
              "      <td>0.91</td>\n",
              "    </tr>\n",
              "    <tr>\n",
              "      <th>6</th>\n",
              "      <td>6</td>\n",
              "      <td>0.07</td>\n",
              "    </tr>\n",
              "    <tr>\n",
              "      <th>7</th>\n",
              "      <td>7</td>\n",
              "      <td>0.07</td>\n",
              "    </tr>\n",
              "    <tr>\n",
              "      <th>8</th>\n",
              "      <td>8</td>\n",
              "      <td>0.07</td>\n",
              "    </tr>\n",
              "    <tr>\n",
              "      <th>9</th>\n",
              "      <td>9</td>\n",
              "      <td>0.07</td>\n",
              "    </tr>\n",
              "    <tr>\n",
              "      <th>10</th>\n",
              "      <td>10</td>\n",
              "      <td>4.18</td>\n",
              "    </tr>\n",
              "    <tr>\n",
              "      <th>11</th>\n",
              "      <td>11</td>\n",
              "      <td>0.07</td>\n",
              "    </tr>\n",
              "    <tr>\n",
              "      <th>12</th>\n",
              "      <td>12</td>\n",
              "      <td>0.12</td>\n",
              "    </tr>\n",
              "    <tr>\n",
              "      <th>13</th>\n",
              "      <td>13</td>\n",
              "      <td>0.07</td>\n",
              "    </tr>\n",
              "    <tr>\n",
              "      <th>14</th>\n",
              "      <td>14</td>\n",
              "      <td>2.09</td>\n",
              "    </tr>\n",
              "    <tr>\n",
              "      <th>15</th>\n",
              "      <td>15</td>\n",
              "      <td>1.53</td>\n",
              "    </tr>\n",
              "    <tr>\n",
              "      <th>16</th>\n",
              "      <td>16</td>\n",
              "      <td>0.07</td>\n",
              "    </tr>\n",
              "    <tr>\n",
              "      <th>17</th>\n",
              "      <td>17</td>\n",
              "      <td>0.24</td>\n",
              "    </tr>\n",
              "    <tr>\n",
              "      <th>18</th>\n",
              "      <td>18</td>\n",
              "      <td>0.07</td>\n",
              "    </tr>\n",
              "    <tr>\n",
              "      <th>19</th>\n",
              "      <td>19</td>\n",
              "      <td>0.20</td>\n",
              "    </tr>\n",
              "    <tr>\n",
              "      <th>20</th>\n",
              "      <td>20</td>\n",
              "      <td>0.92</td>\n",
              "    </tr>\n",
              "    <tr>\n",
              "      <th>21</th>\n",
              "      <td>21</td>\n",
              "      <td>0.07</td>\n",
              "    </tr>\n",
              "    <tr>\n",
              "      <th>22</th>\n",
              "      <td>22</td>\n",
              "      <td>1.52</td>\n",
              "    </tr>\n",
              "    <tr>\n",
              "      <th>23</th>\n",
              "      <td>23</td>\n",
              "      <td>1.07</td>\n",
              "    </tr>\n",
              "    <tr>\n",
              "      <th>24</th>\n",
              "      <td>24</td>\n",
              "      <td>0.08</td>\n",
              "    </tr>\n",
              "    <tr>\n",
              "      <th>25</th>\n",
              "      <td>25</td>\n",
              "      <td>0.08</td>\n",
              "    </tr>\n",
              "    <tr>\n",
              "      <th>26</th>\n",
              "      <td>26</td>\n",
              "      <td>0.08</td>\n",
              "    </tr>\n",
              "    <tr>\n",
              "      <th>27</th>\n",
              "      <td>27</td>\n",
              "      <td>1.19</td>\n",
              "    </tr>\n",
              "    <tr>\n",
              "      <th>28</th>\n",
              "      <td>28</td>\n",
              "      <td>0.99</td>\n",
              "    </tr>\n",
              "    <tr>\n",
              "      <th>29</th>\n",
              "      <td>29</td>\n",
              "      <td>0.08</td>\n",
              "    </tr>\n",
              "    <tr>\n",
              "      <th>30</th>\n",
              "      <td>30</td>\n",
              "      <td>0.08</td>\n",
              "    </tr>\n",
              "    <tr>\n",
              "      <th>31</th>\n",
              "      <td>31</td>\n",
              "      <td>0.08</td>\n",
              "    </tr>\n",
              "    <tr>\n",
              "      <th>32</th>\n",
              "      <td>32</td>\n",
              "      <td>0.97</td>\n",
              "    </tr>\n",
              "    <tr>\n",
              "      <th>33</th>\n",
              "      <td>33</td>\n",
              "      <td>0.88</td>\n",
              "    </tr>\n",
              "    <tr>\n",
              "      <th>34</th>\n",
              "      <td>34</td>\n",
              "      <td>0.08</td>\n",
              "    </tr>\n",
              "    <tr>\n",
              "      <th>35</th>\n",
              "      <td>35</td>\n",
              "      <td>0.08</td>\n",
              "    </tr>\n",
              "    <tr>\n",
              "      <th>36</th>\n",
              "      <td>36</td>\n",
              "      <td>0.09</td>\n",
              "    </tr>\n",
              "    <tr>\n",
              "      <th>37</th>\n",
              "      <td>37</td>\n",
              "      <td>0.93</td>\n",
              "    </tr>\n",
              "    <tr>\n",
              "      <th>38</th>\n",
              "      <td>38</td>\n",
              "      <td>0.08</td>\n",
              "    </tr>\n",
              "    <tr>\n",
              "      <th>39</th>\n",
              "      <td>39</td>\n",
              "      <td>0.08</td>\n",
              "    </tr>\n",
              "    <tr>\n",
              "      <th>40</th>\n",
              "      <td>40</td>\n",
              "      <td>0.08</td>\n",
              "    </tr>\n",
              "    <tr>\n",
              "      <th>41</th>\n",
              "      <td>41</td>\n",
              "      <td>1.99</td>\n",
              "    </tr>\n",
              "    <tr>\n",
              "      <th>42</th>\n",
              "      <td>42</td>\n",
              "      <td>4.11</td>\n",
              "    </tr>\n",
              "    <tr>\n",
              "      <th>43</th>\n",
              "      <td>43</td>\n",
              "      <td>4.99</td>\n",
              "    </tr>\n",
              "    <tr>\n",
              "      <th>44</th>\n",
              "      <td>44</td>\n",
              "      <td>0.08</td>\n",
              "    </tr>\n",
              "    <tr>\n",
              "      <th>45</th>\n",
              "      <td>45</td>\n",
              "      <td>0.08</td>\n",
              "    </tr>\n",
              "    <tr>\n",
              "      <th>46</th>\n",
              "      <td>46</td>\n",
              "      <td>0.08</td>\n",
              "    </tr>\n",
              "    <tr>\n",
              "      <th>47</th>\n",
              "      <td>47</td>\n",
              "      <td>0.08</td>\n",
              "    </tr>\n",
              "    <tr>\n",
              "      <th>48</th>\n",
              "      <td>48</td>\n",
              "      <td>0.08</td>\n",
              "    </tr>\n",
              "    <tr>\n",
              "      <th>49</th>\n",
              "      <td>49</td>\n",
              "      <td>0.08</td>\n",
              "    </tr>\n",
              "    <tr>\n",
              "      <th>50</th>\n",
              "      <td>50</td>\n",
              "      <td>0.08</td>\n",
              "    </tr>\n",
              "    <tr>\n",
              "      <th>51</th>\n",
              "      <td>51</td>\n",
              "      <td>0.08</td>\n",
              "    </tr>\n",
              "    <tr>\n",
              "      <th>52</th>\n",
              "      <td>52</td>\n",
              "      <td>0.33</td>\n",
              "    </tr>\n",
              "    <tr>\n",
              "      <th>53</th>\n",
              "      <td>53</td>\n",
              "      <td>0.08</td>\n",
              "    </tr>\n",
              "    <tr>\n",
              "      <th>54</th>\n",
              "      <td>54</td>\n",
              "      <td>0.07</td>\n",
              "    </tr>\n",
              "    <tr>\n",
              "      <th>55</th>\n",
              "      <td>55</td>\n",
              "      <td>0.07</td>\n",
              "    </tr>\n",
              "    <tr>\n",
              "      <th>56</th>\n",
              "      <td>56</td>\n",
              "      <td>4.19</td>\n",
              "    </tr>\n",
              "    <tr>\n",
              "      <th>57</th>\n",
              "      <td>57</td>\n",
              "      <td>3.43</td>\n",
              "    </tr>\n",
              "    <tr>\n",
              "      <th>58</th>\n",
              "      <td>58</td>\n",
              "      <td>0.07</td>\n",
              "    </tr>\n",
              "    <tr>\n",
              "      <th>59</th>\n",
              "      <td>59</td>\n",
              "      <td>0.07</td>\n",
              "    </tr>\n",
              "    <tr>\n",
              "      <th>60</th>\n",
              "      <td>60</td>\n",
              "      <td>0.07</td>\n",
              "    </tr>\n",
              "    <tr>\n",
              "      <th>61</th>\n",
              "      <td>61</td>\n",
              "      <td>0.74</td>\n",
              "    </tr>\n",
              "    <tr>\n",
              "      <th>62</th>\n",
              "      <td>62</td>\n",
              "      <td>0.55</td>\n",
              "    </tr>\n",
              "    <tr>\n",
              "      <th>63</th>\n",
              "      <td>63</td>\n",
              "      <td>0.07</td>\n",
              "    </tr>\n",
              "    <tr>\n",
              "      <th>64</th>\n",
              "      <td>64</td>\n",
              "      <td>0.07</td>\n",
              "    </tr>\n",
              "    <tr>\n",
              "      <th>65</th>\n",
              "      <td>65</td>\n",
              "      <td>0.07</td>\n",
              "    </tr>\n",
              "    <tr>\n",
              "      <th>66</th>\n",
              "      <td>66</td>\n",
              "      <td>0.64</td>\n",
              "    </tr>\n",
              "    <tr>\n",
              "      <th>67</th>\n",
              "      <td>67</td>\n",
              "      <td>0.08</td>\n",
              "    </tr>\n",
              "    <tr>\n",
              "      <th>68</th>\n",
              "      <td>68</td>\n",
              "      <td>0.07</td>\n",
              "    </tr>\n",
              "    <tr>\n",
              "      <th>69</th>\n",
              "      <td>69</td>\n",
              "      <td>0.08</td>\n",
              "    </tr>\n",
              "    <tr>\n",
              "      <th>70</th>\n",
              "      <td>70</td>\n",
              "      <td>0.07</td>\n",
              "    </tr>\n",
              "    <tr>\n",
              "      <th>71</th>\n",
              "      <td>71</td>\n",
              "      <td>0.07</td>\n",
              "    </tr>\n",
              "    <tr>\n",
              "      <th>72</th>\n",
              "      <td>72</td>\n",
              "      <td>0.08</td>\n",
              "    </tr>\n",
              "    <tr>\n",
              "      <th>73</th>\n",
              "      <td>73</td>\n",
              "      <td>1.33</td>\n",
              "    </tr>\n",
              "    <tr>\n",
              "      <th>74</th>\n",
              "      <td>74</td>\n",
              "      <td>0.07</td>\n",
              "    </tr>\n",
              "    <tr>\n",
              "      <th>75</th>\n",
              "      <td>75</td>\n",
              "      <td>0.07</td>\n",
              "    </tr>\n",
              "    <tr>\n",
              "      <th>76</th>\n",
              "      <td>76</td>\n",
              "      <td>0.20</td>\n",
              "    </tr>\n",
              "    <tr>\n",
              "      <th>77</th>\n",
              "      <td>77</td>\n",
              "      <td>0.07</td>\n",
              "    </tr>\n",
              "    <tr>\n",
              "      <th>78</th>\n",
              "      <td>78</td>\n",
              "      <td>1.06</td>\n",
              "    </tr>\n",
              "    <tr>\n",
              "      <th>79</th>\n",
              "      <td>79</td>\n",
              "      <td>0.07</td>\n",
              "    </tr>\n",
              "    <tr>\n",
              "      <th>80</th>\n",
              "      <td>80</td>\n",
              "      <td>0.07</td>\n",
              "    </tr>\n",
              "    <tr>\n",
              "      <th>81</th>\n",
              "      <td>81</td>\n",
              "      <td>0.07</td>\n",
              "    </tr>\n",
              "    <tr>\n",
              "      <th>82</th>\n",
              "      <td>82</td>\n",
              "      <td>0.07</td>\n",
              "    </tr>\n",
              "    <tr>\n",
              "      <th>83</th>\n",
              "      <td>83</td>\n",
              "      <td>0.07</td>\n",
              "    </tr>\n",
              "    <tr>\n",
              "      <th>84</th>\n",
              "      <td>84</td>\n",
              "      <td>1.29</td>\n",
              "    </tr>\n",
              "    <tr>\n",
              "      <th>85</th>\n",
              "      <td>85</td>\n",
              "      <td>1.21</td>\n",
              "    </tr>\n",
              "    <tr>\n",
              "      <th>86</th>\n",
              "      <td>86</td>\n",
              "      <td>0.90</td>\n",
              "    </tr>\n",
              "    <tr>\n",
              "      <th>87</th>\n",
              "      <td>87</td>\n",
              "      <td>0.06</td>\n",
              "    </tr>\n",
              "    <tr>\n",
              "      <th>88</th>\n",
              "      <td>88</td>\n",
              "      <td>2.75</td>\n",
              "    </tr>\n",
              "    <tr>\n",
              "      <th>89</th>\n",
              "      <td>89</td>\n",
              "      <td>1.09</td>\n",
              "    </tr>\n",
              "    <tr>\n",
              "      <th>90</th>\n",
              "      <td>90</td>\n",
              "      <td>0.07</td>\n",
              "    </tr>\n",
              "    <tr>\n",
              "      <th>91</th>\n",
              "      <td>91</td>\n",
              "      <td>0.07</td>\n",
              "    </tr>\n",
              "    <tr>\n",
              "      <th>92</th>\n",
              "      <td>92</td>\n",
              "      <td>0.07</td>\n",
              "    </tr>\n",
              "    <tr>\n",
              "      <th>93</th>\n",
              "      <td>93</td>\n",
              "      <td>0.07</td>\n",
              "    </tr>\n",
              "    <tr>\n",
              "      <th>94</th>\n",
              "      <td>94</td>\n",
              "      <td>0.07</td>\n",
              "    </tr>\n",
              "    <tr>\n",
              "      <th>95</th>\n",
              "      <td>95</td>\n",
              "      <td>0.05</td>\n",
              "    </tr>\n",
              "    <tr>\n",
              "      <th>96</th>\n",
              "      <td>96</td>\n",
              "      <td>0.07</td>\n",
              "    </tr>\n",
              "    <tr>\n",
              "      <th>97</th>\n",
              "      <td>97</td>\n",
              "      <td>0.74</td>\n",
              "    </tr>\n",
              "    <tr>\n",
              "      <th>98</th>\n",
              "      <td>98</td>\n",
              "      <td>0.78</td>\n",
              "    </tr>\n",
              "    <tr>\n",
              "      <th>99</th>\n",
              "      <td>99</td>\n",
              "      <td>1.76</td>\n",
              "    </tr>\n",
              "  </tbody>\n",
              "</table>\n",
              "</div>"
            ],
            "text/plain": [
              "    ID  item_cnt_month\n",
              "0    0            1.50\n",
              "1    1            0.07\n",
              "2    2            0.07\n",
              "3    3            0.07\n",
              "4    4            0.07\n",
              "5    5            0.91\n",
              "6    6            0.07\n",
              "7    7            0.07\n",
              "8    8            0.07\n",
              "9    9            0.07\n",
              "10  10            4.18\n",
              "11  11            0.07\n",
              "12  12            0.12\n",
              "13  13            0.07\n",
              "14  14            2.09\n",
              "15  15            1.53\n",
              "16  16            0.07\n",
              "17  17            0.24\n",
              "18  18            0.07\n",
              "19  19            0.20\n",
              "20  20            0.92\n",
              "21  21            0.07\n",
              "22  22            1.52\n",
              "23  23            1.07\n",
              "24  24            0.08\n",
              "25  25            0.08\n",
              "26  26            0.08\n",
              "27  27            1.19\n",
              "28  28            0.99\n",
              "29  29            0.08\n",
              "30  30            0.08\n",
              "31  31            0.08\n",
              "32  32            0.97\n",
              "33  33            0.88\n",
              "34  34            0.08\n",
              "35  35            0.08\n",
              "36  36            0.09\n",
              "37  37            0.93\n",
              "38  38            0.08\n",
              "39  39            0.08\n",
              "40  40            0.08\n",
              "41  41            1.99\n",
              "42  42            4.11\n",
              "43  43            4.99\n",
              "44  44            0.08\n",
              "45  45            0.08\n",
              "46  46            0.08\n",
              "47  47            0.08\n",
              "48  48            0.08\n",
              "49  49            0.08\n",
              "50  50            0.08\n",
              "51  51            0.08\n",
              "52  52            0.33\n",
              "53  53            0.08\n",
              "54  54            0.07\n",
              "55  55            0.07\n",
              "56  56            4.19\n",
              "57  57            3.43\n",
              "58  58            0.07\n",
              "59  59            0.07\n",
              "60  60            0.07\n",
              "61  61            0.74\n",
              "62  62            0.55\n",
              "63  63            0.07\n",
              "64  64            0.07\n",
              "65  65            0.07\n",
              "66  66            0.64\n",
              "67  67            0.08\n",
              "68  68            0.07\n",
              "69  69            0.08\n",
              "70  70            0.07\n",
              "71  71            0.07\n",
              "72  72            0.08\n",
              "73  73            1.33\n",
              "74  74            0.07\n",
              "75  75            0.07\n",
              "76  76            0.20\n",
              "77  77            0.07\n",
              "78  78            1.06\n",
              "79  79            0.07\n",
              "80  80            0.07\n",
              "81  81            0.07\n",
              "82  82            0.07\n",
              "83  83            0.07\n",
              "84  84            1.29\n",
              "85  85            1.21\n",
              "86  86            0.90\n",
              "87  87            0.06\n",
              "88  88            2.75\n",
              "89  89            1.09\n",
              "90  90            0.07\n",
              "91  91            0.07\n",
              "92  92            0.07\n",
              "93  93            0.07\n",
              "94  94            0.07\n",
              "95  95            0.05\n",
              "96  96            0.07\n",
              "97  97            0.74\n",
              "98  98            0.78\n",
              "99  99            1.76"
            ]
          },
          "metadata": {
            "tags": []
          },
          "execution_count": 110
        }
      ]
    },
    {
      "cell_type": "markdown",
      "metadata": {
        "id": "yofJz3a1v4cO",
        "colab_type": "text"
      },
      "source": [
        "## Make Submission File"
      ]
    },
    {
      "cell_type": "code",
      "metadata": {
        "id": "t7wYt5tTv1eF",
        "colab_type": "code",
        "colab": {}
      },
      "source": [
        "prediction_df.to_csv('submission.csv', index=False)"
      ],
      "execution_count": 0,
      "outputs": []
    },
    {
      "cell_type": "code",
      "metadata": {
        "id": "kRJ6HkrSwAom",
        "colab_type": "code",
        "outputId": "e0381626-8f6c-4e14-860d-86cf2be520b9",
        "colab": {
          "base_uri": "https://localhost:8080/",
          "height": 69
        }
      },
      "source": [
        "!kaggle competitions submit -c competitive-data-science-predict-future-sales -f submission.csv -m test"
      ],
      "execution_count": 107,
      "outputs": [
        {
          "output_type": "stream",
          "text": [
            "Warning: Looks like you're using an outdated API Version, please consider updating (server 1.5.6 / client 1.5.4)\n",
            "100% 5.36M/5.36M [00:02<00:00, 2.10MB/s]\n",
            "403 - Your team has used its submission allowance (5 of 5). This resets at midnight UTC (4.8 hours from now).\n"
          ],
          "name": "stdout"
        }
      ]
    },
    {
      "cell_type": "code",
      "metadata": {
        "id": "6lWM-0mbwOno",
        "colab_type": "code",
        "colab": {}
      },
      "source": [
        "from google.colab import files\n",
        "files.download('submission.csv')"
      ],
      "execution_count": 0,
      "outputs": []
    },
    {
      "cell_type": "code",
      "metadata": {
        "id": "V6brgtVOxhfE",
        "colab_type": "code",
        "colab": {
          "base_uri": "https://localhost:8080/",
          "height": 52
        },
        "outputId": "b6bb5fcd-d03e-422a-decb-bcb358dfa86b"
      },
      "source": [
        "xgb_val_pred"
      ],
      "execution_count": 109,
      "outputs": [
        {
          "output_type": "execute_result",
          "data": {
            "text/plain": [
              "array([0.05560297, 0.14384028, 0.21371803, ..., 0.06432623, 0.02801636,\n",
              "       0.1760872 ], dtype=float32)"
            ]
          },
          "metadata": {
            "tags": []
          },
          "execution_count": 109
        }
      ]
    },
    {
      "cell_type": "code",
      "metadata": {
        "id": "VF7I3PIBNJFJ",
        "colab_type": "code",
        "colab": {
          "base_uri": "https://localhost:8080/",
          "height": 1000
        },
        "outputId": "3d8dc5ab-1567-4444-da23-887e721fca8e"
      },
      "source": [
        "xgb_test = pd.DataFrame(catboost_test_pred, columns=['ID'])\n",
        "prediction_df = pd.DataFrame(test['ID'], columns=['ID'])\n",
        "prediction_df['item_cnt_month'] = xgb_test.clip(0., 20.)\n",
        "prediction_df.to_csv('submission.csv', index=False)\n",
        "prediction_df.head(100)"
      ],
      "execution_count": 111,
      "outputs": [
        {
          "output_type": "execute_result",
          "data": {
            "text/html": [
              "<div>\n",
              "<style scoped>\n",
              "    .dataframe tbody tr th:only-of-type {\n",
              "        vertical-align: middle;\n",
              "    }\n",
              "\n",
              "    .dataframe tbody tr th {\n",
              "        vertical-align: top;\n",
              "    }\n",
              "\n",
              "    .dataframe thead th {\n",
              "        text-align: right;\n",
              "    }\n",
              "</style>\n",
              "<table border=\"1\" class=\"dataframe\">\n",
              "  <thead>\n",
              "    <tr style=\"text-align: right;\">\n",
              "      <th></th>\n",
              "      <th>ID</th>\n",
              "      <th>item_cnt_month</th>\n",
              "    </tr>\n",
              "  </thead>\n",
              "  <tbody>\n",
              "    <tr>\n",
              "      <th>0</th>\n",
              "      <td>0</td>\n",
              "      <td>1.36</td>\n",
              "    </tr>\n",
              "    <tr>\n",
              "      <th>1</th>\n",
              "      <td>1</td>\n",
              "      <td>0.08</td>\n",
              "    </tr>\n",
              "    <tr>\n",
              "      <th>2</th>\n",
              "      <td>2</td>\n",
              "      <td>0.08</td>\n",
              "    </tr>\n",
              "    <tr>\n",
              "      <th>3</th>\n",
              "      <td>3</td>\n",
              "      <td>0.08</td>\n",
              "    </tr>\n",
              "    <tr>\n",
              "      <th>4</th>\n",
              "      <td>4</td>\n",
              "      <td>0.08</td>\n",
              "    </tr>\n",
              "    <tr>\n",
              "      <th>5</th>\n",
              "      <td>5</td>\n",
              "      <td>0.63</td>\n",
              "    </tr>\n",
              "    <tr>\n",
              "      <th>6</th>\n",
              "      <td>6</td>\n",
              "      <td>0.08</td>\n",
              "    </tr>\n",
              "    <tr>\n",
              "      <th>7</th>\n",
              "      <td>7</td>\n",
              "      <td>0.08</td>\n",
              "    </tr>\n",
              "    <tr>\n",
              "      <th>8</th>\n",
              "      <td>8</td>\n",
              "      <td>0.08</td>\n",
              "    </tr>\n",
              "    <tr>\n",
              "      <th>9</th>\n",
              "      <td>9</td>\n",
              "      <td>0.08</td>\n",
              "    </tr>\n",
              "    <tr>\n",
              "      <th>10</th>\n",
              "      <td>10</td>\n",
              "      <td>3.85</td>\n",
              "    </tr>\n",
              "    <tr>\n",
              "      <th>11</th>\n",
              "      <td>11</td>\n",
              "      <td>0.08</td>\n",
              "    </tr>\n",
              "    <tr>\n",
              "      <th>12</th>\n",
              "      <td>12</td>\n",
              "      <td>0.08</td>\n",
              "    </tr>\n",
              "    <tr>\n",
              "      <th>13</th>\n",
              "      <td>13</td>\n",
              "      <td>0.08</td>\n",
              "    </tr>\n",
              "    <tr>\n",
              "      <th>14</th>\n",
              "      <td>14</td>\n",
              "      <td>1.99</td>\n",
              "    </tr>\n",
              "    <tr>\n",
              "      <th>15</th>\n",
              "      <td>15</td>\n",
              "      <td>1.54</td>\n",
              "    </tr>\n",
              "    <tr>\n",
              "      <th>16</th>\n",
              "      <td>16</td>\n",
              "      <td>0.08</td>\n",
              "    </tr>\n",
              "    <tr>\n",
              "      <th>17</th>\n",
              "      <td>17</td>\n",
              "      <td>0.20</td>\n",
              "    </tr>\n",
              "    <tr>\n",
              "      <th>18</th>\n",
              "      <td>18</td>\n",
              "      <td>0.08</td>\n",
              "    </tr>\n",
              "    <tr>\n",
              "      <th>19</th>\n",
              "      <td>19</td>\n",
              "      <td>0.20</td>\n",
              "    </tr>\n",
              "    <tr>\n",
              "      <th>20</th>\n",
              "      <td>20</td>\n",
              "      <td>0.86</td>\n",
              "    </tr>\n",
              "    <tr>\n",
              "      <th>21</th>\n",
              "      <td>21</td>\n",
              "      <td>0.08</td>\n",
              "    </tr>\n",
              "    <tr>\n",
              "      <th>22</th>\n",
              "      <td>22</td>\n",
              "      <td>1.97</td>\n",
              "    </tr>\n",
              "    <tr>\n",
              "      <th>23</th>\n",
              "      <td>23</td>\n",
              "      <td>0.98</td>\n",
              "    </tr>\n",
              "    <tr>\n",
              "      <th>24</th>\n",
              "      <td>24</td>\n",
              "      <td>0.08</td>\n",
              "    </tr>\n",
              "    <tr>\n",
              "      <th>25</th>\n",
              "      <td>25</td>\n",
              "      <td>0.08</td>\n",
              "    </tr>\n",
              "    <tr>\n",
              "      <th>26</th>\n",
              "      <td>26</td>\n",
              "      <td>0.08</td>\n",
              "    </tr>\n",
              "    <tr>\n",
              "      <th>27</th>\n",
              "      <td>27</td>\n",
              "      <td>1.16</td>\n",
              "    </tr>\n",
              "    <tr>\n",
              "      <th>28</th>\n",
              "      <td>28</td>\n",
              "      <td>1.10</td>\n",
              "    </tr>\n",
              "    <tr>\n",
              "      <th>29</th>\n",
              "      <td>29</td>\n",
              "      <td>0.08</td>\n",
              "    </tr>\n",
              "    <tr>\n",
              "      <th>30</th>\n",
              "      <td>30</td>\n",
              "      <td>0.08</td>\n",
              "    </tr>\n",
              "    <tr>\n",
              "      <th>31</th>\n",
              "      <td>31</td>\n",
              "      <td>0.08</td>\n",
              "    </tr>\n",
              "    <tr>\n",
              "      <th>32</th>\n",
              "      <td>32</td>\n",
              "      <td>1.12</td>\n",
              "    </tr>\n",
              "    <tr>\n",
              "      <th>33</th>\n",
              "      <td>33</td>\n",
              "      <td>1.13</td>\n",
              "    </tr>\n",
              "    <tr>\n",
              "      <th>34</th>\n",
              "      <td>34</td>\n",
              "      <td>0.08</td>\n",
              "    </tr>\n",
              "    <tr>\n",
              "      <th>35</th>\n",
              "      <td>35</td>\n",
              "      <td>0.13</td>\n",
              "    </tr>\n",
              "    <tr>\n",
              "      <th>36</th>\n",
              "      <td>36</td>\n",
              "      <td>0.16</td>\n",
              "    </tr>\n",
              "    <tr>\n",
              "      <th>37</th>\n",
              "      <td>37</td>\n",
              "      <td>1.13</td>\n",
              "    </tr>\n",
              "    <tr>\n",
              "      <th>38</th>\n",
              "      <td>38</td>\n",
              "      <td>0.08</td>\n",
              "    </tr>\n",
              "    <tr>\n",
              "      <th>39</th>\n",
              "      <td>39</td>\n",
              "      <td>0.08</td>\n",
              "    </tr>\n",
              "    <tr>\n",
              "      <th>40</th>\n",
              "      <td>40</td>\n",
              "      <td>0.08</td>\n",
              "    </tr>\n",
              "    <tr>\n",
              "      <th>41</th>\n",
              "      <td>41</td>\n",
              "      <td>2.37</td>\n",
              "    </tr>\n",
              "    <tr>\n",
              "      <th>42</th>\n",
              "      <td>42</td>\n",
              "      <td>5.37</td>\n",
              "    </tr>\n",
              "    <tr>\n",
              "      <th>43</th>\n",
              "      <td>43</td>\n",
              "      <td>5.66</td>\n",
              "    </tr>\n",
              "    <tr>\n",
              "      <th>44</th>\n",
              "      <td>44</td>\n",
              "      <td>0.08</td>\n",
              "    </tr>\n",
              "    <tr>\n",
              "      <th>45</th>\n",
              "      <td>45</td>\n",
              "      <td>0.08</td>\n",
              "    </tr>\n",
              "    <tr>\n",
              "      <th>46</th>\n",
              "      <td>46</td>\n",
              "      <td>0.08</td>\n",
              "    </tr>\n",
              "    <tr>\n",
              "      <th>47</th>\n",
              "      <td>47</td>\n",
              "      <td>0.08</td>\n",
              "    </tr>\n",
              "    <tr>\n",
              "      <th>48</th>\n",
              "      <td>48</td>\n",
              "      <td>0.08</td>\n",
              "    </tr>\n",
              "    <tr>\n",
              "      <th>49</th>\n",
              "      <td>49</td>\n",
              "      <td>0.08</td>\n",
              "    </tr>\n",
              "    <tr>\n",
              "      <th>50</th>\n",
              "      <td>50</td>\n",
              "      <td>0.08</td>\n",
              "    </tr>\n",
              "    <tr>\n",
              "      <th>51</th>\n",
              "      <td>51</td>\n",
              "      <td>0.08</td>\n",
              "    </tr>\n",
              "    <tr>\n",
              "      <th>52</th>\n",
              "      <td>52</td>\n",
              "      <td>0.27</td>\n",
              "    </tr>\n",
              "    <tr>\n",
              "      <th>53</th>\n",
              "      <td>53</td>\n",
              "      <td>0.08</td>\n",
              "    </tr>\n",
              "    <tr>\n",
              "      <th>54</th>\n",
              "      <td>54</td>\n",
              "      <td>0.08</td>\n",
              "    </tr>\n",
              "    <tr>\n",
              "      <th>55</th>\n",
              "      <td>55</td>\n",
              "      <td>0.08</td>\n",
              "    </tr>\n",
              "    <tr>\n",
              "      <th>56</th>\n",
              "      <td>56</td>\n",
              "      <td>3.96</td>\n",
              "    </tr>\n",
              "    <tr>\n",
              "      <th>57</th>\n",
              "      <td>57</td>\n",
              "      <td>3.18</td>\n",
              "    </tr>\n",
              "    <tr>\n",
              "      <th>58</th>\n",
              "      <td>58</td>\n",
              "      <td>0.08</td>\n",
              "    </tr>\n",
              "    <tr>\n",
              "      <th>59</th>\n",
              "      <td>59</td>\n",
              "      <td>0.08</td>\n",
              "    </tr>\n",
              "    <tr>\n",
              "      <th>60</th>\n",
              "      <td>60</td>\n",
              "      <td>0.08</td>\n",
              "    </tr>\n",
              "    <tr>\n",
              "      <th>61</th>\n",
              "      <td>61</td>\n",
              "      <td>0.56</td>\n",
              "    </tr>\n",
              "    <tr>\n",
              "      <th>62</th>\n",
              "      <td>62</td>\n",
              "      <td>0.55</td>\n",
              "    </tr>\n",
              "    <tr>\n",
              "      <th>63</th>\n",
              "      <td>63</td>\n",
              "      <td>0.08</td>\n",
              "    </tr>\n",
              "    <tr>\n",
              "      <th>64</th>\n",
              "      <td>64</td>\n",
              "      <td>0.08</td>\n",
              "    </tr>\n",
              "    <tr>\n",
              "      <th>65</th>\n",
              "      <td>65</td>\n",
              "      <td>0.08</td>\n",
              "    </tr>\n",
              "    <tr>\n",
              "      <th>66</th>\n",
              "      <td>66</td>\n",
              "      <td>0.58</td>\n",
              "    </tr>\n",
              "    <tr>\n",
              "      <th>67</th>\n",
              "      <td>67</td>\n",
              "      <td>0.06</td>\n",
              "    </tr>\n",
              "    <tr>\n",
              "      <th>68</th>\n",
              "      <td>68</td>\n",
              "      <td>0.08</td>\n",
              "    </tr>\n",
              "    <tr>\n",
              "      <th>69</th>\n",
              "      <td>69</td>\n",
              "      <td>0.14</td>\n",
              "    </tr>\n",
              "    <tr>\n",
              "      <th>70</th>\n",
              "      <td>70</td>\n",
              "      <td>0.08</td>\n",
              "    </tr>\n",
              "    <tr>\n",
              "      <th>71</th>\n",
              "      <td>71</td>\n",
              "      <td>0.08</td>\n",
              "    </tr>\n",
              "    <tr>\n",
              "      <th>72</th>\n",
              "      <td>72</td>\n",
              "      <td>0.12</td>\n",
              "    </tr>\n",
              "    <tr>\n",
              "      <th>73</th>\n",
              "      <td>73</td>\n",
              "      <td>1.84</td>\n",
              "    </tr>\n",
              "    <tr>\n",
              "      <th>74</th>\n",
              "      <td>74</td>\n",
              "      <td>0.08</td>\n",
              "    </tr>\n",
              "    <tr>\n",
              "      <th>75</th>\n",
              "      <td>75</td>\n",
              "      <td>0.08</td>\n",
              "    </tr>\n",
              "    <tr>\n",
              "      <th>76</th>\n",
              "      <td>76</td>\n",
              "      <td>0.16</td>\n",
              "    </tr>\n",
              "    <tr>\n",
              "      <th>77</th>\n",
              "      <td>77</td>\n",
              "      <td>0.08</td>\n",
              "    </tr>\n",
              "    <tr>\n",
              "      <th>78</th>\n",
              "      <td>78</td>\n",
              "      <td>1.50</td>\n",
              "    </tr>\n",
              "    <tr>\n",
              "      <th>79</th>\n",
              "      <td>79</td>\n",
              "      <td>0.08</td>\n",
              "    </tr>\n",
              "    <tr>\n",
              "      <th>80</th>\n",
              "      <td>80</td>\n",
              "      <td>0.08</td>\n",
              "    </tr>\n",
              "    <tr>\n",
              "      <th>81</th>\n",
              "      <td>81</td>\n",
              "      <td>0.08</td>\n",
              "    </tr>\n",
              "    <tr>\n",
              "      <th>82</th>\n",
              "      <td>82</td>\n",
              "      <td>0.08</td>\n",
              "    </tr>\n",
              "    <tr>\n",
              "      <th>83</th>\n",
              "      <td>83</td>\n",
              "      <td>0.08</td>\n",
              "    </tr>\n",
              "    <tr>\n",
              "      <th>84</th>\n",
              "      <td>84</td>\n",
              "      <td>1.29</td>\n",
              "    </tr>\n",
              "    <tr>\n",
              "      <th>85</th>\n",
              "      <td>85</td>\n",
              "      <td>1.31</td>\n",
              "    </tr>\n",
              "    <tr>\n",
              "      <th>86</th>\n",
              "      <td>86</td>\n",
              "      <td>0.90</td>\n",
              "    </tr>\n",
              "    <tr>\n",
              "      <th>87</th>\n",
              "      <td>87</td>\n",
              "      <td>0.08</td>\n",
              "    </tr>\n",
              "    <tr>\n",
              "      <th>88</th>\n",
              "      <td>88</td>\n",
              "      <td>2.82</td>\n",
              "    </tr>\n",
              "    <tr>\n",
              "      <th>89</th>\n",
              "      <td>89</td>\n",
              "      <td>1.14</td>\n",
              "    </tr>\n",
              "    <tr>\n",
              "      <th>90</th>\n",
              "      <td>90</td>\n",
              "      <td>0.08</td>\n",
              "    </tr>\n",
              "    <tr>\n",
              "      <th>91</th>\n",
              "      <td>91</td>\n",
              "      <td>0.08</td>\n",
              "    </tr>\n",
              "    <tr>\n",
              "      <th>92</th>\n",
              "      <td>92</td>\n",
              "      <td>0.08</td>\n",
              "    </tr>\n",
              "    <tr>\n",
              "      <th>93</th>\n",
              "      <td>93</td>\n",
              "      <td>0.08</td>\n",
              "    </tr>\n",
              "    <tr>\n",
              "      <th>94</th>\n",
              "      <td>94</td>\n",
              "      <td>0.08</td>\n",
              "    </tr>\n",
              "    <tr>\n",
              "      <th>95</th>\n",
              "      <td>95</td>\n",
              "      <td>0.05</td>\n",
              "    </tr>\n",
              "    <tr>\n",
              "      <th>96</th>\n",
              "      <td>96</td>\n",
              "      <td>0.08</td>\n",
              "    </tr>\n",
              "    <tr>\n",
              "      <th>97</th>\n",
              "      <td>97</td>\n",
              "      <td>0.74</td>\n",
              "    </tr>\n",
              "    <tr>\n",
              "      <th>98</th>\n",
              "      <td>98</td>\n",
              "      <td>0.91</td>\n",
              "    </tr>\n",
              "    <tr>\n",
              "      <th>99</th>\n",
              "      <td>99</td>\n",
              "      <td>1.75</td>\n",
              "    </tr>\n",
              "  </tbody>\n",
              "</table>\n",
              "</div>"
            ],
            "text/plain": [
              "    ID  item_cnt_month\n",
              "0    0            1.36\n",
              "1    1            0.08\n",
              "2    2            0.08\n",
              "3    3            0.08\n",
              "4    4            0.08\n",
              "5    5            0.63\n",
              "6    6            0.08\n",
              "7    7            0.08\n",
              "8    8            0.08\n",
              "9    9            0.08\n",
              "10  10            3.85\n",
              "11  11            0.08\n",
              "12  12            0.08\n",
              "13  13            0.08\n",
              "14  14            1.99\n",
              "15  15            1.54\n",
              "16  16            0.08\n",
              "17  17            0.20\n",
              "18  18            0.08\n",
              "19  19            0.20\n",
              "20  20            0.86\n",
              "21  21            0.08\n",
              "22  22            1.97\n",
              "23  23            0.98\n",
              "24  24            0.08\n",
              "25  25            0.08\n",
              "26  26            0.08\n",
              "27  27            1.16\n",
              "28  28            1.10\n",
              "29  29            0.08\n",
              "30  30            0.08\n",
              "31  31            0.08\n",
              "32  32            1.12\n",
              "33  33            1.13\n",
              "34  34            0.08\n",
              "35  35            0.13\n",
              "36  36            0.16\n",
              "37  37            1.13\n",
              "38  38            0.08\n",
              "39  39            0.08\n",
              "40  40            0.08\n",
              "41  41            2.37\n",
              "42  42            5.37\n",
              "43  43            5.66\n",
              "44  44            0.08\n",
              "45  45            0.08\n",
              "46  46            0.08\n",
              "47  47            0.08\n",
              "48  48            0.08\n",
              "49  49            0.08\n",
              "50  50            0.08\n",
              "51  51            0.08\n",
              "52  52            0.27\n",
              "53  53            0.08\n",
              "54  54            0.08\n",
              "55  55            0.08\n",
              "56  56            3.96\n",
              "57  57            3.18\n",
              "58  58            0.08\n",
              "59  59            0.08\n",
              "60  60            0.08\n",
              "61  61            0.56\n",
              "62  62            0.55\n",
              "63  63            0.08\n",
              "64  64            0.08\n",
              "65  65            0.08\n",
              "66  66            0.58\n",
              "67  67            0.06\n",
              "68  68            0.08\n",
              "69  69            0.14\n",
              "70  70            0.08\n",
              "71  71            0.08\n",
              "72  72            0.12\n",
              "73  73            1.84\n",
              "74  74            0.08\n",
              "75  75            0.08\n",
              "76  76            0.16\n",
              "77  77            0.08\n",
              "78  78            1.50\n",
              "79  79            0.08\n",
              "80  80            0.08\n",
              "81  81            0.08\n",
              "82  82            0.08\n",
              "83  83            0.08\n",
              "84  84            1.29\n",
              "85  85            1.31\n",
              "86  86            0.90\n",
              "87  87            0.08\n",
              "88  88            2.82\n",
              "89  89            1.14\n",
              "90  90            0.08\n",
              "91  91            0.08\n",
              "92  92            0.08\n",
              "93  93            0.08\n",
              "94  94            0.08\n",
              "95  95            0.05\n",
              "96  96            0.08\n",
              "97  97            0.74\n",
              "98  98            0.91\n",
              "99  99            1.75"
            ]
          },
          "metadata": {
            "tags": []
          },
          "execution_count": 111
        }
      ]
    },
    {
      "cell_type": "code",
      "metadata": {
        "id": "HNy48HnwP-b_",
        "colab_type": "code",
        "colab": {}
      },
      "source": [
        "from google.colab import files\n",
        "files.download('submission.csv')"
      ],
      "execution_count": 0,
      "outputs": []
    },
    {
      "cell_type": "code",
      "metadata": {
        "id": "PyTDBUCjQCnb",
        "colab_type": "code",
        "colab": {}
      },
      "source": [
        ""
      ],
      "execution_count": 0,
      "outputs": []
    }
  ]
}